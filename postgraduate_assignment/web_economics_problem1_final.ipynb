{
 "cells": [
  {
   "cell_type": "code",
   "execution_count": 68,
   "metadata": {
    "collapsed": true
   },
   "outputs": [],
   "source": [
    "import requests\n",
    "# Import libraries to be used\n",
    "import matplotlib.pyplot as plt\n",
    "import numpy as np\n",
    "import pandas as pd\n",
    "from pandas import Series,DataFrame\n",
    "import math\n",
    "import seaborn as sns\n",
    "from matplotlib import gridspec\n",
    "\n",
    "# Magic to show the plots within the notebook:\n",
    "%matplotlib inline \n",
    "\n",
    "pd.set_option('display.max_rows', 300) # specifies number of rows to show"
   ]
  },
  {
   "cell_type": "code",
   "execution_count": 3,
   "metadata": {
    "collapsed": true
   },
   "outputs": [],
   "source": [
    "df_train = pd.read_csv('train.csv')"
   ]
  },
  {
   "cell_type": "code",
   "execution_count": 4,
   "metadata": {
    "collapsed": false
   },
   "outputs": [
    {
     "data": {
      "text/html": [
       "<div>\n",
       "<table border=\"1\" class=\"dataframe\">\n",
       "  <thead>\n",
       "    <tr style=\"text-align: right;\">\n",
       "      <th></th>\n",
       "      <th>click</th>\n",
       "      <th>weekday</th>\n",
       "      <th>hour</th>\n",
       "      <th>bidid</th>\n",
       "      <th>logtype</th>\n",
       "      <th>userid</th>\n",
       "      <th>useragent</th>\n",
       "      <th>IP</th>\n",
       "      <th>region</th>\n",
       "      <th>city</th>\n",
       "      <th>...</th>\n",
       "      <th>slotheight</th>\n",
       "      <th>slotvisibility</th>\n",
       "      <th>slotformat</th>\n",
       "      <th>slotprice</th>\n",
       "      <th>creative</th>\n",
       "      <th>bidprice</th>\n",
       "      <th>payprice</th>\n",
       "      <th>keypage</th>\n",
       "      <th>advertiser</th>\n",
       "      <th>usertag</th>\n",
       "    </tr>\n",
       "  </thead>\n",
       "  <tbody>\n",
       "    <tr>\n",
       "      <th>2697733</th>\n",
       "      <td>0</td>\n",
       "      <td>2</td>\n",
       "      <td>17</td>\n",
       "      <td>a7949139c6ac6b857d22dbd098bbff23</td>\n",
       "      <td>1</td>\n",
       "      <td>u_Vh1DCeT0DqEyJOj</td>\n",
       "      <td>windows_ie</td>\n",
       "      <td>123.191.94.*</td>\n",
       "      <td>40</td>\n",
       "      <td>41</td>\n",
       "      <td>...</td>\n",
       "      <td>90</td>\n",
       "      <td>0</td>\n",
       "      <td>0</td>\n",
       "      <td>70</td>\n",
       "      <td>c46090c887c257b61ab1fa11baee91d8</td>\n",
       "      <td>241</td>\n",
       "      <td>77</td>\n",
       "      <td>0f951a030abdaedd733ee8d114ce2944</td>\n",
       "      <td>3427</td>\n",
       "      <td>10063,10059,10111</td>\n",
       "    </tr>\n",
       "    <tr>\n",
       "      <th>2697734</th>\n",
       "      <td>0</td>\n",
       "      <td>3</td>\n",
       "      <td>15</td>\n",
       "      <td>28d5ba2b59911217d93c99969053172e</td>\n",
       "      <td>1</td>\n",
       "      <td>u_VhTdLe1dPob9jmB</td>\n",
       "      <td>windows_chrome</td>\n",
       "      <td>112.90.239.*</td>\n",
       "      <td>216</td>\n",
       "      <td>231</td>\n",
       "      <td>...</td>\n",
       "      <td>90</td>\n",
       "      <td>0</td>\n",
       "      <td>0</td>\n",
       "      <td>133</td>\n",
       "      <td>7184c9560e68e977187e67e45a4f3198</td>\n",
       "      <td>238</td>\n",
       "      <td>149</td>\n",
       "      <td>0f951a030abdaedd733ee8d114ce2944</td>\n",
       "      <td>3427</td>\n",
       "      <td>13800,10024,10057</td>\n",
       "    </tr>\n",
       "    <tr>\n",
       "      <th>2697735</th>\n",
       "      <td>0</td>\n",
       "      <td>2</td>\n",
       "      <td>0</td>\n",
       "      <td>42c67d24b0adb9f269e365d4ec76f7e0</td>\n",
       "      <td>1</td>\n",
       "      <td>u_VhCEL3qtL2j9DVf</td>\n",
       "      <td>windows_ie</td>\n",
       "      <td>123.88.195.*</td>\n",
       "      <td>216</td>\n",
       "      <td>217</td>\n",
       "      <td>...</td>\n",
       "      <td>250</td>\n",
       "      <td>2</td>\n",
       "      <td>0</td>\n",
       "      <td>5</td>\n",
       "      <td>8dff45ed862a740986dbe688aafee7e5</td>\n",
       "      <td>249</td>\n",
       "      <td>77</td>\n",
       "      <td>15b749127478946f161a54dc0dad27c8</td>\n",
       "      <td>3476</td>\n",
       "      <td>10057,10063,13866,10006,10110</td>\n",
       "    </tr>\n",
       "    <tr>\n",
       "      <th>2697736</th>\n",
       "      <td>0</td>\n",
       "      <td>0</td>\n",
       "      <td>19</td>\n",
       "      <td>9792657ec784429e5720a2e1dbd496f4</td>\n",
       "      <td>1</td>\n",
       "      <td>u_VhdALuRIP9FOjBB</td>\n",
       "      <td>windows_other</td>\n",
       "      <td>112.228.125.*</td>\n",
       "      <td>146</td>\n",
       "      <td>159</td>\n",
       "      <td>...</td>\n",
       "      <td>90</td>\n",
       "      <td>0</td>\n",
       "      <td>0</td>\n",
       "      <td>20</td>\n",
       "      <td>d01411218cc79bc49d2a4078c4093b76</td>\n",
       "      <td>241</td>\n",
       "      <td>95</td>\n",
       "      <td>b2e35064f3549d447edbbdfb1f707c8c</td>\n",
       "      <td>3427</td>\n",
       "      <td>10006,10063,10059,10110</td>\n",
       "    </tr>\n",
       "    <tr>\n",
       "      <th>2697737</th>\n",
       "      <td>0</td>\n",
       "      <td>1</td>\n",
       "      <td>0</td>\n",
       "      <td>459006debcd6ae06a3fa0bea497f6b6b</td>\n",
       "      <td>1</td>\n",
       "      <td>u_Vhk0Pwf8P4cflsc</td>\n",
       "      <td>windows_ie</td>\n",
       "      <td>123.83.105.*</td>\n",
       "      <td>65</td>\n",
       "      <td>66</td>\n",
       "      <td>...</td>\n",
       "      <td>90</td>\n",
       "      <td>1</td>\n",
       "      <td>0</td>\n",
       "      <td>5</td>\n",
       "      <td>b90c12ed2bd7950c6027bf9c6937c48a</td>\n",
       "      <td>300</td>\n",
       "      <td>31</td>\n",
       "      <td>361e128affece850342293213691a043</td>\n",
       "      <td>3386</td>\n",
       "      <td>10006,10063,10059,10052,10093,10083,10111</td>\n",
       "    </tr>\n",
       "  </tbody>\n",
       "</table>\n",
       "<p>5 rows × 26 columns</p>\n",
       "</div>"
      ],
      "text/plain": [
       "         click  weekday  hour                             bidid  logtype  \\\n",
       "2697733      0        2    17  a7949139c6ac6b857d22dbd098bbff23        1   \n",
       "2697734      0        3    15  28d5ba2b59911217d93c99969053172e        1   \n",
       "2697735      0        2     0  42c67d24b0adb9f269e365d4ec76f7e0        1   \n",
       "2697736      0        0    19  9792657ec784429e5720a2e1dbd496f4        1   \n",
       "2697737      0        1     0  459006debcd6ae06a3fa0bea497f6b6b        1   \n",
       "\n",
       "                    userid       useragent             IP  region  city  \\\n",
       "2697733  u_Vh1DCeT0DqEyJOj      windows_ie   123.191.94.*      40    41   \n",
       "2697734  u_VhTdLe1dPob9jmB  windows_chrome   112.90.239.*     216   231   \n",
       "2697735  u_VhCEL3qtL2j9DVf      windows_ie   123.88.195.*     216   217   \n",
       "2697736  u_VhdALuRIP9FOjBB   windows_other  112.228.125.*     146   159   \n",
       "2697737  u_Vhk0Pwf8P4cflsc      windows_ie   123.83.105.*      65    66   \n",
       "\n",
       "                           ...                     slotheight slotvisibility  \\\n",
       "2697733                    ...                             90              0   \n",
       "2697734                    ...                             90              0   \n",
       "2697735                    ...                            250              2   \n",
       "2697736                    ...                             90              0   \n",
       "2697737                    ...                             90              1   \n",
       "\n",
       "        slotformat slotprice                          creative  bidprice  \\\n",
       "2697733          0        70  c46090c887c257b61ab1fa11baee91d8       241   \n",
       "2697734          0       133  7184c9560e68e977187e67e45a4f3198       238   \n",
       "2697735          0         5  8dff45ed862a740986dbe688aafee7e5       249   \n",
       "2697736          0        20  d01411218cc79bc49d2a4078c4093b76       241   \n",
       "2697737          0         5  b90c12ed2bd7950c6027bf9c6937c48a       300   \n",
       "\n",
       "         payprice                           keypage advertiser  \\\n",
       "2697733        77  0f951a030abdaedd733ee8d114ce2944       3427   \n",
       "2697734       149  0f951a030abdaedd733ee8d114ce2944       3427   \n",
       "2697735        77  15b749127478946f161a54dc0dad27c8       3476   \n",
       "2697736        95  b2e35064f3549d447edbbdfb1f707c8c       3427   \n",
       "2697737        31  361e128affece850342293213691a043       3386   \n",
       "\n",
       "                                           usertag  \n",
       "2697733                          10063,10059,10111  \n",
       "2697734                          13800,10024,10057  \n",
       "2697735              10057,10063,13866,10006,10110  \n",
       "2697736                    10006,10063,10059,10110  \n",
       "2697737  10006,10063,10059,10052,10093,10083,10111  \n",
       "\n",
       "[5 rows x 26 columns]"
      ]
     },
     "execution_count": 4,
     "metadata": {},
     "output_type": "execute_result"
    }
   ],
   "source": [
    "df_train.tail()"
   ]
  },
  {
   "cell_type": "code",
   "execution_count": 5,
   "metadata": {
    "collapsed": false
   },
   "outputs": [
    {
     "name": "stdout",
     "output_type": "stream",
     "text": [
      "------ hour (1458) ------\n",
      "False      36699\n",
      "True     2661039\n",
      "dtype: int64\n"
     ]
    }
   ],
   "source": [
    "check = df_train['bidprice']>df_train['payprice']\n",
    "pd.DataFrame(check)\n",
    "\n",
    "print('------ hour (1458) ------')\n",
    "print(check.value_counts().sort_index(ascending=True))"
   ]
  },
  {
   "cell_type": "code",
   "execution_count": 6,
   "metadata": {
    "collapsed": true
   },
   "outputs": [],
   "source": [
    "df_1458 = df_train.loc[df_train.advertiser == 1458]\n",
    "df_3358 = df_train.loc[df_train.advertiser == 3358]"
   ]
  },
  {
   "cell_type": "markdown",
   "metadata": {},
   "source": [
    "# Outline"
   ]
  },
  {
   "cell_type": "markdown",
   "metadata": {},
   "source": [
    "**(1) Basic Statistics**  \n",
    "**(2) User Feedback** ... depict a graph for each feature\n",
    "    - Weekday\n",
    "    - Hour\n",
    "    - OS\n",
    "    - Browser\n",
    "    - Region\n",
    "    - Slotsize\n",
    "    - Adexchange\n",
    "    (- All) "
   ]
  },
  {
   "cell_type": "markdown",
   "metadata": {},
   "source": [
    "# (1) Basic Statistics"
   ]
  },
  {
   "cell_type": "code",
   "execution_count": 70,
   "metadata": {
    "collapsed": true
   },
   "outputs": [],
   "source": [
    "# Imps\n",
    "Imps = df_train['advertiser'].value_counts().sort_index(ascending=False)\n",
    "# Clicks\n",
    "Clicks = df_train.pivot_table(index='advertiser',values='click', aggfunc = 'sum')\n",
    "# Cost\n",
    "Cost_fen = df_train.pivot_table(index='advertiser',values='payprice', aggfunc = 'sum')\n",
    "Cost = Cost_fen/1000\n",
    "Cost = round(Cost, 0)\n",
    "# CTR\n",
    "CTR_rate = Clicks / Imps\n",
    "CTR = round((CTR_rate*100), 3).astype(str) + '%'\n",
    "# CPM\n",
    "CPM = Cost*1000/Imps\n",
    "# eCPC\n",
    "eCPC = Cost/Clicks\n",
    "\n",
    "stat = pd.concat([Imps, Clicks, Cost, CTR, CPM, eCPC], axis=1)\n",
    "stat.columns = ['Imps', 'Clicks', 'Cost', 'CTR', 'CPM', 'eCPC']"
   ]
  },
  {
   "cell_type": "code",
   "execution_count": 71,
   "metadata": {
    "collapsed": false
   },
   "outputs": [
    {
     "data": {
      "text/html": [
       "<div>\n",
       "<table border=\"1\" class=\"dataframe\">\n",
       "  <thead>\n",
       "    <tr style=\"text-align: right;\">\n",
       "      <th></th>\n",
       "      <th>Imps</th>\n",
       "      <th>Clicks</th>\n",
       "      <th>Cost</th>\n",
       "      <th>CTR</th>\n",
       "      <th>CPM</th>\n",
       "      <th>eCPC</th>\n",
       "    </tr>\n",
       "    <tr>\n",
       "      <th>advertiser</th>\n",
       "      <th></th>\n",
       "      <th></th>\n",
       "      <th></th>\n",
       "      <th></th>\n",
       "      <th></th>\n",
       "      <th></th>\n",
       "    </tr>\n",
       "  </thead>\n",
       "  <tbody>\n",
       "    <tr>\n",
       "      <th>1458</th>\n",
       "      <td>540293</td>\n",
       "      <td>451</td>\n",
       "      <td>37231.0</td>\n",
       "      <td>0.083%</td>\n",
       "      <td>68.908907</td>\n",
       "      <td>82.552106</td>\n",
       "    </tr>\n",
       "    <tr>\n",
       "      <th>2259</th>\n",
       "      <td>146778</td>\n",
       "      <td>45</td>\n",
       "      <td>13649.0</td>\n",
       "      <td>0.031%</td>\n",
       "      <td>92.990775</td>\n",
       "      <td>303.311111</td>\n",
       "    </tr>\n",
       "    <tr>\n",
       "      <th>2261</th>\n",
       "      <td>120619</td>\n",
       "      <td>37</td>\n",
       "      <td>10789.0</td>\n",
       "      <td>0.031%</td>\n",
       "      <td>89.446936</td>\n",
       "      <td>291.594595</td>\n",
       "    </tr>\n",
       "    <tr>\n",
       "      <th>2821</th>\n",
       "      <td>231416</td>\n",
       "      <td>144</td>\n",
       "      <td>20626.0</td>\n",
       "      <td>0.062%</td>\n",
       "      <td>89.129533</td>\n",
       "      <td>143.236111</td>\n",
       "    </tr>\n",
       "    <tr>\n",
       "      <th>2997</th>\n",
       "      <td>54487</td>\n",
       "      <td>251</td>\n",
       "      <td>3413.0</td>\n",
       "      <td>0.461%</td>\n",
       "      <td>62.638795</td>\n",
       "      <td>13.597610</td>\n",
       "    </tr>\n",
       "    <tr>\n",
       "      <th>3358</th>\n",
       "      <td>304782</td>\n",
       "      <td>233</td>\n",
       "      <td>28145.0</td>\n",
       "      <td>0.076%</td>\n",
       "      <td>92.344692</td>\n",
       "      <td>120.793991</td>\n",
       "    </tr>\n",
       "    <tr>\n",
       "      <th>3386</th>\n",
       "      <td>498554</td>\n",
       "      <td>358</td>\n",
       "      <td>38341.0</td>\n",
       "      <td>0.072%</td>\n",
       "      <td>76.904408</td>\n",
       "      <td>107.097765</td>\n",
       "    </tr>\n",
       "    <tr>\n",
       "      <th>3427</th>\n",
       "      <td>454031</td>\n",
       "      <td>340</td>\n",
       "      <td>36820.0</td>\n",
       "      <td>0.075%</td>\n",
       "      <td>81.095784</td>\n",
       "      <td>108.294118</td>\n",
       "    </tr>\n",
       "    <tr>\n",
       "      <th>3476</th>\n",
       "      <td>346778</td>\n",
       "      <td>175</td>\n",
       "      <td>27481.0</td>\n",
       "      <td>0.05%</td>\n",
       "      <td>79.246665</td>\n",
       "      <td>157.034286</td>\n",
       "    </tr>\n",
       "  </tbody>\n",
       "</table>\n",
       "</div>"
      ],
      "text/plain": [
       "              Imps  Clicks     Cost     CTR        CPM        eCPC\n",
       "advertiser                                                        \n",
       "1458        540293     451  37231.0  0.083%  68.908907   82.552106\n",
       "2259        146778      45  13649.0  0.031%  92.990775  303.311111\n",
       "2261        120619      37  10789.0  0.031%  89.446936  291.594595\n",
       "2821        231416     144  20626.0  0.062%  89.129533  143.236111\n",
       "2997         54487     251   3413.0  0.461%  62.638795   13.597610\n",
       "3358        304782     233  28145.0  0.076%  92.344692  120.793991\n",
       "3386        498554     358  38341.0  0.072%  76.904408  107.097765\n",
       "3427        454031     340  36820.0  0.075%  81.095784  108.294118\n",
       "3476        346778     175  27481.0   0.05%  79.246665  157.034286"
      ]
     },
     "execution_count": 71,
     "metadata": {},
     "output_type": "execute_result"
    }
   ],
   "source": [
    "stat"
   ]
  },
  {
   "cell_type": "markdown",
   "metadata": {},
   "source": [
    "# (2) User Feedback "
   ]
  },
  {
   "cell_type": "markdown",
   "metadata": {},
   "source": [
    "# Weekday"
   ]
  },
  {
   "cell_type": "code",
   "execution_count": 7,
   "metadata": {
    "collapsed": false
   },
   "outputs": [],
   "source": [
    "weekday1458 = df_1458[[\"click\", 'weekday']] \n",
    "weekday3358 = df_3358[[\"click\", 'weekday']]"
   ]
  },
  {
   "cell_type": "code",
   "execution_count": 8,
   "metadata": {
    "collapsed": false
   },
   "outputs": [],
   "source": [
    "weekday1458_g = weekday1458.groupby('weekday')\n",
    "weekday3358_g = weekday3358.groupby('weekday')\n",
    "\n",
    "n_of_click_1458 = weekday1458_g.sum().click\n",
    "n_of_click_3358 = weekday3358_g.sum().click"
   ]
  },
  {
   "cell_type": "code",
   "execution_count": 9,
   "metadata": {
    "collapsed": true
   },
   "outputs": [],
   "source": [
    "n_of_impressions1458 = pd.DataFrame(weekday1458['weekday'].value_counts().sort_index(ascending=True))\n",
    "n_of_impressions3358 = pd.DataFrame(weekday3358['weekday'].value_counts().sort_index(ascending=True))"
   ]
  },
  {
   "cell_type": "code",
   "execution_count": 10,
   "metadata": {
    "collapsed": true
   },
   "outputs": [],
   "source": [
    "weekday1458_graph = pd.concat([n_of_click_1458, n_of_impressions1458], axis = 1)\n",
    "weekday3358_graph = pd.concat([n_of_click_3358, n_of_impressions3358], axis = 1)"
   ]
  },
  {
   "cell_type": "code",
   "execution_count": 11,
   "metadata": {
    "collapsed": true
   },
   "outputs": [],
   "source": [
    "weekday1458_graph['CTR'] = weekday1458_graph['click']/weekday1458_graph['weekday'].astype(int)\n",
    "weekday3358_graph['CTR'] = weekday3358_graph['click']/weekday3358_graph['weekday'].astype(int)"
   ]
  },
  {
   "cell_type": "code",
   "execution_count": 12,
   "metadata": {
    "collapsed": false
   },
   "outputs": [
    {
     "data": {
      "image/png": "[encoded data removed]",
      "text/plain": [
       "<matplotlib.figure.Figure at 0x117014780>"
      ]
     },
     "metadata": {},
     "output_type": "display_data"
    }
   ],
   "source": [
    "# Set x-axis\n",
    "w = 0.3 # width of the bar\n",
    "#left = np.arange(len(np.array(weekday1458_graph['CTR'])))\n",
    "plt.subplot()\n",
    "plot1 = plt.plot(weekday1458_graph[\"CTR\"], 'o-', linewidth=2, color = 'b', alpha=0.7)\n",
    "plot2 = plt.plot(weekday3358_graph[\"CTR\"], 'o-', linewidth=2, color = 'g', alpha=0.7)\n",
    "plt.legend()\n",
    "plt.xlim(-0.5, 6.5)\n",
    "plt.xticks(weekday1458_graph.index, fontsize=9)\n",
    "plt.show()"
   ]
  },
  {
   "cell_type": "markdown",
   "metadata": {},
   "source": [
    "# Hour"
   ]
  },
  {
   "cell_type": "code",
   "execution_count": 13,
   "metadata": {
    "collapsed": false
   },
   "outputs": [],
   "source": [
    "hour1458 = df_1458[[\"click\", 'hour']] \n",
    "hour3358 = df_3358[[\"click\", 'hour']]"
   ]
  },
  {
   "cell_type": "code",
   "execution_count": 14,
   "metadata": {
    "collapsed": false
   },
   "outputs": [],
   "source": [
    "# print('------ hour (1458) ------')\n",
    "# print(hour1458['hour'].value_counts().sort_index(ascending=True))\n",
    "# print('------ browser (3358) ------')\n",
    "# print(hour3358['hour'].value_counts().sort_index(ascending=True))\n",
    "\n",
    "n_hour1458 = pd.DataFrame(hour1458['hour'].value_counts().sort_index(ascending=True))\n",
    "n_hour3358 = pd.DataFrame(hour3358['hour'].value_counts().sort_index(ascending=True))"
   ]
  },
  {
   "cell_type": "code",
   "execution_count": 15,
   "metadata": {
    "collapsed": true
   },
   "outputs": [],
   "source": [
    "hour1458_pivot = hour1458.groupby([\"hour\", \"click\"]).size().reset_index(name=\"Count\")\n",
    "hour3358_pivot = hour3358.groupby([\"hour\", \"click\"]).size().reset_index(name=\"Count\")"
   ]
  },
  {
   "cell_type": "code",
   "execution_count": 16,
   "metadata": {
    "collapsed": false
   },
   "outputs": [],
   "source": [
    "hour1458_trial = pd.DataFrame(hour1458_pivot[hour1458_pivot.click==1])\n",
    "hour1458_trial.index = np.array(hour1458_trial.hour)\n",
    "\n",
    "hour3358_trial = pd.DataFrame(hour3358_pivot[hour3358_pivot.click==1])\n",
    "hour3358_trial.index = np.array(hour3358_trial.hour)\n",
    "\n",
    "hour1458_graph = pd.concat([n_hour1458, hour1458_trial['Count']], axis = 1)\n",
    "hour3358_graph = pd.concat([n_hour3358, hour3358_trial['Count']], axis = 1)\n",
    "\n",
    "# Fill out NaN in 0\n",
    "hour_1458 = hour1458_graph.fillna(0)\n",
    "hour_3358 = hour3358_graph.fillna(0)\n",
    "\n",
    "hour_1458['1458'] = hour_1458['Count']/hour_1458['hour'].astype(int)\n",
    "hour_3358['3358'] = hour_3358['Count']/hour_3358['hour'].astype(int)\n",
    "\n",
    "hour_1458['1458'] = hour_1458['1458'].replace('inf', 0)\n",
    "hour_3358['3358'] = hour_3358['3358'].replace('inf', 0)"
   ]
  },
  {
   "cell_type": "code",
   "execution_count": 17,
   "metadata": {
    "collapsed": false
   },
   "outputs": [
    {
     "name": "stderr",
     "output_type": "stream",
     "text": [
      "/Users/nishimuraaki/anaconda/lib/python3.5/site-packages/matplotlib/axes/_axes.py:531: UserWarning: No labelled objects found. Use label='...' kwarg on individual plots.\n",
      "  warnings.warn(\"No labelled objects found. \"\n"
     ]
    },
    {
     "data": {
      "image/png": "[encoded data removed]",
      "text/plain": [
       "<matplotlib.figure.Figure at 0x1171a3668>"
      ]
     },
     "metadata": {},
     "output_type": "display_data"
    }
   ],
   "source": [
    "# Set x-axis\n",
    "w = 0.3 # Width of the bar\n",
    "left = np.arange(len(np.array(hour_1458['1458'])))\n",
    "\n",
    "plt.subplot()\n",
    "plot = plt.bar(left, np.array(hour_1458['1458']), width=0.3, align=\"center\", color = 'b', alpha=0.7)\n",
    "plot = plt.bar(left + w, np.array(hour_3358['3358']), width=0.3, align=\"center\", color = 'g', alpha=0.7)\n",
    "plt.legend()\n",
    "plt.xlim(-0.5, 23.8)\n",
    "#plt.xticks(left + w/2, ['chrome', 'firefox', 'ie', 'maxthon', 'opera', 'other', 'safari', 'sogou', 'theworld'], fontsize=9)\n",
    "plt.show()"
   ]
  },
  {
   "cell_type": "code",
   "execution_count": 18,
   "metadata": {
    "collapsed": false
   },
   "outputs": [
    {
     "data": {
      "image/png": "[encoded data removed]",
      "text/plain": [
       "<matplotlib.figure.Figure at 0x1182309b0>"
      ]
     },
     "metadata": {},
     "output_type": "display_data"
    }
   ],
   "source": [
    "plt.subplot()\n",
    "plot1 = plt.plot(hour_1458[\"1458\"], 'o-', linewidth=2, color = 'b', alpha=0.7)\n",
    "plot2 = plt.plot(hour_3358[\"3358\"], 'o-', linewidth=2, color = 'g', alpha=0.7)\n",
    "plt.legend(loc='best')\n",
    "plt.xlim(-0.5, 23.8)\n",
    "plt.xticks(left + w/2, range(24))\n",
    "plt.show()"
   ]
  },
  {
   "cell_type": "markdown",
   "metadata": {},
   "source": [
    "# OS"
   ]
  },
  {
   "cell_type": "code",
   "execution_count": 19,
   "metadata": {
    "collapsed": true
   },
   "outputs": [],
   "source": [
    "ua1458 = df_1458[[\"click\", 'useragent']] \n",
    "ua3358 = df_3358[[\"click\", 'useragent']]"
   ]
  },
  {
   "cell_type": "code",
   "execution_count": 20,
   "metadata": {
    "collapsed": true
   },
   "outputs": [],
   "source": [
    "array1458 = np.array(df_1458['useragent'])\n",
    "split1458 = []\n",
    "for i in range(len(array1458)):\n",
    "    split1458.append(array1458[i].split(\"_\"))\n",
    "\n",
    "spl_df1458 = pd.DataFrame(split1458)"
   ]
  },
  {
   "cell_type": "code",
   "execution_count": 21,
   "metadata": {
    "collapsed": false
   },
   "outputs": [],
   "source": [
    "array3358 = np.array(df_3358['useragent'])\n",
    "split3358 = []\n",
    "for i in range(len(array3358)):\n",
    "    split3358.append(array3358[i].split(\"_\"))\n",
    "\n",
    "spl_df3358 = pd.DataFrame(split3358)"
   ]
  },
  {
   "cell_type": "code",
   "execution_count": 22,
   "metadata": {
    "collapsed": false
   },
   "outputs": [],
   "source": [
    "spl_df1458.columns = ['OS', 'Browser']\n",
    "spl_df3358.columns = ['OS', 'Browser']"
   ]
  },
  {
   "cell_type": "code",
   "execution_count": 23,
   "metadata": {
    "collapsed": false
   },
   "outputs": [],
   "source": [
    "# 1458\n",
    "ua1458.index = range(len(ua1458))\n",
    "useragent1458_df = pd.concat([ua1458, spl_df1458], axis=1)\n",
    "OS1458 = useragent1458_df.drop(['useragent', 'Browser'], axis=1)\n",
    "Browser1458 = useragent1458_df.drop(['useragent', 'OS'], axis=1)\n",
    "\n",
    "# 3358\n",
    "ua3358.index = range(len(ua3358))\n",
    "useragent3358_df = pd.concat([ua3358, spl_df3358], axis=1)\n",
    "OS3358 = useragent3358_df.drop(['useragent', 'Browser'], axis=1)\n",
    "Browser3358 = useragent3358_df.drop(['useragent', 'OS'], axis=1)"
   ]
  },
  {
   "cell_type": "code",
   "execution_count": 24,
   "metadata": {
    "collapsed": false
   },
   "outputs": [
    {
     "name": "stdout",
     "output_type": "stream",
     "text": [
      "------ os (1458) ------\n",
      "windows    524194\n",
      "other         787\n",
      "mac         11438\n",
      "linux         298\n",
      "ios           104\n",
      "android      3472\n",
      "Name: OS, dtype: int64\n",
      "------ os (3358) ------\n",
      "windows    289165\n",
      "other         232\n",
      "mac         10786\n",
      "linux         226\n",
      "ios            69\n",
      "android      4304\n",
      "Name: OS, dtype: int64\n"
     ]
    }
   ],
   "source": [
    "print('------ os (1458) ------')\n",
    "print(OS1458['OS'].value_counts().sort_index(ascending=False))\n",
    "print('------ os (3358) ------')\n",
    "print(OS3358['OS'].value_counts().sort_index(ascending=False))"
   ]
  },
  {
   "cell_type": "code",
   "execution_count": 25,
   "metadata": {
    "collapsed": false
   },
   "outputs": [
    {
     "data": {
      "text/html": [
       "<div>\n",
       "<table border=\"1\" class=\"dataframe\">\n",
       "  <thead>\n",
       "    <tr style=\"text-align: right;\">\n",
       "      <th></th>\n",
       "      <th>OS</th>\n",
       "      <th>click</th>\n",
       "      <th>Count</th>\n",
       "    </tr>\n",
       "  </thead>\n",
       "  <tbody>\n",
       "    <tr>\n",
       "      <th>0</th>\n",
       "      <td>android</td>\n",
       "      <td>0</td>\n",
       "      <td>4287</td>\n",
       "    </tr>\n",
       "    <tr>\n",
       "      <th>1</th>\n",
       "      <td>android</td>\n",
       "      <td>1</td>\n",
       "      <td>17</td>\n",
       "    </tr>\n",
       "    <tr>\n",
       "      <th>2</th>\n",
       "      <td>ios</td>\n",
       "      <td>0</td>\n",
       "      <td>68</td>\n",
       "    </tr>\n",
       "    <tr>\n",
       "      <th>3</th>\n",
       "      <td>ios</td>\n",
       "      <td>1</td>\n",
       "      <td>1</td>\n",
       "    </tr>\n",
       "    <tr>\n",
       "      <th>4</th>\n",
       "      <td>linux</td>\n",
       "      <td>0</td>\n",
       "      <td>226</td>\n",
       "    </tr>\n",
       "    <tr>\n",
       "      <th>5</th>\n",
       "      <td>mac</td>\n",
       "      <td>0</td>\n",
       "      <td>10751</td>\n",
       "    </tr>\n",
       "    <tr>\n",
       "      <th>6</th>\n",
       "      <td>mac</td>\n",
       "      <td>1</td>\n",
       "      <td>35</td>\n",
       "    </tr>\n",
       "    <tr>\n",
       "      <th>7</th>\n",
       "      <td>other</td>\n",
       "      <td>0</td>\n",
       "      <td>231</td>\n",
       "    </tr>\n",
       "    <tr>\n",
       "      <th>8</th>\n",
       "      <td>other</td>\n",
       "      <td>1</td>\n",
       "      <td>1</td>\n",
       "    </tr>\n",
       "    <tr>\n",
       "      <th>9</th>\n",
       "      <td>windows</td>\n",
       "      <td>0</td>\n",
       "      <td>288986</td>\n",
       "    </tr>\n",
       "    <tr>\n",
       "      <th>10</th>\n",
       "      <td>windows</td>\n",
       "      <td>1</td>\n",
       "      <td>179</td>\n",
       "    </tr>\n",
       "  </tbody>\n",
       "</table>\n",
       "</div>"
      ],
      "text/plain": [
       "         OS  click   Count\n",
       "0   android      0    4287\n",
       "1   android      1      17\n",
       "2       ios      0      68\n",
       "3       ios      1       1\n",
       "4     linux      0     226\n",
       "5       mac      0   10751\n",
       "6       mac      1      35\n",
       "7     other      0     231\n",
       "8     other      1       1\n",
       "9   windows      0  288986\n",
       "10  windows      1     179"
      ]
     },
     "execution_count": 25,
     "metadata": {},
     "output_type": "execute_result"
    }
   ],
   "source": [
    "os1458_pivot = OS1458.groupby([\"OS\", \"click\"]).size().reset_index(name=\"Count\")\n",
    "os3358_pivot = OS3358.groupby([\"OS\", \"click\"]).size().reset_index(name=\"Count\")\n",
    "os3358_pivot"
   ]
  },
  {
   "cell_type": "code",
   "execution_count": 26,
   "metadata": {
    "collapsed": false
   },
   "outputs": [
    {
     "data": {
      "text/html": [
       "<div>\n",
       "<table border=\"1\" class=\"dataframe\">\n",
       "  <thead>\n",
       "    <tr style=\"text-align: right;\">\n",
       "      <th></th>\n",
       "      <th>OS</th>\n",
       "      <th>click</th>\n",
       "      <th>Count</th>\n",
       "    </tr>\n",
       "  </thead>\n",
       "  <tbody>\n",
       "    <tr>\n",
       "      <th>0</th>\n",
       "      <td>android</td>\n",
       "      <td>0</td>\n",
       "      <td>3452</td>\n",
       "    </tr>\n",
       "    <tr>\n",
       "      <th>1</th>\n",
       "      <td>android</td>\n",
       "      <td>1</td>\n",
       "      <td>20</td>\n",
       "    </tr>\n",
       "    <tr>\n",
       "      <th>2</th>\n",
       "      <td>ios</td>\n",
       "      <td>0</td>\n",
       "      <td>104</td>\n",
       "    </tr>\n",
       "    <tr>\n",
       "      <th>3</th>\n",
       "      <td>linux</td>\n",
       "      <td>0</td>\n",
       "      <td>298</td>\n",
       "    </tr>\n",
       "    <tr>\n",
       "      <th>4</th>\n",
       "      <td>mac</td>\n",
       "      <td>0</td>\n",
       "      <td>11398</td>\n",
       "    </tr>\n",
       "    <tr>\n",
       "      <th>5</th>\n",
       "      <td>mac</td>\n",
       "      <td>1</td>\n",
       "      <td>40</td>\n",
       "    </tr>\n",
       "    <tr>\n",
       "      <th>6</th>\n",
       "      <td>other</td>\n",
       "      <td>0</td>\n",
       "      <td>787</td>\n",
       "    </tr>\n",
       "    <tr>\n",
       "      <th>7</th>\n",
       "      <td>windows</td>\n",
       "      <td>0</td>\n",
       "      <td>523803</td>\n",
       "    </tr>\n",
       "    <tr>\n",
       "      <th>8</th>\n",
       "      <td>windows</td>\n",
       "      <td>1</td>\n",
       "      <td>391</td>\n",
       "    </tr>\n",
       "  </tbody>\n",
       "</table>\n",
       "</div>"
      ],
      "text/plain": [
       "        OS  click   Count\n",
       "0  android      0    3452\n",
       "1  android      1      20\n",
       "2      ios      0     104\n",
       "3    linux      0     298\n",
       "4      mac      0   11398\n",
       "5      mac      1      40\n",
       "6    other      0     787\n",
       "7  windows      0  523803\n",
       "8  windows      1     391"
      ]
     },
     "execution_count": 26,
     "metadata": {},
     "output_type": "execute_result"
    }
   ],
   "source": [
    "os1458_pivot "
   ]
  },
  {
   "cell_type": "code",
   "execution_count": 27,
   "metadata": {
    "collapsed": false
   },
   "outputs": [
    {
     "name": "stdout",
     "output_type": "stream",
     "text": [
      "        OS  click  Count\n",
      "1  android      1     20\n",
      "5      mac      1     40\n",
      "8  windows      1    391\n",
      "         OS  click  Count\n",
      "1   android      1     17\n",
      "3       ios      1      1\n",
      "6       mac      1     35\n",
      "8     other      1      1\n",
      "10  windows      1    179\n"
     ]
    }
   ],
   "source": [
    "print(os1458_pivot[os1458_pivot.click==1])\n",
    "print(os3358_pivot[os3358_pivot.click==1])"
   ]
  },
  {
   "cell_type": "code",
   "execution_count": 28,
   "metadata": {
    "collapsed": false
   },
   "outputs": [
    {
     "data": {
      "text/html": [
       "<div>\n",
       "<table border=\"1\" class=\"dataframe\">\n",
       "  <thead>\n",
       "    <tr style=\"text-align: right;\">\n",
       "      <th></th>\n",
       "      <th>index</th>\n",
       "      <th>1458CTR</th>\n",
       "      <th>3358CTR</th>\n",
       "    </tr>\n",
       "  </thead>\n",
       "  <tbody>\n",
       "    <tr>\n",
       "      <th>0</th>\n",
       "      <td>android</td>\n",
       "      <td>0.005760</td>\n",
       "      <td>0.003950</td>\n",
       "    </tr>\n",
       "    <tr>\n",
       "      <th>1</th>\n",
       "      <td>ios</td>\n",
       "      <td>0.000000</td>\n",
       "      <td>0.014493</td>\n",
       "    </tr>\n",
       "    <tr>\n",
       "      <th>2</th>\n",
       "      <td>linux</td>\n",
       "      <td>0.000000</td>\n",
       "      <td>0.000000</td>\n",
       "    </tr>\n",
       "    <tr>\n",
       "      <th>3</th>\n",
       "      <td>mac</td>\n",
       "      <td>0.003497</td>\n",
       "      <td>0.003245</td>\n",
       "    </tr>\n",
       "    <tr>\n",
       "      <th>4</th>\n",
       "      <td>other</td>\n",
       "      <td>0.000000</td>\n",
       "      <td>0.004310</td>\n",
       "    </tr>\n",
       "    <tr>\n",
       "      <th>5</th>\n",
       "      <td>windows</td>\n",
       "      <td>0.000746</td>\n",
       "      <td>0.000619</td>\n",
       "    </tr>\n",
       "  </tbody>\n",
       "</table>\n",
       "</div>"
      ],
      "text/plain": [
       "     index   1458CTR   3358CTR\n",
       "0  android  0.005760  0.003950\n",
       "1      ios  0.000000  0.014493\n",
       "2    linux  0.000000  0.000000\n",
       "3      mac  0.003497  0.003245\n",
       "4    other  0.000000  0.004310\n",
       "5  windows  0.000746  0.000619"
      ]
     },
     "execution_count": 28,
     "metadata": {},
     "output_type": "execute_result"
    }
   ],
   "source": [
    "os1458_graph = pd.DataFrame([20/3472, 0, 0, 40/11438, 0, 391/524194])\n",
    "os3358_graph = pd.DataFrame([17/4304, 1/69, 0, 35/10786, 1/232, 179/289165])\n",
    "\n",
    "os1458_graph.columns = ['1458CTR']\n",
    "os3358_graph.columns =  ['3358CTR']\n",
    "\n",
    "# os1458_graph.index = ['android', 'ios', 'linux', 'mac', 'other', 'windows']\n",
    "# os3358_graph.index = ['android', 'ios', 'linux', 'mac', 'other', 'windows']\n",
    "index = pd.DataFrame(['android', 'ios', 'linux', 'mac', 'other', 'windows'], columns=['index'])\n",
    "os_graph = pd.concat([index, os1458_graph, os3358_graph], axis=1)\n",
    "os_graph"
   ]
  },
  {
   "cell_type": "code",
   "execution_count": 29,
   "metadata": {
    "collapsed": false
   },
   "outputs": [
    {
     "data": {
      "text/html": [
       "<div>\n",
       "<table border=\"1\" class=\"dataframe\">\n",
       "  <thead>\n",
       "    <tr style=\"text-align: right;\">\n",
       "      <th></th>\n",
       "      <th>1458CTR</th>\n",
       "    </tr>\n",
       "  </thead>\n",
       "  <tbody>\n",
       "    <tr>\n",
       "      <th>0</th>\n",
       "      <td>0.005760</td>\n",
       "    </tr>\n",
       "    <tr>\n",
       "      <th>1</th>\n",
       "      <td>0.000000</td>\n",
       "    </tr>\n",
       "    <tr>\n",
       "      <th>2</th>\n",
       "      <td>0.000000</td>\n",
       "    </tr>\n",
       "    <tr>\n",
       "      <th>3</th>\n",
       "      <td>0.003497</td>\n",
       "    </tr>\n",
       "    <tr>\n",
       "      <th>4</th>\n",
       "      <td>0.000000</td>\n",
       "    </tr>\n",
       "    <tr>\n",
       "      <th>5</th>\n",
       "      <td>0.000746</td>\n",
       "    </tr>\n",
       "  </tbody>\n",
       "</table>\n",
       "</div>"
      ],
      "text/plain": [
       "    1458CTR\n",
       "0  0.005760\n",
       "1  0.000000\n",
       "2  0.000000\n",
       "3  0.003497\n",
       "4  0.000000\n",
       "5  0.000746"
      ]
     },
     "execution_count": 29,
     "metadata": {},
     "output_type": "execute_result"
    }
   ],
   "source": [
    "os1458_graph"
   ]
  },
  {
   "cell_type": "code",
   "execution_count": 30,
   "metadata": {
    "collapsed": false
   },
   "outputs": [
    {
     "name": "stderr",
     "output_type": "stream",
     "text": [
      "/Users/nishimuraaki/anaconda/lib/python3.5/site-packages/matplotlib/axes/_axes.py:531: UserWarning: No labelled objects found. Use label='...' kwarg on individual plots.\n",
      "  warnings.warn(\"No labelled objects found. \"\n"
     ]
    },
    {
     "data": {
      "image/png": "[encoded data removed]",
      "text/plain": [
       "<matplotlib.figure.Figure at 0x13b1bd0b8>"
      ]
     },
     "metadata": {},
     "output_type": "display_data"
    }
   ],
   "source": [
    "# Set x-axis\n",
    "w = 0.3 # width of the bar\n",
    "left = np.arange(len(np.array(os1458_graph)))\n",
    "\n",
    "plt.subplot()\n",
    "plot = plt.bar(left, np.array(os1458_graph), width=0.3, align=\"center\", color = 'b',alpha=0.7)\n",
    "plot = plt.bar(left + w, np.array(os3358_graph), width=0.3, align=\"center\", color = 'g', alpha=0.7)\n",
    "plt.legend()\n",
    "plt.xlim(-0.5, 5.8)\n",
    "plt.xticks(left + w/2, ['android', 'ios', 'linux', 'mac', 'other', 'windows'])\n",
    "plt.show()"
   ]
  },
  {
   "cell_type": "markdown",
   "metadata": {},
   "source": [
    "# Browser"
   ]
  },
  {
   "cell_type": "code",
   "execution_count": 31,
   "metadata": {
    "collapsed": false
   },
   "outputs": [
    {
     "name": "stdout",
     "output_type": "stream",
     "text": [
      "------ browser (1458) ------\n",
      "chrome      162074\n",
      "firefox       4071\n",
      "ie          351317\n",
      "maxthon       1336\n",
      "opera          568\n",
      "other         5171\n",
      "safari       12670\n",
      "sogou            4\n",
      "theworld      3082\n",
      "Name: Browser, dtype: int64\n",
      "------ browser (3358) ------\n",
      "chrome      100232\n",
      "firefox       3593\n",
      "ie          181799\n",
      "maxthon        875\n",
      "opera          454\n",
      "other         4352\n",
      "safari       11795\n",
      "sogou            9\n",
      "theworld      1673\n",
      "Name: Browser, dtype: int64\n"
     ]
    }
   ],
   "source": [
    "print('------ browser (1458) ------')\n",
    "print(Browser1458['Browser'].value_counts().sort_index(ascending=True))\n",
    "print('------ browser (3358) ------')\n",
    "print(Browser3358['Browser'].value_counts().sort_index(ascending=True))\n",
    "\n",
    "n_bs1458 = pd.DataFrame(Browser1458['Browser'].value_counts().sort_index(ascending=True))\n",
    "n_bs3358 = pd.DataFrame(Browser3358['Browser'].value_counts().sort_index(ascending=True))"
   ]
  },
  {
   "cell_type": "code",
   "execution_count": 32,
   "metadata": {
    "collapsed": false
   },
   "outputs": [
    {
     "data": {
      "text/html": [
       "<div>\n",
       "<table border=\"1\" class=\"dataframe\">\n",
       "  <thead>\n",
       "    <tr style=\"text-align: right;\">\n",
       "      <th></th>\n",
       "      <th>Browser</th>\n",
       "      <th>click</th>\n",
       "      <th>Count</th>\n",
       "    </tr>\n",
       "  </thead>\n",
       "  <tbody>\n",
       "    <tr>\n",
       "      <th>0</th>\n",
       "      <td>chrome</td>\n",
       "      <td>0</td>\n",
       "      <td>100172</td>\n",
       "    </tr>\n",
       "    <tr>\n",
       "      <th>1</th>\n",
       "      <td>chrome</td>\n",
       "      <td>1</td>\n",
       "      <td>60</td>\n",
       "    </tr>\n",
       "    <tr>\n",
       "      <th>2</th>\n",
       "      <td>firefox</td>\n",
       "      <td>0</td>\n",
       "      <td>3592</td>\n",
       "    </tr>\n",
       "    <tr>\n",
       "      <th>3</th>\n",
       "      <td>firefox</td>\n",
       "      <td>1</td>\n",
       "      <td>1</td>\n",
       "    </tr>\n",
       "    <tr>\n",
       "      <th>4</th>\n",
       "      <td>ie</td>\n",
       "      <td>0</td>\n",
       "      <td>181681</td>\n",
       "    </tr>\n",
       "    <tr>\n",
       "      <th>5</th>\n",
       "      <td>ie</td>\n",
       "      <td>1</td>\n",
       "      <td>118</td>\n",
       "    </tr>\n",
       "    <tr>\n",
       "      <th>6</th>\n",
       "      <td>maxthon</td>\n",
       "      <td>0</td>\n",
       "      <td>875</td>\n",
       "    </tr>\n",
       "    <tr>\n",
       "      <th>7</th>\n",
       "      <td>opera</td>\n",
       "      <td>0</td>\n",
       "      <td>454</td>\n",
       "    </tr>\n",
       "    <tr>\n",
       "      <th>8</th>\n",
       "      <td>other</td>\n",
       "      <td>0</td>\n",
       "      <td>4345</td>\n",
       "    </tr>\n",
       "    <tr>\n",
       "      <th>9</th>\n",
       "      <td>other</td>\n",
       "      <td>1</td>\n",
       "      <td>7</td>\n",
       "    </tr>\n",
       "    <tr>\n",
       "      <th>10</th>\n",
       "      <td>safari</td>\n",
       "      <td>0</td>\n",
       "      <td>11749</td>\n",
       "    </tr>\n",
       "    <tr>\n",
       "      <th>11</th>\n",
       "      <td>safari</td>\n",
       "      <td>1</td>\n",
       "      <td>46</td>\n",
       "    </tr>\n",
       "    <tr>\n",
       "      <th>12</th>\n",
       "      <td>sogou</td>\n",
       "      <td>0</td>\n",
       "      <td>9</td>\n",
       "    </tr>\n",
       "    <tr>\n",
       "      <th>13</th>\n",
       "      <td>theworld</td>\n",
       "      <td>0</td>\n",
       "      <td>1672</td>\n",
       "    </tr>\n",
       "    <tr>\n",
       "      <th>14</th>\n",
       "      <td>theworld</td>\n",
       "      <td>1</td>\n",
       "      <td>1</td>\n",
       "    </tr>\n",
       "  </tbody>\n",
       "</table>\n",
       "</div>"
      ],
      "text/plain": [
       "     Browser  click   Count\n",
       "0     chrome      0  100172\n",
       "1     chrome      1      60\n",
       "2    firefox      0    3592\n",
       "3    firefox      1       1\n",
       "4         ie      0  181681\n",
       "5         ie      1     118\n",
       "6    maxthon      0     875\n",
       "7      opera      0     454\n",
       "8      other      0    4345\n",
       "9      other      1       7\n",
       "10    safari      0   11749\n",
       "11    safari      1      46\n",
       "12     sogou      0       9\n",
       "13  theworld      0    1672\n",
       "14  theworld      1       1"
      ]
     },
     "execution_count": 32,
     "metadata": {},
     "output_type": "execute_result"
    }
   ],
   "source": [
    "bs1458_pivot = Browser1458.groupby([\"Browser\", \"click\"]).size().reset_index(name=\"Count\")\n",
    "bs3358_pivot = Browser3358.groupby([\"Browser\", \"click\"]).size().reset_index(name=\"Count\")\n",
    "bs3358_pivot"
   ]
  },
  {
   "cell_type": "code",
   "execution_count": 33,
   "metadata": {
    "collapsed": false
   },
   "outputs": [],
   "source": [
    "bs1458_trial = pd.DataFrame(bs1458_pivot[bs1458_pivot.click==1])\n",
    "bs1458_trial.index = np.array(bs1458_trial.Browser)\n",
    "\n",
    "bs3358_trial = pd.DataFrame(bs3358_pivot[bs3358_pivot.click==1])\n",
    "bs3358_trial.index = np.array(bs3358_trial.Browser)\n",
    "\n",
    "bs1458_graph = pd.concat([n_bs1458, bs1458_trial['Count']], axis = 1)\n",
    "bs3358_graph = pd.concat([n_bs3358, bs3358_trial['Count']], axis = 1)\n",
    "\n",
    "# Fill out NaN in 0\n",
    "bs_1458 = bs1458_graph.fillna(0)\n",
    "bs_3358 = bs3358_graph.fillna(0)\n",
    "\n",
    "bs_1458['CTR'] = bs_1458['Count']/bs_1458['Browser'].astype(int)\n",
    "bs_3358['CTR'] = bs_3358['Count']/bs_3358['Browser'].astype(int)\n",
    "\n",
    "bs_1458['CTR'] = bs_1458['CTR'].replace('inf', 0)\n",
    "bs_3358['CTR'] = bs_3358['CTR'].replace('inf', 0)"
   ]
  },
  {
   "cell_type": "code",
   "execution_count": 34,
   "metadata": {
    "collapsed": false
   },
   "outputs": [
    {
     "data": {
      "text/html": [
       "<div>\n",
       "<table border=\"1\" class=\"dataframe\">\n",
       "  <thead>\n",
       "    <tr style=\"text-align: right;\">\n",
       "      <th></th>\n",
       "      <th>Browser</th>\n",
       "      <th>Count</th>\n",
       "      <th>CTR</th>\n",
       "    </tr>\n",
       "  </thead>\n",
       "  <tbody>\n",
       "    <tr>\n",
       "      <th>chrome</th>\n",
       "      <td>162074</td>\n",
       "      <td>103.0</td>\n",
       "      <td>0.000636</td>\n",
       "    </tr>\n",
       "    <tr>\n",
       "      <th>firefox</th>\n",
       "      <td>4071</td>\n",
       "      <td>1.0</td>\n",
       "      <td>0.000246</td>\n",
       "    </tr>\n",
       "    <tr>\n",
       "      <th>ie</th>\n",
       "      <td>351317</td>\n",
       "      <td>283.0</td>\n",
       "      <td>0.000806</td>\n",
       "    </tr>\n",
       "    <tr>\n",
       "      <th>maxthon</th>\n",
       "      <td>1336</td>\n",
       "      <td>0.0</td>\n",
       "      <td>0.000000</td>\n",
       "    </tr>\n",
       "    <tr>\n",
       "      <th>opera</th>\n",
       "      <td>568</td>\n",
       "      <td>1.0</td>\n",
       "      <td>0.001761</td>\n",
       "    </tr>\n",
       "    <tr>\n",
       "      <th>other</th>\n",
       "      <td>5171</td>\n",
       "      <td>11.0</td>\n",
       "      <td>0.002127</td>\n",
       "    </tr>\n",
       "    <tr>\n",
       "      <th>safari</th>\n",
       "      <td>12670</td>\n",
       "      <td>49.0</td>\n",
       "      <td>0.003867</td>\n",
       "    </tr>\n",
       "    <tr>\n",
       "      <th>sogou</th>\n",
       "      <td>4</td>\n",
       "      <td>0.0</td>\n",
       "      <td>0.000000</td>\n",
       "    </tr>\n",
       "    <tr>\n",
       "      <th>theworld</th>\n",
       "      <td>3082</td>\n",
       "      <td>3.0</td>\n",
       "      <td>0.000973</td>\n",
       "    </tr>\n",
       "  </tbody>\n",
       "</table>\n",
       "</div>"
      ],
      "text/plain": [
       "          Browser  Count       CTR\n",
       "chrome     162074  103.0  0.000636\n",
       "firefox      4071    1.0  0.000246\n",
       "ie         351317  283.0  0.000806\n",
       "maxthon      1336    0.0  0.000000\n",
       "opera         568    1.0  0.001761\n",
       "other        5171   11.0  0.002127\n",
       "safari      12670   49.0  0.003867\n",
       "sogou           4    0.0  0.000000\n",
       "theworld     3082    3.0  0.000973"
      ]
     },
     "execution_count": 34,
     "metadata": {},
     "output_type": "execute_result"
    }
   ],
   "source": [
    "bs_1458"
   ]
  },
  {
   "cell_type": "code",
   "execution_count": 35,
   "metadata": {
    "collapsed": false
   },
   "outputs": [
    {
     "name": "stderr",
     "output_type": "stream",
     "text": [
      "/Users/nishimuraaki/anaconda/lib/python3.5/site-packages/matplotlib/axes/_axes.py:531: UserWarning: No labelled objects found. Use label='...' kwarg on individual plots.\n",
      "  warnings.warn(\"No labelled objects found. \"\n"
     ]
    },
    {
     "data": {
      "image/png": "[encoded data removed]",
      "text/plain": [
       "<matplotlib.figure.Figure at 0x13b1b1710>"
      ]
     },
     "metadata": {},
     "output_type": "display_data"
    }
   ],
   "source": [
    "# Set the x-axis\n",
    "w = 0.3 # width of the bar\n",
    "left = np.arange(len(np.array(bs_1458['CTR'])))\n",
    "\n",
    "plt.subplot()\n",
    "plot = plt.bar(left, np.array(bs_1458['CTR']), width=0.3, align=\"center\", color = 'b', alpha=0.7)\n",
    "plot = plt.bar(left + w, np.array(bs_3358['CTR']), width=0.3, align=\"center\", color = 'g', alpha=0.7)\n",
    "plt.legend()\n",
    "plt.xlim(-0.5, 8.8)\n",
    "plt.xticks(left + w/2, ['chrome', 'firefox', 'ie', 'maxthon', 'opera', 'other', 'safari', 'sogou', 'theworld'], fontsize=9)\n",
    "plt.show()"
   ]
  },
  {
   "cell_type": "markdown",
   "metadata": {
    "collapsed": true
   },
   "source": [
    "# Region"
   ]
  },
  {
   "cell_type": "code",
   "execution_count": 36,
   "metadata": {
    "collapsed": true
   },
   "outputs": [],
   "source": [
    "region1458 = df_1458[[\"click\", 'region']] \n",
    "region3358 = df_3358[[\"click\", 'region']]"
   ]
  },
  {
   "cell_type": "code",
   "execution_count": 37,
   "metadata": {
    "collapsed": false
   },
   "outputs": [],
   "source": [
    "region1458_g = region1458.groupby('region')\n",
    "region3358_g = region3358.groupby('region')\n",
    "\n",
    "n_of_click_1458 = region1458_g.sum().click\n",
    "n_of_click_3358 = region3358_g.sum().click"
   ]
  },
  {
   "cell_type": "code",
   "execution_count": 38,
   "metadata": {
    "collapsed": false
   },
   "outputs": [],
   "source": [
    "n_of_impressions1458 = pd.DataFrame(region1458['region'].value_counts().sort_index(ascending=True))\n",
    "n_of_impressions3358 = pd.DataFrame(region3358['region'].value_counts().sort_index(ascending=True))"
   ]
  },
  {
   "cell_type": "code",
   "execution_count": 39,
   "metadata": {
    "collapsed": false
   },
   "outputs": [],
   "source": [
    "region1458_graph = pd.concat([n_of_click_1458, n_of_impressions1458], axis = 1)\n",
    "region3358_graph = pd.concat([n_of_click_3358, n_of_impressions3358], axis = 1)"
   ]
  },
  {
   "cell_type": "code",
   "execution_count": 40,
   "metadata": {
    "collapsed": false
   },
   "outputs": [],
   "source": [
    "region1458_graph['CTR'] = region1458_graph['click']/region1458_graph['region'].astype(int)\n",
    "region3358_graph['CTR'] = region3358_graph['click']/region3358_graph['region'].astype(int)"
   ]
  },
  {
   "cell_type": "code",
   "execution_count": 41,
   "metadata": {
    "collapsed": false
   },
   "outputs": [
    {
     "data": {
      "text/plain": [
       "Int64Index([  0,   1,   2,   3,  15,  27,  40,  55,  65,  79,  80,  94, 106,\n",
       "            124, 134, 146, 164, 183, 201, 216, 238, 253, 275, 276, 298, 308,\n",
       "            325, 333, 344, 359, 368, 374, 393, 394, 395],\n",
       "           dtype='int64', name='region')"
      ]
     },
     "execution_count": 41,
     "metadata": {},
     "output_type": "execute_result"
    }
   ],
   "source": [
    "region1458_graph.index"
   ]
  },
  {
   "cell_type": "code",
   "execution_count": 42,
   "metadata": {
    "collapsed": false
   },
   "outputs": [
    {
     "name": "stderr",
     "output_type": "stream",
     "text": [
      "/Users/nishimuraaki/anaconda/lib/python3.5/site-packages/matplotlib/axes/_axes.py:531: UserWarning: No labelled objects found. Use label='...' kwarg on individual plots.\n",
      "  warnings.warn(\"No labelled objects found. \"\n"
     ]
    },
    {
     "data": {
      "image/png": "[encoded data removed]",
      "text/plain": [
       "<matplotlib.figure.Figure at 0x13b8ca128>"
      ]
     },
     "metadata": {},
     "output_type": "display_data"
    }
   ],
   "source": [
    "# Set the x-axis\n",
    "w = 0.3 # width of the bar\n",
    "left = np.arange(len(np.array(region1458_graph['CTR'])))\n",
    "plt.subplot()\n",
    "plot = plt.bar(left, np.array(region1458_graph['CTR']), width=0.3, align=\"center\", color = 'b', alpha=0.7)\n",
    "plot = plt.bar(left + w, np.array(region3358_graph['CTR']), width=0.3, align=\"center\", color = 'g', alpha=0.7)\n",
    "plt.legend()\n",
    "plt.xlim(-0.5, 35.8)\n",
    "plt.xticks(left + w/2, region1458_graph.index, fontsize=9)\n",
    "plt.show()"
   ]
  },
  {
   "cell_type": "markdown",
   "metadata": {},
   "source": [
    "# Slot size"
   ]
  },
  {
   "cell_type": "code",
   "execution_count": 43,
   "metadata": {
    "collapsed": false
   },
   "outputs": [],
   "source": [
    "ssize1458 = df_1458[[\"click\", 'slotwidth', 'slotheight']] \n",
    "ssize3358 = df_3358[[\"click\", 'slotwidth', 'slotheight']]"
   ]
  },
  {
   "cell_type": "code",
   "execution_count": 44,
   "metadata": {
    "collapsed": false
   },
   "outputs": [],
   "source": [
    "# ssize1458.to_csv('ssize1458.csv', index=False)\n",
    "# ssize3358.to_csv('ssize3358.csv', index=False)"
   ]
  },
  {
   "cell_type": "code",
   "execution_count": 45,
   "metadata": {
    "collapsed": true
   },
   "outputs": [],
   "source": [
    "ssize1458 = pd.read_csv('ssize1458.csv')\n",
    "ssize3358 = pd.read_csv('ssize3358.csv')"
   ]
  },
  {
   "cell_type": "code",
   "execution_count": 46,
   "metadata": {
    "collapsed": false
   },
   "outputs": [],
   "source": [
    "#ssize1458"
   ]
  },
  {
   "cell_type": "code",
   "execution_count": 47,
   "metadata": {
    "collapsed": false
   },
   "outputs": [],
   "source": [
    "ssize1458_g = ssize1458.groupby('label')\n",
    "ssize3358_g = ssize3358.groupby('label')\n",
    "\n",
    "n_of_click_1458 = ssize1458_g.sum().click\n",
    "n_of_click_3358 = ssize3358_g.sum().click"
   ]
  },
  {
   "cell_type": "code",
   "execution_count": 48,
   "metadata": {
    "collapsed": false
   },
   "outputs": [
    {
     "data": {
      "text/plain": [
       "label\n",
       "1000*90    128\n",
       "160*600     44\n",
       "250*250      9\n",
       "300*250     46\n",
       "336*280     84\n",
       "468*60      15\n",
       "728*90     120\n",
       "960*90       5\n",
       "Name: click, dtype: int64"
      ]
     },
     "execution_count": 48,
     "metadata": {},
     "output_type": "execute_result"
    }
   ],
   "source": [
    "n_of_click_1458"
   ]
  },
  {
   "cell_type": "code",
   "execution_count": 49,
   "metadata": {
    "collapsed": false
   },
   "outputs": [],
   "source": [
    "n_of_impressions1458 = pd.DataFrame(ssize1458['label'].value_counts().sort_index(ascending=True))\n",
    "n_of_impressions3358 = pd.DataFrame(ssize3358['label'].value_counts().sort_index(ascending=True))"
   ]
  },
  {
   "cell_type": "code",
   "execution_count": 50,
   "metadata": {
    "collapsed": false
   },
   "outputs": [
    {
     "data": {
      "text/html": [
       "<div>\n",
       "<table border=\"1\" class=\"dataframe\">\n",
       "  <thead>\n",
       "    <tr style=\"text-align: right;\">\n",
       "      <th></th>\n",
       "      <th>label</th>\n",
       "    </tr>\n",
       "  </thead>\n",
       "  <tbody>\n",
       "    <tr>\n",
       "      <th>1000*90</th>\n",
       "      <td>146187</td>\n",
       "    </tr>\n",
       "    <tr>\n",
       "      <th>160*600</th>\n",
       "      <td>58837</td>\n",
       "    </tr>\n",
       "    <tr>\n",
       "      <th>250*250</th>\n",
       "      <td>27343</td>\n",
       "    </tr>\n",
       "    <tr>\n",
       "      <th>300*250</th>\n",
       "      <td>37512</td>\n",
       "    </tr>\n",
       "    <tr>\n",
       "      <th>336*280</th>\n",
       "      <td>116663</td>\n",
       "    </tr>\n",
       "    <tr>\n",
       "      <th>468*60</th>\n",
       "      <td>21801</td>\n",
       "    </tr>\n",
       "    <tr>\n",
       "      <th>728*90</th>\n",
       "      <td>118035</td>\n",
       "    </tr>\n",
       "    <tr>\n",
       "      <th>960*90</th>\n",
       "      <td>13915</td>\n",
       "    </tr>\n",
       "  </tbody>\n",
       "</table>\n",
       "</div>"
      ],
      "text/plain": [
       "          label\n",
       "1000*90  146187\n",
       "160*600   58837\n",
       "250*250   27343\n",
       "300*250   37512\n",
       "336*280  116663\n",
       "468*60    21801\n",
       "728*90   118035\n",
       "960*90    13915"
      ]
     },
     "execution_count": 50,
     "metadata": {},
     "output_type": "execute_result"
    }
   ],
   "source": [
    "n_of_impressions1458"
   ]
  },
  {
   "cell_type": "code",
   "execution_count": 51,
   "metadata": {
    "collapsed": false
   },
   "outputs": [],
   "source": [
    "ssize1458_graph = pd.concat([n_of_click_1458, n_of_impressions1458], axis = 1)\n",
    "ssize3358_graph = pd.concat([n_of_click_3358, n_of_impressions3358], axis = 1)"
   ]
  },
  {
   "cell_type": "code",
   "execution_count": 52,
   "metadata": {
    "collapsed": false
   },
   "outputs": [],
   "source": [
    "ssize1458_graph['CTR'] = ssize1458_graph['click']/ssize1458_graph['label'].astype(int)\n",
    "ssize3358_graph['CTR'] = ssize3358_graph['click']/ssize3358_graph['label'].astype(int)"
   ]
  },
  {
   "cell_type": "code",
   "execution_count": 53,
   "metadata": {
    "collapsed": false
   },
   "outputs": [
    {
     "data": {
      "text/html": [
       "<div>\n",
       "<table border=\"1\" class=\"dataframe\">\n",
       "  <thead>\n",
       "    <tr style=\"text-align: right;\">\n",
       "      <th></th>\n",
       "      <th>click</th>\n",
       "      <th>label</th>\n",
       "      <th>CTR</th>\n",
       "    </tr>\n",
       "    <tr>\n",
       "      <th>label</th>\n",
       "      <th></th>\n",
       "      <th></th>\n",
       "      <th></th>\n",
       "    </tr>\n",
       "  </thead>\n",
       "  <tbody>\n",
       "    <tr>\n",
       "      <th>1000*90</th>\n",
       "      <td>128</td>\n",
       "      <td>146187</td>\n",
       "      <td>0.000876</td>\n",
       "    </tr>\n",
       "    <tr>\n",
       "      <th>160*600</th>\n",
       "      <td>44</td>\n",
       "      <td>58837</td>\n",
       "      <td>0.000748</td>\n",
       "    </tr>\n",
       "    <tr>\n",
       "      <th>250*250</th>\n",
       "      <td>9</td>\n",
       "      <td>27343</td>\n",
       "      <td>0.000329</td>\n",
       "    </tr>\n",
       "    <tr>\n",
       "      <th>300*250</th>\n",
       "      <td>46</td>\n",
       "      <td>37512</td>\n",
       "      <td>0.001226</td>\n",
       "    </tr>\n",
       "    <tr>\n",
       "      <th>336*280</th>\n",
       "      <td>84</td>\n",
       "      <td>116663</td>\n",
       "      <td>0.000720</td>\n",
       "    </tr>\n",
       "    <tr>\n",
       "      <th>468*60</th>\n",
       "      <td>15</td>\n",
       "      <td>21801</td>\n",
       "      <td>0.000688</td>\n",
       "    </tr>\n",
       "    <tr>\n",
       "      <th>728*90</th>\n",
       "      <td>120</td>\n",
       "      <td>118035</td>\n",
       "      <td>0.001017</td>\n",
       "    </tr>\n",
       "    <tr>\n",
       "      <th>960*90</th>\n",
       "      <td>5</td>\n",
       "      <td>13915</td>\n",
       "      <td>0.000359</td>\n",
       "    </tr>\n",
       "  </tbody>\n",
       "</table>\n",
       "</div>"
      ],
      "text/plain": [
       "         click   label       CTR\n",
       "label                           \n",
       "1000*90    128  146187  0.000876\n",
       "160*600     44   58837  0.000748\n",
       "250*250      9   27343  0.000329\n",
       "300*250     46   37512  0.001226\n",
       "336*280     84  116663  0.000720\n",
       "468*60      15   21801  0.000688\n",
       "728*90     120  118035  0.001017\n",
       "960*90       5   13915  0.000359"
      ]
     },
     "execution_count": 53,
     "metadata": {},
     "output_type": "execute_result"
    }
   ],
   "source": [
    "ssize1458_graph"
   ]
  },
  {
   "cell_type": "code",
   "execution_count": 54,
   "metadata": {
    "collapsed": false
   },
   "outputs": [],
   "source": [
    "# Depict the graph with the x-axis which is the order of the slot size\n",
    "ssize_graph = pd.concat([ssize1458_graph['CTR'], ssize3358_graph['CTR']], axis = 1)\n",
    "ssize_graph.columns = ['1458_CTR', '3358_CTR']\n",
    "# ssize_graph['index'] = ssize_graph.index\n",
    "# ssize_graph\n",
    "ssize_graph['order'] = [4, 8, 2, 11, 10, 7, 3, 1, 12, 9, 6, 5] "
   ]
  },
  {
   "cell_type": "code",
   "execution_count": 55,
   "metadata": {
    "collapsed": false
   },
   "outputs": [
    {
     "name": "stderr",
     "output_type": "stream",
     "text": [
      "/Users/nishimuraaki/anaconda/lib/python3.5/site-packages/ipykernel/__main__.py:1: FutureWarning: sort(columns=....) is deprecated, use sort_values(by=.....)\n",
      "  if __name__ == '__main__':\n"
     ]
    }
   ],
   "source": [
    "ascend_ssize_graph = ssize_graph.sort('order')"
   ]
  },
  {
   "cell_type": "code",
   "execution_count": 56,
   "metadata": {
    "collapsed": false
   },
   "outputs": [
    {
     "data": {
      "text/plain": [
       "<matplotlib.axes._subplots.AxesSubplot at 0x13b885358>"
      ]
     },
     "execution_count": 56,
     "metadata": {},
     "output_type": "execute_result"
    },
    {
     "data": {
      "image/png": "[encoded data removed]",
      "text/plain": [
       "<matplotlib.figure.Figure at 0x13b233be0>"
      ]
     },
     "metadata": {},
     "output_type": "display_data"
    }
   ],
   "source": [
    "ascend_ssize_graph = ascend_ssize_graph.drop('order', 1)\n",
    "ascend_ssize_graph.plot.bar(color=['b', 'g'], width=0.5, alpha=0.7, rot=0, fontsize=6)"
   ]
  },
  {
   "cell_type": "markdown",
   "metadata": {},
   "source": [
    "==> See the difference of the CTR in the order of slot size."
   ]
  },
  {
   "cell_type": "code",
   "execution_count": 57,
   "metadata": {
    "collapsed": false
   },
   "outputs": [],
   "source": [
    "# Do not care about the order of the size\n",
    "ssize_graph = ssize_graph.drop('order', axis=1)"
   ]
  },
  {
   "cell_type": "code",
   "execution_count": 58,
   "metadata": {
    "collapsed": false
   },
   "outputs": [
    {
     "data": {
      "text/plain": [
       "<matplotlib.axes._subplots.AxesSubplot at 0x13c9613c8>"
      ]
     },
     "execution_count": 58,
     "metadata": {},
     "output_type": "execute_result"
    },
    {
     "data": {
      "image/png": "[encoded data removed]",
      "text/plain": [
       "<matplotlib.figure.Figure at 0x13b8854a8>"
      ]
     },
     "metadata": {},
     "output_type": "display_data"
    }
   ],
   "source": [
    "ssize_graph.plot.bar(color=['b', 'g'], width=0.5, alpha=0.7, rot=0, fontsize=6)"
   ]
  },
  {
   "cell_type": "markdown",
   "metadata": {},
   "source": [
    "# Adexchange"
   ]
  },
  {
   "cell_type": "code",
   "execution_count": 59,
   "metadata": {
    "collapsed": true
   },
   "outputs": [],
   "source": [
    "adex1458 = df_1458[[\"click\", 'adexchange']] \n",
    "adex3358 = df_3358[[\"click\", 'adexchange']]"
   ]
  },
  {
   "cell_type": "code",
   "execution_count": 60,
   "metadata": {
    "collapsed": true
   },
   "outputs": [],
   "source": [
    "adex1458_g = adex1458.groupby('adexchange')\n",
    "adex3358_g = adex3358.groupby('adexchange')\n",
    "\n",
    "n_of_click_1458 = adex1458_g.sum().click\n",
    "n_of_click_3358 = adex3358_g.sum().click"
   ]
  },
  {
   "cell_type": "code",
   "execution_count": 61,
   "metadata": {
    "collapsed": false
   },
   "outputs": [],
   "source": [
    "n_of_impressions1458 = pd.DataFrame(adex1458['adexchange'].value_counts().sort_index(ascending=True))\n",
    "n_of_impressions3358 = pd.DataFrame(adex3358['adexchange'].value_counts().sort_index(ascending=True))"
   ]
  },
  {
   "cell_type": "code",
   "execution_count": 62,
   "metadata": {
    "collapsed": true
   },
   "outputs": [],
   "source": [
    "adex1458_graph = pd.concat([n_of_click_1458, n_of_impressions1458], axis = 1)\n",
    "adex3358_graph = pd.concat([n_of_click_3358, n_of_impressions3358], axis = 1)"
   ]
  },
  {
   "cell_type": "code",
   "execution_count": 63,
   "metadata": {
    "collapsed": false
   },
   "outputs": [],
   "source": [
    "adex1458_graph['CTR'] = adex1458_graph['click']/adex1458_graph['adexchange'].astype(int)\n",
    "adex3358_graph['CTR'] = adex3358_graph['click']/adex3358_graph['adexchange'].astype(int)"
   ]
  },
  {
   "cell_type": "code",
   "execution_count": 64,
   "metadata": {
    "collapsed": false
   },
   "outputs": [
    {
     "data": {
      "text/html": [
       "<div>\n",
       "<table border=\"1\" class=\"dataframe\">\n",
       "  <thead>\n",
       "    <tr style=\"text-align: right;\">\n",
       "      <th></th>\n",
       "      <th>click</th>\n",
       "      <th>adexchange</th>\n",
       "      <th>CTR</th>\n",
       "    </tr>\n",
       "    <tr>\n",
       "      <th>adexchange</th>\n",
       "      <th></th>\n",
       "      <th></th>\n",
       "      <th></th>\n",
       "    </tr>\n",
       "  </thead>\n",
       "  <tbody>\n",
       "    <tr>\n",
       "      <th>1</th>\n",
       "      <td>146</td>\n",
       "      <td>159379</td>\n",
       "      <td>0.000916</td>\n",
       "    </tr>\n",
       "    <tr>\n",
       "      <th>2</th>\n",
       "      <td>48</td>\n",
       "      <td>93691</td>\n",
       "      <td>0.000512</td>\n",
       "    </tr>\n",
       "    <tr>\n",
       "      <th>3</th>\n",
       "      <td>39</td>\n",
       "      <td>51712</td>\n",
       "      <td>0.000754</td>\n",
       "    </tr>\n",
       "  </tbody>\n",
       "</table>\n",
       "</div>"
      ],
      "text/plain": [
       "            click  adexchange       CTR\n",
       "adexchange                             \n",
       "1             146      159379  0.000916\n",
       "2              48       93691  0.000512\n",
       "3              39       51712  0.000754"
      ]
     },
     "execution_count": 64,
     "metadata": {},
     "output_type": "execute_result"
    }
   ],
   "source": [
    "adex3358_graph"
   ]
  },
  {
   "cell_type": "code",
   "execution_count": 65,
   "metadata": {
    "collapsed": false
   },
   "outputs": [
    {
     "name": "stderr",
     "output_type": "stream",
     "text": [
      "/Users/nishimuraaki/anaconda/lib/python3.5/site-packages/matplotlib/axes/_axes.py:531: UserWarning: No labelled objects found. Use label='...' kwarg on individual plots.\n",
      "  warnings.warn(\"No labelled objects found. \"\n"
     ]
    },
    {
     "data": {
      "image/png": "[encoded data removed]",
      "text/plain": [
       "<matplotlib.figure.Figure at 0x13ca69f28>"
      ]
     },
     "metadata": {},
     "output_type": "display_data"
    }
   ],
   "source": [
    "# set x-axis\n",
    "w = 0.3 # width of the bar\n",
    "left = np.arange(len(np.array(adex1458_graph['CTR'])))\n",
    "plt.subplot()\n",
    "\n",
    "plt.subplot()\n",
    "plot = plt.bar(left, np.array(adex1458_graph['CTR']), width=0.3, align=\"center\", color = 'b', alpha=0.7)\n",
    "plot = plt.bar(left + w, np.array(adex3358_graph['CTR']), width=0.3, align=\"center\", color = 'g', alpha=0.7)\n",
    "plt.legend()\n",
    "plt.xlim(-0.5, 2.8)\n",
    "plt.xticks(left + w/2, ['1', '2', '3'], fontsize=9)\n",
    "plt.show()"
   ]
  },
  {
   "cell_type": "code",
   "execution_count": 66,
   "metadata": {
    "collapsed": false
   },
   "outputs": [
    {
     "data": {
      "text/plain": [
       "Index(['1', '2', '3'], dtype='object', name='adexchange')"
      ]
     },
     "execution_count": 66,
     "metadata": {},
     "output_type": "execute_result"
    }
   ],
   "source": [
    "adex1458_graph.index"
   ]
  },
  {
   "cell_type": "markdown",
   "metadata": {
    "collapsed": true
   },
   "source": [
    "# ALL"
   ]
  },
  {
   "cell_type": "code",
   "execution_count": 69,
   "metadata": {
    "collapsed": false
   },
   "outputs": [
    {
     "name": "stderr",
     "output_type": "stream",
     "text": [
      "/Users/nishimuraaki/anaconda/lib/python3.5/site-packages/matplotlib/axes/_axes.py:531: UserWarning: No labelled objects found. Use label='...' kwarg on individual plots.\n",
      "  warnings.warn(\"No labelled objects found. \"\n"
     ]
    },
    {
     "data": {
      "image/png": "[encoded data removed]",
      "text/plain": [
       "<matplotlib.figure.Figure at 0x13d555f98>"
      ]
     },
     "metadata": {},
     "output_type": "display_data"
    },
    {
     "data": {
      "image/png": "[encoded data removed]",
      "text/plain": [
       "<matplotlib.figure.Figure at 0x13d94e710>"
      ]
     },
     "metadata": {},
     "output_type": "display_data"
    },
    {
     "data": {
      "image/png": "[encoded data removed]",
      "text/plain": [
       "<matplotlib.figure.Figure at 0x13db410b8>"
      ]
     },
     "metadata": {},
     "output_type": "display_data"
    },
    {
     "data": {
      "image/png": "[encoded data removed]",
      "text/plain": [
       "<matplotlib.figure.Figure at 0x13e518be0>"
      ]
     },
     "metadata": {},
     "output_type": "display_data"
    }
   ],
   "source": [
    "plt.rc('font', size=12)\n",
    "\n",
    "fig = plt.figure(figsize=(10,3))\n",
    "gs = gridspec.GridSpec(1, 2, width_ratios=[2.5, 3]) \n",
    "alpha = 0.6\n",
    "\n",
    "ax0 = plt.subplot(gs[0])\n",
    "#ax0 = plt.subplot2grid((3,3), (0,0), colspan=1)\n",
    "plt.plot(weekday1458_graph[\"CTR\"], 'o-', linewidth=2, color = 'b', alpha=0.7)\n",
    "plt.plot(weekday3358_graph[\"CTR\"], 'o-', linewidth=2, color = 'g', alpha=0.7)\n",
    "#plt.legend()\n",
    "plt.xlim(-0.5, 6.5)\n",
    "plt.xticks(weekday1458_graph.index, fontsize=9)\n",
    "ax0.set_xlabel('Weekday')\n",
    "ax0.set_ylabel('CTR')\n",
    "\n",
    "ax1 = plt.subplot(gs[1])\n",
    "#ax1 = plt.subplot2grid((3,3), (0,1), colspan=2)\n",
    "plt.plot(hour_1458[\"1458\"], 'o-', linewidth=2, color = 'b', alpha=0.7)\n",
    "plt.plot(hour_3358[\"3358\"], 'o-', linewidth=2, color = 'g', alpha=0.7)\n",
    "ax1.set_xlabel('Hour')\n",
    "ax1.set_ylabel('CTR')\n",
    "#ax0.legend(loc='upper left')\n",
    "plt.xlim(-0.5, 23.8)\n",
    "plt.xticks(range(24))\n",
    "ax1.legend(bbox_to_anchor=(1.25, 1))\n",
    "\n",
    "################\n",
    "plt.rc('font', size=12)\n",
    "fig = plt.figure(figsize=(9.5,3))\n",
    "gs = gridspec.GridSpec(1, 2, width_ratios=[2.5, 3]) \n",
    "alpha = 0.6\n",
    "\n",
    "ax2 = plt.subplot(gs[0])\n",
    "os_w = 0.3 # 棒の幅\n",
    "os_left = np.arange(len(np.array(os1458_graph)))\n",
    "plt.bar(os_left, np.array(os1458_graph), width=0.3, align=\"center\", color = 'b',alpha=0.7)\n",
    "plt.bar(os_left + os_w, np.array(os3358_graph), width=0.3, align=\"center\", color = 'g', alpha=0.7)\n",
    "ax2.set_xlabel('OS')\n",
    "ax2.set_ylabel('CTR')\n",
    "#ax0.legend(loc='upper left')\n",
    "plt.xlim(-0.5, 5.8)\n",
    "plt.xticks(os_left + os_w/2, ['android', 'ios', 'linux', 'mac', 'other', 'windows'], fontsize=9)\n",
    "ax2.legend(loc='best')\n",
    "\n",
    "ax3 = plt.subplot(gs[1])\n",
    "bs_w = 0.3 # 棒の幅\n",
    "bs_left = np.arange(len(np.array(bs_1458['CTR'])))\n",
    "plt.bar(bs_left, np.array(bs_1458['CTR']), width=0.3, align=\"center\", color = 'b', alpha=0.7)\n",
    "plt.bar(bs_left + w, np.array(bs_3358['CTR']), width=0.3, align=\"center\", color = 'g', alpha=0.7)\n",
    "ax3.set_xlabel('Browser')\n",
    "ax3.set_ylabel('CTR')\n",
    "#ax0.legend(loc='upper left')\n",
    "plt.xlim(-0.5, 8.8)\n",
    "plt.xticks(bs_left + bs_w/2, ['chrome', 'firefox', 'ie', 'maxthon', 'opera', 'other', 'safari', 'sogou', 'theworld'], fontsize=9)\n",
    "ax3.legend(loc='best')\n",
    "\n",
    "plt.tight_layout()\n",
    "\n",
    "################\n",
    "plt.rc('font', size=12)\n",
    "fig = plt.figure(figsize=(19.5,3))\n",
    "gs = gridspec.GridSpec(1, 1, width_ratios=[2.5, 3]) \n",
    "alpha = 0.6\n",
    "\n",
    "ax4 = plt.subplot(gs[0])\n",
    "region_w = 0.3 # 棒の幅\n",
    "region_left = np.arange(len(np.array(region1458_graph['CTR'])))\n",
    "plt.bar(region_left, np.array(region1458_graph['CTR']), width=0.3, align=\"center\", color = 'b', alpha=0.7)\n",
    "plt.bar(region_left + region_w, np.array(region3358_graph['CTR']), width=0.3, align=\"center\", color = 'g', alpha=0.7)\n",
    "ax4.set_xlabel('Region')\n",
    "ax4.set_ylabel('CTR')\n",
    "#ax0.legend(loc='upper left')\n",
    "plt.xlim(-0.5, 34.8)\n",
    "plt.xticks(region_left + region_w/2, region1458_graph.index, fontsize=9)\n",
    "ax4.legend(loc='best')\n",
    "\n",
    "plt.tight_layout()\n",
    "\n",
    "######################\n",
    "plt.rc('font', size=12)\n",
    "fig= plt.figure(figsize=(9.5,3))\n",
    "gs = gridspec.GridSpec(1, 2, width_ratios=[3, 1]) \n",
    "alpha = 0.6\n",
    "\n",
    "ax5 = plt.subplot(gs[0])\n",
    "ssize_graph.plot.bar(ax = ax5, color=['b', 'g'], width=0.5, alpha=0.7, rot=0, fontsize=9, legend=False)\n",
    "ax5.set_xlabel('Slot size')\n",
    "ax5.set_ylabel('CTR')\n",
    "plt.yticks(fontsize=10)\n",
    "\n",
    "ax6 = plt.subplot(gs[1])\n",
    "adex_w = 0.3 # 棒の幅\n",
    "adex_left = np.arange(len(np.array(adex1458_graph['CTR'])))\n",
    "\n",
    "plt.bar(adex_left, np.array(adex1458_graph['CTR']), width=0.3, align=\"center\", color = 'b', alpha=0.7)\n",
    "plt.bar(adex_left + adex_w, np.array(adex3358_graph['CTR']), width=0.3, align=\"center\", color = 'g', alpha=0.7)\n",
    "plt.legend()\n",
    "plt.xlim(-0.5, 2.8)\n",
    "plt.xticks(adex_left + adex_w/2, ['1', '2', '3'], fontsize=9)\n",
    "ax6.set_xlabel('Adexchange')\n",
    "ax6.set_ylabel('CTR')\n",
    "plt.tight_layout()\n",
    "\n",
    "\n",
    "plt.tight_layout()\n",
    "#plt.show()\n",
    "fig.savefig(\"graphs_userfeedback.png\")"
   ]
  }
 ],
 "metadata": {
  "anaconda-cloud": {},
  "kernelspec": {
   "display_name": "Python [conda root]",
   "language": "python",
   "name": "conda-root-py"
  },
  "language_info": {
   "codemirror_mode": {
    "name": "ipython",
    "version": 3
   },
   "file_extension": ".py",
   "mimetype": "text/x-python",
   "name": "python",
   "nbconvert_exporter": "python",
   "pygments_lexer": "ipython3",
   "version": "3.5.2"
  }
 },
 "nbformat": 4,
 "nbformat_minor": 1
}
