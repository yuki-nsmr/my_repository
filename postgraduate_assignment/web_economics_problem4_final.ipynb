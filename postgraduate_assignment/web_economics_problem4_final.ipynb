{
 "cells": [
  {
   "cell_type": "code",
   "execution_count": 1,
   "metadata": {
    "collapsed": false
   },
   "outputs": [
    {
     "name": "stderr",
     "output_type": "stream",
     "text": [
      "/Users/nishimuraaki/anaconda/lib/python3.5/site-packages/sklearn/cross_validation.py:44: DeprecationWarning: This module was deprecated in version 0.18 in favor of the model_selection module into which all the refactored classes and functions are moved. Also note that the interface of the new CV iterators are different from that of this module. This module will be removed in 0.20.\n",
      "  \"This module will be removed in 0.20.\", DeprecationWarning)\n"
     ]
    }
   ],
   "source": [
    "import pandas as pd\n",
    "import matplotlib.pyplot as plt\n",
    "import numpy as np\n",
    "from sklearn.ensemble import RandomForestClassifier\n",
    "from sklearn import preprocessing\n",
    "import numpy\n",
    "from sklearn import linear_model\n",
    "from sklearn.linear_model import LogisticRegression\n",
    "from sklearn.metrics import accuracy_score\n",
    "import xgboost as xgb"
   ]
  },
  {
   "cell_type": "code",
   "execution_count": 2,
   "metadata": {
    "collapsed": true
   },
   "outputs": [],
   "source": [
    "train_df = pd.read_csv(\"train.csv\")"
   ]
  },
  {
   "cell_type": "code",
   "execution_count": 3,
   "metadata": {
    "collapsed": true
   },
   "outputs": [],
   "source": [
    "test_df = pd.read_csv(\"test.csv\")\n",
    "valid_df = pd.read_csv(\"validation.csv\")"
   ]
  },
  {
   "cell_type": "code",
   "execution_count": 4,
   "metadata": {
    "collapsed": true
   },
   "outputs": [],
   "source": [
    "train_int = train_df"
   ]
  },
  {
   "cell_type": "code",
   "execution_count": 5,
   "metadata": {
    "collapsed": true
   },
   "outputs": [],
   "source": [
    "for index, c in train_int.iterrows():  \n",
    "    if c.slotformat in \"Na\":\n",
    "        train_int.set_value(index, 'slotformat', 10)"
   ]
  },
  {
   "cell_type": "code",
   "execution_count": 6,
   "metadata": {
    "collapsed": true
   },
   "outputs": [],
   "source": [
    "d = {'1': 1, '2': 2, '3': 3 ,'4': 4, 'null': 0}\n",
    "train_int['adexchange']=train_int['adexchange'].map(d)"
   ]
  },
  {
   "cell_type": "code",
   "execution_count": 7,
   "metadata": {
    "collapsed": true
   },
   "outputs": [],
   "source": [
    "# Set the random seed\n",
    "np.random.seed(12)\n",
    "\n",
    "# Initialize label encoder\n",
    "# label_encoder = preprocessing.LabelEncoder()"
   ]
  },
  {
   "cell_type": "code",
   "execution_count": 8,
   "metadata": {
    "collapsed": true
   },
   "outputs": [],
   "source": [
    "for index, c in test_df.iterrows():  \n",
    "    if c.slotformat in \"Na\":\n",
    "        test_df.set_value(index, 'slotformat', 10)\n",
    "\n",
    "d = {'1': 1, '2': 2, '3': 3 ,'4': 4, 'null': 0}\n",
    "test_df['adexchange']=test_df['adexchange'].map(d)"
   ]
  },
  {
   "cell_type": "code",
   "execution_count": 9,
   "metadata": {
    "collapsed": true
   },
   "outputs": [],
   "source": [
    "for index, c in valid_df.iterrows():  \n",
    "    if c.slotformat in \"Na\":\n",
    "        valid_df.set_value(index, 'slotformat', 10)\n",
    "\n",
    "d = {'1': 1, '2': 2, '3': 3 ,'4': 4, 'null': 0}\n",
    "valid_df['adexchange']=valid_df['adexchange'].map(d)"
   ]
  },
  {
   "cell_type": "code",
   "execution_count": 10,
   "metadata": {
    "collapsed": false
   },
   "outputs": [
    {
     "data": {
      "text/plain": [
       "0.0007539649884458758"
      ]
     },
     "execution_count": 10,
     "metadata": {},
     "output_type": "execute_result"
    }
   ],
   "source": [
    "# avgCTR\n",
    "\n",
    "only_ones = train_int[train_int.click == 1]\n",
    "avgCTR = len(only_ones)/len(train_int)\n",
    "avgCTR"
   ]
  },
  {
   "cell_type": "code",
   "execution_count": 11,
   "metadata": {
    "collapsed": true
   },
   "outputs": [],
   "source": [
    "adjust_train = train_int"
   ]
  },
  {
   "cell_type": "markdown",
   "metadata": {},
   "source": [
    "# Outline\n",
    "\n",
    "1. predict pCTR  \n",
    "    * train  \n",
    "    * validation\n",
    "    * test    \n",
    "2. predict Payprice\n",
    "    * train\n",
    "    * validation  \n",
    "    * test      \n",
    "3. predict BIdprice\n",
    "    * train  \n",
    "    * validation  \n",
    "    * test\n",
    "4. Evaluation"
   ]
  },
  {
   "cell_type": "markdown",
   "metadata": {},
   "source": [
    "## First step - Predict pCTR"
   ]
  },
  {
   "cell_type": "markdown",
   "metadata": {},
   "source": [
    "### (1) Create a model using Train dataset - predict pCTR"
   ]
  },
  {
   "cell_type": "code",
   "execution_count": 12,
   "metadata": {
    "collapsed": true
   },
   "outputs": [],
   "source": [
    "adjust_train['area'] = adjust_train['slotwidth']*adjust_train['slotheight']"
   ]
  },
  {
   "cell_type": "code",
   "execution_count": 13,
   "metadata": {
    "collapsed": true
   },
   "outputs": [],
   "source": [
    "#Define features\n",
    "features = [\"weekday\", \"hour\", \"region\", \"city\", \"area\", \"slotprice\", \"advertiser\", \"adexchange\"]\n",
    "# Prepare X and y\n",
    "X = adjust_train[features]\n",
    "y = adjust_train['click']"
   ]
  },
  {
   "cell_type": "code",
   "execution_count": 14,
   "metadata": {
    "collapsed": false
   },
   "outputs": [
    {
     "data": {
      "text/html": [
       "<div>\n",
       "<table border=\"1\" class=\"dataframe\">\n",
       "  <thead>\n",
       "    <tr style=\"text-align: right;\">\n",
       "      <th></th>\n",
       "      <th>weekday</th>\n",
       "      <th>hour</th>\n",
       "      <th>region</th>\n",
       "      <th>city</th>\n",
       "      <th>area</th>\n",
       "      <th>slotprice</th>\n",
       "      <th>advertiser</th>\n",
       "      <th>adexchange</th>\n",
       "    </tr>\n",
       "  </thead>\n",
       "  <tbody>\n",
       "    <tr>\n",
       "      <th>0</th>\n",
       "      <td>1</td>\n",
       "      <td>14</td>\n",
       "      <td>80</td>\n",
       "      <td>85</td>\n",
       "      <td>28080</td>\n",
       "      <td>5</td>\n",
       "      <td>1458</td>\n",
       "      <td>2</td>\n",
       "    </tr>\n",
       "    <tr>\n",
       "      <th>1</th>\n",
       "      <td>2</td>\n",
       "      <td>20</td>\n",
       "      <td>94</td>\n",
       "      <td>95</td>\n",
       "      <td>62500</td>\n",
       "      <td>5</td>\n",
       "      <td>3476</td>\n",
       "      <td>2</td>\n",
       "    </tr>\n",
       "    <tr>\n",
       "      <th>2</th>\n",
       "      <td>5</td>\n",
       "      <td>9</td>\n",
       "      <td>216</td>\n",
       "      <td>217</td>\n",
       "      <td>94080</td>\n",
       "      <td>0</td>\n",
       "      <td>1458</td>\n",
       "      <td>1</td>\n",
       "    </tr>\n",
       "    <tr>\n",
       "      <th>3</th>\n",
       "      <td>2</td>\n",
       "      <td>20</td>\n",
       "      <td>216</td>\n",
       "      <td>221</td>\n",
       "      <td>65520</td>\n",
       "      <td>162</td>\n",
       "      <td>3427</td>\n",
       "      <td>2</td>\n",
       "    </tr>\n",
       "    <tr>\n",
       "      <th>4</th>\n",
       "      <td>6</td>\n",
       "      <td>9</td>\n",
       "      <td>40</td>\n",
       "      <td>48</td>\n",
       "      <td>85500</td>\n",
       "      <td>0</td>\n",
       "      <td>3476</td>\n",
       "      <td>1</td>\n",
       "    </tr>\n",
       "  </tbody>\n",
       "</table>\n",
       "</div>"
      ],
      "text/plain": [
       "   weekday  hour  region  city   area  slotprice  advertiser  adexchange\n",
       "0        1    14      80    85  28080          5        1458           2\n",
       "1        2    20      94    95  62500          5        3476           2\n",
       "2        5     9     216   217  94080          0        1458           1\n",
       "3        2    20     216   221  65520        162        3427           2\n",
       "4        6     9      40    48  85500          0        3476           1"
      ]
     },
     "execution_count": 14,
     "metadata": {},
     "output_type": "execute_result"
    }
   ],
   "source": [
    "X.head()"
   ]
  },
  {
   "cell_type": "code",
   "execution_count": 15,
   "metadata": {
    "collapsed": false
   },
   "outputs": [
    {
     "name": "stderr",
     "output_type": "stream",
     "text": [
      "/Users/nishimuraaki/anaconda/lib/python3.5/site-packages/ipykernel/__main__.py:1: SettingWithCopyWarning: \n",
      "A value is trying to be set on a copy of a slice from a DataFrame.\n",
      "Try using .loc[row_indexer,col_indexer] = value instead\n",
      "\n",
      "See the caveats in the documentation: http://pandas.pydata.org/pandas-docs/stable/indexing.html#indexing-view-versus-copy\n",
      "  if __name__ == '__main__':\n",
      "/Users/nishimuraaki/anaconda/lib/python3.5/site-packages/ipykernel/__main__.py:2: SettingWithCopyWarning: \n",
      "A value is trying to be set on a copy of a slice from a DataFrame.\n",
      "Try using .loc[row_indexer,col_indexer] = value instead\n",
      "\n",
      "See the caveats in the documentation: http://pandas.pydata.org/pandas-docs/stable/indexing.html#indexing-view-versus-copy\n",
      "  from ipykernel import kernelapp as app\n"
     ]
    }
   ],
   "source": [
    "X['advertiser']=X['advertiser'].astype(str)\n",
    "X['adexchange']=X['adexchange'].astype(str)"
   ]
  },
  {
   "cell_type": "code",
   "execution_count": 16,
   "metadata": {
    "collapsed": true
   },
   "outputs": [],
   "source": [
    "X_dummies = pd.get_dummies(X)"
   ]
  },
  {
   "cell_type": "code",
   "execution_count": 17,
   "metadata": {
    "collapsed": true
   },
   "outputs": [],
   "source": [
    "X_dummies = X_dummies.astype(\"int\")"
   ]
  },
  {
   "cell_type": "code",
   "execution_count": 18,
   "metadata": {
    "collapsed": false
   },
   "outputs": [],
   "source": [
    "#X_dummies"
   ]
  },
  {
   "cell_type": "code",
   "execution_count": 19,
   "metadata": {
    "collapsed": false
   },
   "outputs": [
    {
     "data": {
      "text/plain": [
       "XGBRegressor(base_score=0.5, colsample_bylevel=1, colsample_bytree=1, gamma=0,\n",
       "       learning_rate=0.5, max_delta_step=0, max_depth=3,\n",
       "       min_child_weight=1, missing=None, n_estimators=100, nthread=-1,\n",
       "       objective='reg:linear', reg_alpha=0, reg_lambda=1,\n",
       "       scale_pos_weight=1, seed=0, silent=True, subsample=1)"
      ]
     },
     "execution_count": 19,
     "metadata": {},
     "output_type": "execute_result"
    }
   ],
   "source": [
    "# Train the model to estimate pCTR\n",
    "clf_pCTR = xgb.XGBRegressor(n_estimators=100, max_depth = 3, learning_rate=0.5)\n",
    "clf_pCTR.fit(X_dummies, y)"
   ]
  },
  {
   "cell_type": "code",
   "execution_count": 20,
   "metadata": {
    "collapsed": false
   },
   "outputs": [
    {
     "data": {
      "text/plain": [
       "array([  7.00712204e-04,   1.16795301e-04,   5.30719757e-04, ...,\n",
       "        -7.95722008e-05,   4.37617302e-04,   5.63412905e-04], dtype=float32)"
      ]
     },
     "execution_count": 20,
     "metadata": {},
     "output_type": "execute_result"
    }
   ],
   "source": [
    "# pCTR\n",
    "y_train_pred = clf_pCTR.predict(X_dummies)\n",
    "y_train_pred"
   ]
  },
  {
   "cell_type": "code",
   "execution_count": 21,
   "metadata": {
    "collapsed": false
   },
   "outputs": [
    {
     "name": "stdout",
     "output_type": "stream",
     "text": [
      "RMSE: 0.027399584680827743\n"
     ]
    }
   ],
   "source": [
    "# Mean square errors ==> the measurement of errors\n",
    "import math\n",
    "from sklearn.metrics import mean_squared_error\n",
    "MSE = mean_squared_error(y_train_pred ,y)\n",
    "RMSE = math.sqrt(MSE)\n",
    "print(\"RMSE: \" + str(RMSE))"
   ]
  },
  {
   "cell_type": "markdown",
   "metadata": {},
   "source": [
    "==> RMSE is small because of the imbalanced dataset. Hence, the small value of RMSE does not mean that the model is good in this case."
   ]
  },
  {
   "cell_type": "markdown",
   "metadata": {},
   "source": [
    "### (2) Check a model using Validation dataset - predict pCTR"
   ]
  },
  {
   "cell_type": "code",
   "execution_count": 22,
   "metadata": {
    "collapsed": true
   },
   "outputs": [],
   "source": [
    "valid_df['area'] = valid_df['slotwidth']*valid_df['slotheight']"
   ]
  },
  {
   "cell_type": "code",
   "execution_count": 23,
   "metadata": {
    "collapsed": true
   },
   "outputs": [],
   "source": [
    "#Define features\n",
    "features = [\"weekday\", \"hour\", \"region\", \"city\", \"area\", \"slotprice\", \"advertiser\", \"adexchange\"]\n",
    "# Prepare X and y (We use X for predict pCTR, and y for check the error)\n",
    "X = valid_df[features]\n",
    "y = valid_df['click']"
   ]
  },
  {
   "cell_type": "code",
   "execution_count": 24,
   "metadata": {
    "collapsed": false
   },
   "outputs": [
    {
     "name": "stderr",
     "output_type": "stream",
     "text": [
      "/Users/nishimuraaki/anaconda/lib/python3.5/site-packages/ipykernel/__main__.py:2: SettingWithCopyWarning: \n",
      "A value is trying to be set on a copy of a slice from a DataFrame.\n",
      "Try using .loc[row_indexer,col_indexer] = value instead\n",
      "\n",
      "See the caveats in the documentation: http://pandas.pydata.org/pandas-docs/stable/indexing.html#indexing-view-versus-copy\n",
      "  from ipykernel import kernelapp as app\n",
      "/Users/nishimuraaki/anaconda/lib/python3.5/site-packages/ipykernel/__main__.py:3: SettingWithCopyWarning: \n",
      "A value is trying to be set on a copy of a slice from a DataFrame.\n",
      "Try using .loc[row_indexer,col_indexer] = value instead\n",
      "\n",
      "See the caveats in the documentation: http://pandas.pydata.org/pandas-docs/stable/indexing.html#indexing-view-versus-copy\n",
      "  app.launch_new_instance()\n"
     ]
    }
   ],
   "source": [
    "# Convert datatype into strings in order to create dummies\n",
    "X['advertiser']=X['advertiser'].astype(str)\n",
    "X['adexchange']=X['adexchange'].astype(str)"
   ]
  },
  {
   "cell_type": "code",
   "execution_count": 25,
   "metadata": {
    "collapsed": true
   },
   "outputs": [],
   "source": [
    "X_dummies = pd.get_dummies(X)"
   ]
  },
  {
   "cell_type": "code",
   "execution_count": 26,
   "metadata": {
    "collapsed": true
   },
   "outputs": [],
   "source": [
    "# To fit a model, convert strings into integer\n",
    "X_dummies = X_dummies.astype(\"int\")"
   ]
  },
  {
   "cell_type": "code",
   "execution_count": 27,
   "metadata": {
    "collapsed": false
   },
   "outputs": [
    {
     "data": {
      "text/plain": [
       "array([ 0.00103101,  0.00782758,  0.00130215, ...,  0.00015113,\n",
       "        0.00032473,  0.00096089], dtype=float32)"
      ]
     },
     "execution_count": 27,
     "metadata": {},
     "output_type": "execute_result"
    }
   ],
   "source": [
    "# predict pCTR by using the model\n",
    "y_val_pred = clf_pCTR.predict(X_dummies)\n",
    "y_val_pred"
   ]
  },
  {
   "cell_type": "code",
   "execution_count": 28,
   "metadata": {
    "collapsed": false
   },
   "outputs": [
    {
     "name": "stdout",
     "output_type": "stream",
     "text": [
      "RMSE: 0.02746000707533313\n"
     ]
    }
   ],
   "source": [
    "# Mean square errors ==> the measurement of errors\n",
    "import math\n",
    "from sklearn.metrics import mean_squared_error\n",
    "MSE = mean_squared_error(y_val_pred ,y)\n",
    "RMSE = math.sqrt(MSE)\n",
    "print(\"RMSE: \" + str(RMSE))"
   ]
  },
  {
   "cell_type": "markdown",
   "metadata": {},
   "source": [
    "==> Because of the imbalanceness of the dataset, RMSE is small. I cannot measure the model accuracy from RMSE in this case."
   ]
  },
  {
   "cell_type": "markdown",
   "metadata": {},
   "source": [
    "### (3) Apply a model to Test dataset - predict pCTR"
   ]
  },
  {
   "cell_type": "code",
   "execution_count": 29,
   "metadata": {
    "collapsed": true
   },
   "outputs": [],
   "source": [
    "test_df['area'] = test_df['slotwidth']*test_df['slotheight']"
   ]
  },
  {
   "cell_type": "code",
   "execution_count": 30,
   "metadata": {
    "collapsed": true
   },
   "outputs": [],
   "source": [
    "#Define features\n",
    "features = [\"weekday\", \"hour\", \"region\", \"city\", \"area\", \"slotprice\", \"advertiser\", \"adexchange\"]\n",
    "# Prepare X \n",
    "X = test_df[features]"
   ]
  },
  {
   "cell_type": "code",
   "execution_count": 31,
   "metadata": {
    "collapsed": false
   },
   "outputs": [
    {
     "name": "stderr",
     "output_type": "stream",
     "text": [
      "/Users/nishimuraaki/anaconda/lib/python3.5/site-packages/ipykernel/__main__.py:2: SettingWithCopyWarning: \n",
      "A value is trying to be set on a copy of a slice from a DataFrame.\n",
      "Try using .loc[row_indexer,col_indexer] = value instead\n",
      "\n",
      "See the caveats in the documentation: http://pandas.pydata.org/pandas-docs/stable/indexing.html#indexing-view-versus-copy\n",
      "  from ipykernel import kernelapp as app\n",
      "/Users/nishimuraaki/anaconda/lib/python3.5/site-packages/ipykernel/__main__.py:3: SettingWithCopyWarning: \n",
      "A value is trying to be set on a copy of a slice from a DataFrame.\n",
      "Try using .loc[row_indexer,col_indexer] = value instead\n",
      "\n",
      "See the caveats in the documentation: http://pandas.pydata.org/pandas-docs/stable/indexing.html#indexing-view-versus-copy\n",
      "  app.launch_new_instance()\n"
     ]
    }
   ],
   "source": [
    "# Convert datatype into strings in order to create dummies\n",
    "X['advertiser']=X['advertiser'].astype(str)\n",
    "X['adexchange']=X['adexchange'].astype(str)"
   ]
  },
  {
   "cell_type": "code",
   "execution_count": 32,
   "metadata": {
    "collapsed": true
   },
   "outputs": [],
   "source": [
    "# Create dummies\n",
    "X_dummies = pd.get_dummies(X)"
   ]
  },
  {
   "cell_type": "code",
   "execution_count": 33,
   "metadata": {
    "collapsed": true
   },
   "outputs": [],
   "source": [
    "# To fit a model, convert strings into integer\n",
    "X_dummies = X_dummies.astype(\"int\")"
   ]
  },
  {
   "cell_type": "code",
   "execution_count": 34,
   "metadata": {
    "collapsed": false
   },
   "outputs": [
    {
     "data": {
      "text/plain": [
       "array([ 0.00106522,  0.00012732,  0.00028607, ...,  0.00099769,\n",
       "        0.00038162,  0.0003221 ], dtype=float32)"
      ]
     },
     "execution_count": 34,
     "metadata": {},
     "output_type": "execute_result"
    }
   ],
   "source": [
    "# predict pCTR by using the model\n",
    "y_test_pred = clf_pCTR.predict(X_dummies)\n",
    "y_test_pred"
   ]
  },
  {
   "cell_type": "code",
   "execution_count": 35,
   "metadata": {
    "collapsed": false
   },
   "outputs": [],
   "source": [
    "pCTR_test = y_test_pred"
   ]
  },
  {
   "cell_type": "markdown",
   "metadata": {},
   "source": [
    "## Second step - Predict payprice"
   ]
  },
  {
   "cell_type": "markdown",
   "metadata": {},
   "source": [
    "### (1) Create a model using Train dataset - predict payprice"
   ]
  },
  {
   "cell_type": "code",
   "execution_count": 36,
   "metadata": {
    "collapsed": false
   },
   "outputs": [],
   "source": [
    "# predict payprice by using the following features\n",
    "# \"click\", \"weekday\", \"hour\", \"region\", \"city\", \"area\", \"slotprice\", \"advertiser\", \"adexchange\"\n",
    "# \"click\" represents pCTR that we calculated above\n",
    "adjust_train['pCTR'] = y_train_pred"
   ]
  },
  {
   "cell_type": "code",
   "execution_count": 37,
   "metadata": {
    "collapsed": true
   },
   "outputs": [],
   "source": [
    "#Define features\n",
    "features = [\"pCTR\", \"weekday\", \"hour\", \"region\", \"city\", \"area\", \"slotprice\", \"advertiser\", \"adexchange\"]\n",
    "# Prepare X and y (We use X for predict pCTR, and y for check the error)\n",
    "X = adjust_train[features]\n",
    "y = adjust_train['payprice']"
   ]
  },
  {
   "cell_type": "code",
   "execution_count": 38,
   "metadata": {
    "collapsed": false
   },
   "outputs": [
    {
     "data": {
      "text/html": [
       "<div>\n",
       "<table border=\"1\" class=\"dataframe\">\n",
       "  <thead>\n",
       "    <tr style=\"text-align: right;\">\n",
       "      <th></th>\n",
       "      <th>pCTR</th>\n",
       "      <th>weekday</th>\n",
       "      <th>hour</th>\n",
       "      <th>region</th>\n",
       "      <th>city</th>\n",
       "      <th>area</th>\n",
       "      <th>slotprice</th>\n",
       "      <th>advertiser</th>\n",
       "      <th>adexchange</th>\n",
       "    </tr>\n",
       "  </thead>\n",
       "  <tbody>\n",
       "    <tr>\n",
       "      <th>0</th>\n",
       "      <td>0.000701</td>\n",
       "      <td>1</td>\n",
       "      <td>14</td>\n",
       "      <td>80</td>\n",
       "      <td>85</td>\n",
       "      <td>28080</td>\n",
       "      <td>5</td>\n",
       "      <td>1458</td>\n",
       "      <td>2</td>\n",
       "    </tr>\n",
       "    <tr>\n",
       "      <th>1</th>\n",
       "      <td>0.000117</td>\n",
       "      <td>2</td>\n",
       "      <td>20</td>\n",
       "      <td>94</td>\n",
       "      <td>95</td>\n",
       "      <td>62500</td>\n",
       "      <td>5</td>\n",
       "      <td>3476</td>\n",
       "      <td>2</td>\n",
       "    </tr>\n",
       "    <tr>\n",
       "      <th>2</th>\n",
       "      <td>0.000531</td>\n",
       "      <td>5</td>\n",
       "      <td>9</td>\n",
       "      <td>216</td>\n",
       "      <td>217</td>\n",
       "      <td>94080</td>\n",
       "      <td>0</td>\n",
       "      <td>1458</td>\n",
       "      <td>1</td>\n",
       "    </tr>\n",
       "    <tr>\n",
       "      <th>3</th>\n",
       "      <td>0.000959</td>\n",
       "      <td>2</td>\n",
       "      <td>20</td>\n",
       "      <td>216</td>\n",
       "      <td>221</td>\n",
       "      <td>65520</td>\n",
       "      <td>162</td>\n",
       "      <td>3427</td>\n",
       "      <td>2</td>\n",
       "    </tr>\n",
       "    <tr>\n",
       "      <th>4</th>\n",
       "      <td>-0.000054</td>\n",
       "      <td>6</td>\n",
       "      <td>9</td>\n",
       "      <td>40</td>\n",
       "      <td>48</td>\n",
       "      <td>85500</td>\n",
       "      <td>0</td>\n",
       "      <td>3476</td>\n",
       "      <td>1</td>\n",
       "    </tr>\n",
       "  </tbody>\n",
       "</table>\n",
       "</div>"
      ],
      "text/plain": [
       "       pCTR  weekday  hour  region  city   area  slotprice  advertiser  \\\n",
       "0  0.000701        1    14      80    85  28080          5        1458   \n",
       "1  0.000117        2    20      94    95  62500          5        3476   \n",
       "2  0.000531        5     9     216   217  94080          0        1458   \n",
       "3  0.000959        2    20     216   221  65520        162        3427   \n",
       "4 -0.000054        6     9      40    48  85500          0        3476   \n",
       "\n",
       "   adexchange  \n",
       "0           2  \n",
       "1           2  \n",
       "2           1  \n",
       "3           2  \n",
       "4           1  "
      ]
     },
     "execution_count": 38,
     "metadata": {},
     "output_type": "execute_result"
    }
   ],
   "source": [
    "X.head()"
   ]
  },
  {
   "cell_type": "code",
   "execution_count": 39,
   "metadata": {
    "collapsed": false
   },
   "outputs": [
    {
     "name": "stderr",
     "output_type": "stream",
     "text": [
      "/Users/nishimuraaki/anaconda/lib/python3.5/site-packages/ipykernel/__main__.py:2: SettingWithCopyWarning: \n",
      "A value is trying to be set on a copy of a slice from a DataFrame.\n",
      "Try using .loc[row_indexer,col_indexer] = value instead\n",
      "\n",
      "See the caveats in the documentation: http://pandas.pydata.org/pandas-docs/stable/indexing.html#indexing-view-versus-copy\n",
      "  from ipykernel import kernelapp as app\n",
      "/Users/nishimuraaki/anaconda/lib/python3.5/site-packages/ipykernel/__main__.py:3: SettingWithCopyWarning: \n",
      "A value is trying to be set on a copy of a slice from a DataFrame.\n",
      "Try using .loc[row_indexer,col_indexer] = value instead\n",
      "\n",
      "See the caveats in the documentation: http://pandas.pydata.org/pandas-docs/stable/indexing.html#indexing-view-versus-copy\n",
      "  app.launch_new_instance()\n"
     ]
    }
   ],
   "source": [
    "# convert int datatype to strings in order to create dummies\n",
    "X['advertiser']=X['advertiser'].astype(str)\n",
    "X['adexchange']=X['adexchange'].astype(str)"
   ]
  },
  {
   "cell_type": "code",
   "execution_count": 40,
   "metadata": {
    "collapsed": true
   },
   "outputs": [],
   "source": [
    "X_dummies = pd.get_dummies(X)\n",
    "X_dummies = X_dummies.astype(\"int\")"
   ]
  },
  {
   "cell_type": "code",
   "execution_count": 41,
   "metadata": {
    "collapsed": false
   },
   "outputs": [
    {
     "data": {
      "text/plain": [
       "XGBRegressor(base_score=0.5, colsample_bylevel=1, colsample_bytree=1, gamma=0,\n",
       "       learning_rate=0.5, max_delta_step=0, max_depth=3,\n",
       "       min_child_weight=1, missing=None, n_estimators=100, nthread=-1,\n",
       "       objective='reg:linear', reg_alpha=0, reg_lambda=1,\n",
       "       scale_pos_weight=1, seed=0, silent=True, subsample=1)"
      ]
     },
     "execution_count": 41,
     "metadata": {},
     "output_type": "execute_result"
    }
   ],
   "source": [
    "# Train the model to estimate bidprice\n",
    "clf_payprice = xgb.XGBRegressor(n_estimators=100, max_depth = 3, learning_rate=0.5)\n",
    "clf_payprice.fit(X_dummies, y)"
   ]
  },
  {
   "cell_type": "code",
   "execution_count": 42,
   "metadata": {
    "collapsed": false
   },
   "outputs": [
    {
     "data": {
      "text/plain": [
       "array([ 64.08774567,  64.3501358 ,  59.76527405, ...,  60.41659164,\n",
       "        38.14165878,  73.8842926 ], dtype=float32)"
      ]
     },
     "execution_count": 42,
     "metadata": {},
     "output_type": "execute_result"
    }
   ],
   "source": [
    "# Payprice\n",
    "y_train_pay_pred = clf_payprice.predict(X_dummies)\n",
    "y_train_pay_pred"
   ]
  },
  {
   "cell_type": "code",
   "execution_count": 43,
   "metadata": {
    "collapsed": false
   },
   "outputs": [
    {
     "name": "stdout",
     "output_type": "stream",
     "text": [
      "RMSE: 53.48294316856131\n"
     ]
    }
   ],
   "source": [
    "# Mean square errors ==> the measurement of errors\n",
    "import math\n",
    "from sklearn.metrics import mean_squared_error\n",
    "MSE = mean_squared_error(y_train_pay_pred ,y)\n",
    "RMSE = math.sqrt(MSE)\n",
    "print(\"RMSE: \" + str(RMSE))"
   ]
  },
  {
   "cell_type": "code",
   "execution_count": 44,
   "metadata": {
    "collapsed": true
   },
   "outputs": [],
   "source": [
    "check_pay_df = pd.DataFrame([y, y_train_pay_pred]).T"
   ]
  },
  {
   "cell_type": "code",
   "execution_count": 45,
   "metadata": {
    "collapsed": false
   },
   "outputs": [
    {
     "data": {
      "text/plain": [
       "4.276015649494036e-06"
      ]
     },
     "execution_count": 45,
     "metadata": {},
     "output_type": "execute_result"
    }
   ],
   "source": [
    "#check_pay_df.head()\n",
    "check_pay_df.columns = ['payprice', 'predict_payprice']\n",
    "check_pay_df.astype('float')\n",
    "gap = check_pay_df['payprice']-check_pay_df['predict_payprice']\n",
    "gap.mean()"
   ]
  },
  {
   "cell_type": "markdown",
   "metadata": {},
   "source": [
    "### (2) Check a model using Validation dataset - predict payprice"
   ]
  },
  {
   "cell_type": "code",
   "execution_count": 46,
   "metadata": {
    "collapsed": true
   },
   "outputs": [],
   "source": [
    "# predict payrice by using the following features\n",
    "# \"click\", \"weekday\", \"hour\", \"region\", \"city\", \"area\", \"slotprice\", \"advertiser\", \"adexchange\"\n",
    "# \"click\" represents pCTR that we calculated above\n",
    "# create the column \"pCTR\", and put pCTR.\n",
    "valid_df['pCTR'] = y_val_pred"
   ]
  },
  {
   "cell_type": "code",
   "execution_count": 47,
   "metadata": {
    "collapsed": false
   },
   "outputs": [
    {
     "data": {
      "text/html": [
       "<div>\n",
       "<table border=\"1\" class=\"dataframe\">\n",
       "  <thead>\n",
       "    <tr style=\"text-align: right;\">\n",
       "      <th></th>\n",
       "      <th>click</th>\n",
       "      <th>weekday</th>\n",
       "      <th>hour</th>\n",
       "      <th>bidid</th>\n",
       "      <th>logtype</th>\n",
       "      <th>userid</th>\n",
       "      <th>useragent</th>\n",
       "      <th>IP</th>\n",
       "      <th>region</th>\n",
       "      <th>city</th>\n",
       "      <th>...</th>\n",
       "      <th>slotformat</th>\n",
       "      <th>slotprice</th>\n",
       "      <th>creative</th>\n",
       "      <th>bidprice</th>\n",
       "      <th>payprice</th>\n",
       "      <th>keypage</th>\n",
       "      <th>advertiser</th>\n",
       "      <th>usertag</th>\n",
       "      <th>area</th>\n",
       "      <th>pCTR</th>\n",
       "    </tr>\n",
       "  </thead>\n",
       "  <tbody>\n",
       "    <tr>\n",
       "      <th>0</th>\n",
       "      <td>0</td>\n",
       "      <td>5</td>\n",
       "      <td>14</td>\n",
       "      <td>91c6a6b9e90c0f54d3230815a5a3e22e</td>\n",
       "      <td>1</td>\n",
       "      <td>u_Vhk7C5STO8TZ3s8</td>\n",
       "      <td>windows_ie</td>\n",
       "      <td>14.122.240.*</td>\n",
       "      <td>216</td>\n",
       "      <td>232</td>\n",
       "      <td>...</td>\n",
       "      <td>1</td>\n",
       "      <td>0</td>\n",
       "      <td>449a22cd91d9042eda3d3a1b89a22ea8</td>\n",
       "      <td>227</td>\n",
       "      <td>102</td>\n",
       "      <td>0f951a030abdaedd733ee8d114ce2944</td>\n",
       "      <td>3427</td>\n",
       "      <td>10006,10063,10059,10111</td>\n",
       "      <td>75000</td>\n",
       "      <td>0.001031</td>\n",
       "    </tr>\n",
       "    <tr>\n",
       "      <th>1</th>\n",
       "      <td>0</td>\n",
       "      <td>3</td>\n",
       "      <td>14</td>\n",
       "      <td>24b3621ad3b063b6c09c541781d534b3</td>\n",
       "      <td>1</td>\n",
       "      <td>u_DANDbCAksMy</td>\n",
       "      <td>android_safari</td>\n",
       "      <td>116.22.55.*</td>\n",
       "      <td>216</td>\n",
       "      <td>217</td>\n",
       "      <td>...</td>\n",
       "      <td>10</td>\n",
       "      <td>118</td>\n",
       "      <td>11908</td>\n",
       "      <td>277</td>\n",
       "      <td>118</td>\n",
       "      <td>null</td>\n",
       "      <td>2997</td>\n",
       "      <td>null</td>\n",
       "      <td>16000</td>\n",
       "      <td>0.007828</td>\n",
       "    </tr>\n",
       "    <tr>\n",
       "      <th>2</th>\n",
       "      <td>0</td>\n",
       "      <td>1</td>\n",
       "      <td>13</td>\n",
       "      <td>6e7bce0a9ad42f479827d37bf9618a9d</td>\n",
       "      <td>1</td>\n",
       "      <td>u_VhkxPnKHPo1H3Vb</td>\n",
       "      <td>windows_ie</td>\n",
       "      <td>60.215.242.*</td>\n",
       "      <td>146</td>\n",
       "      <td>149</td>\n",
       "      <td>...</td>\n",
       "      <td>0</td>\n",
       "      <td>70</td>\n",
       "      <td>d01411218cc79bc49d2a4078c4093b76</td>\n",
       "      <td>241</td>\n",
       "      <td>77</td>\n",
       "      <td>b2e35064f3549d447edbbdfb1f707c8c</td>\n",
       "      <td>3427</td>\n",
       "      <td>null</td>\n",
       "      <td>90000</td>\n",
       "      <td>0.001302</td>\n",
       "    </tr>\n",
       "    <tr>\n",
       "      <th>3</th>\n",
       "      <td>0</td>\n",
       "      <td>5</td>\n",
       "      <td>18</td>\n",
       "      <td>6873feca381b8293bf418ba8408a014c</td>\n",
       "      <td>1</td>\n",
       "      <td>u_Vh5zL3B83ln9Xbl</td>\n",
       "      <td>windows_chrome</td>\n",
       "      <td>27.193.87.*</td>\n",
       "      <td>146</td>\n",
       "      <td>148</td>\n",
       "      <td>...</td>\n",
       "      <td>0</td>\n",
       "      <td>70</td>\n",
       "      <td>c46090c887c257b61ab1fa11baee91d8</td>\n",
       "      <td>241</td>\n",
       "      <td>77</td>\n",
       "      <td>0f951a030abdaedd733ee8d114ce2944</td>\n",
       "      <td>3427</td>\n",
       "      <td>null</td>\n",
       "      <td>90000</td>\n",
       "      <td>0.001211</td>\n",
       "    </tr>\n",
       "    <tr>\n",
       "      <th>4</th>\n",
       "      <td>0</td>\n",
       "      <td>5</td>\n",
       "      <td>14</td>\n",
       "      <td>7e6430333c552cf0b32bb21dc792d2df</td>\n",
       "      <td>1</td>\n",
       "      <td>u_VhKPOr5wOt9HQsj</td>\n",
       "      <td>windows_ie</td>\n",
       "      <td>183.228.214.*</td>\n",
       "      <td>275</td>\n",
       "      <td>275</td>\n",
       "      <td>...</td>\n",
       "      <td>0</td>\n",
       "      <td>5</td>\n",
       "      <td>ff5123fb9333ca095034c62fdaaf51aa</td>\n",
       "      <td>300</td>\n",
       "      <td>178</td>\n",
       "      <td>361e128affece850342293213691a043</td>\n",
       "      <td>3386</td>\n",
       "      <td>null</td>\n",
       "      <td>94080</td>\n",
       "      <td>0.000701</td>\n",
       "    </tr>\n",
       "  </tbody>\n",
       "</table>\n",
       "<p>5 rows × 28 columns</p>\n",
       "</div>"
      ],
      "text/plain": [
       "   click  weekday  hour                             bidid  logtype  \\\n",
       "0      0        5    14  91c6a6b9e90c0f54d3230815a5a3e22e        1   \n",
       "1      0        3    14  24b3621ad3b063b6c09c541781d534b3        1   \n",
       "2      0        1    13  6e7bce0a9ad42f479827d37bf9618a9d        1   \n",
       "3      0        5    18  6873feca381b8293bf418ba8408a014c        1   \n",
       "4      0        5    14  7e6430333c552cf0b32bb21dc792d2df        1   \n",
       "\n",
       "              userid       useragent             IP  region  city    ...     \\\n",
       "0  u_Vhk7C5STO8TZ3s8      windows_ie   14.122.240.*     216   232    ...      \n",
       "1      u_DANDbCAksMy  android_safari    116.22.55.*     216   217    ...      \n",
       "2  u_VhkxPnKHPo1H3Vb      windows_ie   60.215.242.*     146   149    ...      \n",
       "3  u_Vh5zL3B83ln9Xbl  windows_chrome    27.193.87.*     146   148    ...      \n",
       "4  u_VhKPOr5wOt9HQsj      windows_ie  183.228.214.*     275   275    ...      \n",
       "\n",
       "   slotformat slotprice                          creative bidprice payprice  \\\n",
       "0           1         0  449a22cd91d9042eda3d3a1b89a22ea8      227      102   \n",
       "1          10       118                             11908      277      118   \n",
       "2           0        70  d01411218cc79bc49d2a4078c4093b76      241       77   \n",
       "3           0        70  c46090c887c257b61ab1fa11baee91d8      241       77   \n",
       "4           0         5  ff5123fb9333ca095034c62fdaaf51aa      300      178   \n",
       "\n",
       "                            keypage  advertiser                  usertag  \\\n",
       "0  0f951a030abdaedd733ee8d114ce2944        3427  10006,10063,10059,10111   \n",
       "1                              null        2997                     null   \n",
       "2  b2e35064f3549d447edbbdfb1f707c8c        3427                     null   \n",
       "3  0f951a030abdaedd733ee8d114ce2944        3427                     null   \n",
       "4  361e128affece850342293213691a043        3386                     null   \n",
       "\n",
       "    area      pCTR  \n",
       "0  75000  0.001031  \n",
       "1  16000  0.007828  \n",
       "2  90000  0.001302  \n",
       "3  90000  0.001211  \n",
       "4  94080  0.000701  \n",
       "\n",
       "[5 rows x 28 columns]"
      ]
     },
     "execution_count": 47,
     "metadata": {},
     "output_type": "execute_result"
    }
   ],
   "source": [
    "valid_df.head()"
   ]
  },
  {
   "cell_type": "code",
   "execution_count": 48,
   "metadata": {
    "collapsed": true
   },
   "outputs": [],
   "source": [
    "#Define features\n",
    "features = [\"pCTR\", \"weekday\", \"hour\", \"region\", \"city\", \"area\", \"slotprice\", \"advertiser\", \"adexchange\"]\n",
    "# Prepare X and y (We use X for predict Payprice, and y for check the error)\n",
    "X = valid_df[features]\n",
    "y = valid_df['payprice']"
   ]
  },
  {
   "cell_type": "code",
   "execution_count": 49,
   "metadata": {
    "collapsed": false
   },
   "outputs": [
    {
     "name": "stderr",
     "output_type": "stream",
     "text": [
      "/Users/nishimuraaki/anaconda/lib/python3.5/site-packages/ipykernel/__main__.py:2: SettingWithCopyWarning: \n",
      "A value is trying to be set on a copy of a slice from a DataFrame.\n",
      "Try using .loc[row_indexer,col_indexer] = value instead\n",
      "\n",
      "See the caveats in the documentation: http://pandas.pydata.org/pandas-docs/stable/indexing.html#indexing-view-versus-copy\n",
      "  from ipykernel import kernelapp as app\n",
      "/Users/nishimuraaki/anaconda/lib/python3.5/site-packages/ipykernel/__main__.py:3: SettingWithCopyWarning: \n",
      "A value is trying to be set on a copy of a slice from a DataFrame.\n",
      "Try using .loc[row_indexer,col_indexer] = value instead\n",
      "\n",
      "See the caveats in the documentation: http://pandas.pydata.org/pandas-docs/stable/indexing.html#indexing-view-versus-copy\n",
      "  app.launch_new_instance()\n"
     ]
    }
   ],
   "source": [
    "# convert int datatype to strings in order to create dummies\n",
    "X['advertiser']=X['advertiser'].astype(str)\n",
    "X['adexchange']=X['adexchange'].astype(str)"
   ]
  },
  {
   "cell_type": "code",
   "execution_count": 50,
   "metadata": {
    "collapsed": true
   },
   "outputs": [],
   "source": [
    "X_dummies = pd.get_dummies(X)"
   ]
  },
  {
   "cell_type": "code",
   "execution_count": 51,
   "metadata": {
    "collapsed": true
   },
   "outputs": [],
   "source": [
    "X_dummies = X_dummies.astype(\"int\")"
   ]
  },
  {
   "cell_type": "code",
   "execution_count": 52,
   "metadata": {
    "collapsed": false
   },
   "outputs": [
    {
     "data": {
      "text/plain": [
       "array([ 121.86728668,  133.04492188,   82.28263855, ...,   71.50524902,\n",
       "         58.57446289,   62.5828743 ], dtype=float32)"
      ]
     },
     "execution_count": 52,
     "metadata": {},
     "output_type": "execute_result"
    }
   ],
   "source": [
    "# Payprice\n",
    "y_valid_pay_pred = clf_payprice.predict(X_dummies)\n",
    "y_valid_pay_pred"
   ]
  },
  {
   "cell_type": "code",
   "execution_count": 53,
   "metadata": {
    "collapsed": false
   },
   "outputs": [
    {
     "name": "stdout",
     "output_type": "stream",
     "text": [
      "RMSE: 53.55377873895582\n"
     ]
    }
   ],
   "source": [
    "# Mean square errors ==> the measurement of errors\n",
    "import math\n",
    "from sklearn.metrics import mean_squared_error\n",
    "MSE = mean_squared_error(y_valid_pay_pred ,y)\n",
    "RMSE = math.sqrt(MSE)\n",
    "print(\"RMSE: \" + str(RMSE))"
   ]
  },
  {
   "cell_type": "code",
   "execution_count": 54,
   "metadata": {
    "collapsed": true
   },
   "outputs": [],
   "source": [
    "check_pay_df = pd.DataFrame([y, y_valid_pay_pred]).T"
   ]
  },
  {
   "cell_type": "code",
   "execution_count": 55,
   "metadata": {
    "collapsed": false
   },
   "outputs": [
    {
     "data": {
      "text/plain": [
       "0.0342409603625537"
      ]
     },
     "execution_count": 55,
     "metadata": {},
     "output_type": "execute_result"
    }
   ],
   "source": [
    "#check_pay_df.head()\n",
    "check_pay_df.columns = ['payprice', 'predict_payprice']\n",
    "check_pay_df.astype('float')\n",
    "gap = check_pay_df['payprice']-check_pay_df['predict_payprice']\n",
    "gap.mean()"
   ]
  },
  {
   "cell_type": "markdown",
   "metadata": {},
   "source": [
    "### (3) Check a model using Validation dataset - predict payprice"
   ]
  },
  {
   "cell_type": "code",
   "execution_count": 56,
   "metadata": {
    "collapsed": true
   },
   "outputs": [],
   "source": [
    "# predict payprice by using the following features\n",
    "# \"click\", \"weekday\", \"hour\", \"region\", \"city\", \"area\", \"slotprice\", \"advertiser\", \"adexchange\"\n",
    "# \"click\" represents pCTR that we calculated above\n",
    "# create the column \"pCTR\", and put pCTR.\n",
    "test_df['pCTR'] = y_test_pred"
   ]
  },
  {
   "cell_type": "code",
   "execution_count": 57,
   "metadata": {
    "collapsed": true
   },
   "outputs": [],
   "source": [
    "#Define features\n",
    "features = [\"pCTR\", \"weekday\", \"hour\", \"region\", \"city\", \"area\", \"slotprice\", \"advertiser\", \"adexchange\"]\n",
    "# Prepare X \n",
    "X = test_df[features]"
   ]
  },
  {
   "cell_type": "code",
   "execution_count": 58,
   "metadata": {
    "collapsed": false
   },
   "outputs": [
    {
     "data": {
      "text/html": [
       "<div>\n",
       "<table border=\"1\" class=\"dataframe\">\n",
       "  <thead>\n",
       "    <tr style=\"text-align: right;\">\n",
       "      <th></th>\n",
       "      <th>pCTR</th>\n",
       "      <th>weekday</th>\n",
       "      <th>hour</th>\n",
       "      <th>region</th>\n",
       "      <th>city</th>\n",
       "      <th>area</th>\n",
       "      <th>slotprice</th>\n",
       "      <th>advertiser</th>\n",
       "      <th>adexchange</th>\n",
       "    </tr>\n",
       "  </thead>\n",
       "  <tbody>\n",
       "    <tr>\n",
       "      <th>0</th>\n",
       "      <td>0.001065</td>\n",
       "      <td>0</td>\n",
       "      <td>17</td>\n",
       "      <td>80</td>\n",
       "      <td>85</td>\n",
       "      <td>75000</td>\n",
       "      <td>0</td>\n",
       "      <td>3427</td>\n",
       "      <td>1</td>\n",
       "    </tr>\n",
       "    <tr>\n",
       "      <th>1</th>\n",
       "      <td>0.000127</td>\n",
       "      <td>5</td>\n",
       "      <td>22</td>\n",
       "      <td>1</td>\n",
       "      <td>1</td>\n",
       "      <td>90000</td>\n",
       "      <td>80</td>\n",
       "      <td>1458</td>\n",
       "      <td>3</td>\n",
       "    </tr>\n",
       "    <tr>\n",
       "      <th>2</th>\n",
       "      <td>0.000286</td>\n",
       "      <td>2</td>\n",
       "      <td>13</td>\n",
       "      <td>3</td>\n",
       "      <td>8</td>\n",
       "      <td>90000</td>\n",
       "      <td>20</td>\n",
       "      <td>3427</td>\n",
       "      <td>3</td>\n",
       "    </tr>\n",
       "    <tr>\n",
       "      <th>3</th>\n",
       "      <td>0.000350</td>\n",
       "      <td>4</td>\n",
       "      <td>17</td>\n",
       "      <td>40</td>\n",
       "      <td>46</td>\n",
       "      <td>94080</td>\n",
       "      <td>0</td>\n",
       "      <td>3386</td>\n",
       "      <td>1</td>\n",
       "    </tr>\n",
       "    <tr>\n",
       "      <th>4</th>\n",
       "      <td>0.000189</td>\n",
       "      <td>6</td>\n",
       "      <td>20</td>\n",
       "      <td>146</td>\n",
       "      <td>151</td>\n",
       "      <td>90000</td>\n",
       "      <td>31</td>\n",
       "      <td>3476</td>\n",
       "      <td>3</td>\n",
       "    </tr>\n",
       "  </tbody>\n",
       "</table>\n",
       "</div>"
      ],
      "text/plain": [
       "       pCTR  weekday  hour  region  city   area  slotprice  advertiser  \\\n",
       "0  0.001065        0    17      80    85  75000          0        3427   \n",
       "1  0.000127        5    22       1     1  90000         80        1458   \n",
       "2  0.000286        2    13       3     8  90000         20        3427   \n",
       "3  0.000350        4    17      40    46  94080          0        3386   \n",
       "4  0.000189        6    20     146   151  90000         31        3476   \n",
       "\n",
       "   adexchange  \n",
       "0           1  \n",
       "1           3  \n",
       "2           3  \n",
       "3           1  \n",
       "4           3  "
      ]
     },
     "execution_count": 58,
     "metadata": {},
     "output_type": "execute_result"
    }
   ],
   "source": [
    "X.head()"
   ]
  },
  {
   "cell_type": "code",
   "execution_count": 59,
   "metadata": {
    "collapsed": false
   },
   "outputs": [
    {
     "name": "stderr",
     "output_type": "stream",
     "text": [
      "/Users/nishimuraaki/anaconda/lib/python3.5/site-packages/ipykernel/__main__.py:2: SettingWithCopyWarning: \n",
      "A value is trying to be set on a copy of a slice from a DataFrame.\n",
      "Try using .loc[row_indexer,col_indexer] = value instead\n",
      "\n",
      "See the caveats in the documentation: http://pandas.pydata.org/pandas-docs/stable/indexing.html#indexing-view-versus-copy\n",
      "  from ipykernel import kernelapp as app\n",
      "/Users/nishimuraaki/anaconda/lib/python3.5/site-packages/ipykernel/__main__.py:3: SettingWithCopyWarning: \n",
      "A value is trying to be set on a copy of a slice from a DataFrame.\n",
      "Try using .loc[row_indexer,col_indexer] = value instead\n",
      "\n",
      "See the caveats in the documentation: http://pandas.pydata.org/pandas-docs/stable/indexing.html#indexing-view-versus-copy\n",
      "  app.launch_new_instance()\n"
     ]
    }
   ],
   "source": [
    "# convert int datatype to strings in order to create dummies\n",
    "X['advertiser']=X['advertiser'].astype(str)\n",
    "X['adexchange']=X['adexchange'].astype(str)"
   ]
  },
  {
   "cell_type": "code",
   "execution_count": 60,
   "metadata": {
    "collapsed": true
   },
   "outputs": [],
   "source": [
    "X_dummies = pd.get_dummies(X)"
   ]
  },
  {
   "cell_type": "code",
   "execution_count": 61,
   "metadata": {
    "collapsed": true
   },
   "outputs": [],
   "source": [
    "X_dummies = X_dummies.astype(\"int\")"
   ]
  },
  {
   "cell_type": "code",
   "execution_count": 62,
   "metadata": {
    "collapsed": false
   },
   "outputs": [
    {
     "data": {
      "text/plain": [
       "array([ 126.35311127,   82.78099823,   44.54524231, ...,  147.65446472,\n",
       "         81.44208527,  116.61724091], dtype=float32)"
      ]
     },
     "execution_count": 62,
     "metadata": {},
     "output_type": "execute_result"
    }
   ],
   "source": [
    "# Payprice\n",
    "y_test_pay_pred = clf_payprice.predict(X_dummies)\n",
    "y_test_pay_pred"
   ]
  },
  {
   "cell_type": "markdown",
   "metadata": {},
   "source": [
    "# Third step - predict bidprice"
   ]
  },
  {
   "cell_type": "markdown",
   "metadata": {},
   "source": [
    "### (1) Create a model using Train dataset - predict bidprice"
   ]
  },
  {
   "cell_type": "code",
   "execution_count": 63,
   "metadata": {
    "collapsed": false
   },
   "outputs": [],
   "source": [
    "# predict bitprice by using the following features\n",
    "# \"predicted payprice\", \"click\", \"weekday\", \"hour\", \"region\", \"city\", \"area\", \"slotprice\", \"advertiser\", \"adexchange\"\n",
    "adjust_train['pPayprice'] = y_train_pay_pred"
   ]
  },
  {
   "cell_type": "code",
   "execution_count": 64,
   "metadata": {
    "collapsed": false
   },
   "outputs": [
    {
     "data": {
      "text/html": [
       "<div>\n",
       "<table border=\"1\" class=\"dataframe\">\n",
       "  <thead>\n",
       "    <tr style=\"text-align: right;\">\n",
       "      <th></th>\n",
       "      <th>click</th>\n",
       "      <th>weekday</th>\n",
       "      <th>hour</th>\n",
       "      <th>bidid</th>\n",
       "      <th>logtype</th>\n",
       "      <th>userid</th>\n",
       "      <th>useragent</th>\n",
       "      <th>IP</th>\n",
       "      <th>region</th>\n",
       "      <th>city</th>\n",
       "      <th>...</th>\n",
       "      <th>slotprice</th>\n",
       "      <th>creative</th>\n",
       "      <th>bidprice</th>\n",
       "      <th>payprice</th>\n",
       "      <th>keypage</th>\n",
       "      <th>advertiser</th>\n",
       "      <th>usertag</th>\n",
       "      <th>area</th>\n",
       "      <th>pCTR</th>\n",
       "      <th>pPayprice</th>\n",
       "    </tr>\n",
       "  </thead>\n",
       "  <tbody>\n",
       "    <tr>\n",
       "      <th>0</th>\n",
       "      <td>0</td>\n",
       "      <td>1</td>\n",
       "      <td>14</td>\n",
       "      <td>fdfae6789b787899f1b875de3ab8b21a</td>\n",
       "      <td>1</td>\n",
       "      <td>u_Vh1OPkFv3q5CFdR</td>\n",
       "      <td>windows_ie</td>\n",
       "      <td>180.107.112.*</td>\n",
       "      <td>80</td>\n",
       "      <td>85</td>\n",
       "      <td>...</td>\n",
       "      <td>5</td>\n",
       "      <td>612599432d200b093719dd1f372f7a30</td>\n",
       "      <td>300</td>\n",
       "      <td>54</td>\n",
       "      <td>bebefa5efe83beee17a3d245e7c5085b</td>\n",
       "      <td>1458</td>\n",
       "      <td>13866,10063</td>\n",
       "      <td>28080</td>\n",
       "      <td>0.000701</td>\n",
       "      <td>64.087746</td>\n",
       "    </tr>\n",
       "    <tr>\n",
       "      <th>1</th>\n",
       "      <td>0</td>\n",
       "      <td>2</td>\n",
       "      <td>20</td>\n",
       "      <td>372883147cdefbc495fb5082f79dde9b</td>\n",
       "      <td>1</td>\n",
       "      <td>u_VhkRL6dCOTLsq-c</td>\n",
       "      <td>windows_chrome</td>\n",
       "      <td>125.120.199.*</td>\n",
       "      <td>94</td>\n",
       "      <td>95</td>\n",
       "      <td>...</td>\n",
       "      <td>5</td>\n",
       "      <td>8dff45ed862a740986dbe688aafee7e5</td>\n",
       "      <td>249</td>\n",
       "      <td>42</td>\n",
       "      <td>15b749127478946f161a54dc0dad27c8</td>\n",
       "      <td>3476</td>\n",
       "      <td>10063,10111</td>\n",
       "      <td>62500</td>\n",
       "      <td>0.000117</td>\n",
       "      <td>64.350136</td>\n",
       "    </tr>\n",
       "    <tr>\n",
       "      <th>2</th>\n",
       "      <td>0</td>\n",
       "      <td>5</td>\n",
       "      <td>9</td>\n",
       "      <td>2912cb5947e1fad450e2473c2f61ef75</td>\n",
       "      <td>1</td>\n",
       "      <td>u_VhkyORMrD8TP3GL</td>\n",
       "      <td>windows_ie</td>\n",
       "      <td>120.196.64.*</td>\n",
       "      <td>216</td>\n",
       "      <td>217</td>\n",
       "      <td>...</td>\n",
       "      <td>0</td>\n",
       "      <td>77819d3e0b3467fe5c7b16d68ad923a1</td>\n",
       "      <td>300</td>\n",
       "      <td>76</td>\n",
       "      <td>bebefa5efe83beee17a3d245e7c5085b</td>\n",
       "      <td>1458</td>\n",
       "      <td>10063</td>\n",
       "      <td>94080</td>\n",
       "      <td>0.000531</td>\n",
       "      <td>59.765274</td>\n",
       "    </tr>\n",
       "    <tr>\n",
       "      <th>3</th>\n",
       "      <td>0</td>\n",
       "      <td>2</td>\n",
       "      <td>20</td>\n",
       "      <td>d7b7d61d1e50e1d27d210928d28a9b61</td>\n",
       "      <td>1</td>\n",
       "      <td>u_VhkyLRqVL2a4eWL</td>\n",
       "      <td>windows_ie</td>\n",
       "      <td>219.131.122.*</td>\n",
       "      <td>216</td>\n",
       "      <td>221</td>\n",
       "      <td>...</td>\n",
       "      <td>162</td>\n",
       "      <td>7184c9560e68e977187e67e45a4f3198</td>\n",
       "      <td>238</td>\n",
       "      <td>182</td>\n",
       "      <td>0f951a030abdaedd733ee8d114ce2944</td>\n",
       "      <td>3427</td>\n",
       "      <td>10077,10111</td>\n",
       "      <td>65520</td>\n",
       "      <td>0.000959</td>\n",
       "      <td>185.056381</td>\n",
       "    </tr>\n",
       "    <tr>\n",
       "      <th>4</th>\n",
       "      <td>0</td>\n",
       "      <td>6</td>\n",
       "      <td>9</td>\n",
       "      <td>657d317dc4045bb79c2652abbea07530</td>\n",
       "      <td>1</td>\n",
       "      <td>u_Vh1zOJuQOtTCBgL</td>\n",
       "      <td>windows_chrome</td>\n",
       "      <td>123.190.78.*</td>\n",
       "      <td>40</td>\n",
       "      <td>48</td>\n",
       "      <td>...</td>\n",
       "      <td>0</td>\n",
       "      <td>c938195f9e404b4f38c7e71bf50263e5</td>\n",
       "      <td>238</td>\n",
       "      <td>34</td>\n",
       "      <td>a3becb967c015e9acb5e72f22b100ef8</td>\n",
       "      <td>3476</td>\n",
       "      <td>10031,13042,10006,10057,13866,10063,14273,1005...</td>\n",
       "      <td>85500</td>\n",
       "      <td>-0.000054</td>\n",
       "      <td>81.921036</td>\n",
       "    </tr>\n",
       "  </tbody>\n",
       "</table>\n",
       "<p>5 rows × 29 columns</p>\n",
       "</div>"
      ],
      "text/plain": [
       "   click  weekday  hour                             bidid  logtype  \\\n",
       "0      0        1    14  fdfae6789b787899f1b875de3ab8b21a        1   \n",
       "1      0        2    20  372883147cdefbc495fb5082f79dde9b        1   \n",
       "2      0        5     9  2912cb5947e1fad450e2473c2f61ef75        1   \n",
       "3      0        2    20  d7b7d61d1e50e1d27d210928d28a9b61        1   \n",
       "4      0        6     9  657d317dc4045bb79c2652abbea07530        1   \n",
       "\n",
       "              userid       useragent             IP  region  city     ...      \\\n",
       "0  u_Vh1OPkFv3q5CFdR      windows_ie  180.107.112.*      80    85     ...       \n",
       "1  u_VhkRL6dCOTLsq-c  windows_chrome  125.120.199.*      94    95     ...       \n",
       "2  u_VhkyORMrD8TP3GL      windows_ie   120.196.64.*     216   217     ...       \n",
       "3  u_VhkyLRqVL2a4eWL      windows_ie  219.131.122.*     216   221     ...       \n",
       "4  u_Vh1zOJuQOtTCBgL  windows_chrome   123.190.78.*      40    48     ...       \n",
       "\n",
       "   slotprice                          creative bidprice payprice  \\\n",
       "0          5  612599432d200b093719dd1f372f7a30      300       54   \n",
       "1          5  8dff45ed862a740986dbe688aafee7e5      249       42   \n",
       "2          0  77819d3e0b3467fe5c7b16d68ad923a1      300       76   \n",
       "3        162  7184c9560e68e977187e67e45a4f3198      238      182   \n",
       "4          0  c938195f9e404b4f38c7e71bf50263e5      238       34   \n",
       "\n",
       "                            keypage  advertiser  \\\n",
       "0  bebefa5efe83beee17a3d245e7c5085b        1458   \n",
       "1  15b749127478946f161a54dc0dad27c8        3476   \n",
       "2  bebefa5efe83beee17a3d245e7c5085b        1458   \n",
       "3  0f951a030abdaedd733ee8d114ce2944        3427   \n",
       "4  a3becb967c015e9acb5e72f22b100ef8        3476   \n",
       "\n",
       "                                             usertag   area      pCTR  \\\n",
       "0                                        13866,10063  28080  0.000701   \n",
       "1                                        10063,10111  62500  0.000117   \n",
       "2                                              10063  94080  0.000531   \n",
       "3                                        10077,10111  65520  0.000959   \n",
       "4  10031,13042,10006,10057,13866,10063,14273,1005...  85500 -0.000054   \n",
       "\n",
       "    pPayprice  \n",
       "0   64.087746  \n",
       "1   64.350136  \n",
       "2   59.765274  \n",
       "3  185.056381  \n",
       "4   81.921036  \n",
       "\n",
       "[5 rows x 29 columns]"
      ]
     },
     "execution_count": 64,
     "metadata": {},
     "output_type": "execute_result"
    }
   ],
   "source": [
    "adjust_train.head()"
   ]
  },
  {
   "cell_type": "code",
   "execution_count": 65,
   "metadata": {
    "collapsed": false
   },
   "outputs": [],
   "source": [
    "#Define features\n",
    "features = [\"pPayprice\", \"pCTR\", \"weekday\", \"hour\", \"region\", \"city\", \"area\", \"slotprice\", \"advertiser\", \"adexchange\"]\n",
    "# Prepare X and y\n",
    "X = adjust_train[features]\n",
    "y = adjust_train['bidprice']"
   ]
  },
  {
   "cell_type": "code",
   "execution_count": 66,
   "metadata": {
    "collapsed": false
   },
   "outputs": [
    {
     "data": {
      "text/html": [
       "<div>\n",
       "<table border=\"1\" class=\"dataframe\">\n",
       "  <thead>\n",
       "    <tr style=\"text-align: right;\">\n",
       "      <th></th>\n",
       "      <th>pPayprice</th>\n",
       "      <th>pCTR</th>\n",
       "      <th>weekday</th>\n",
       "      <th>hour</th>\n",
       "      <th>region</th>\n",
       "      <th>city</th>\n",
       "      <th>area</th>\n",
       "      <th>slotprice</th>\n",
       "      <th>advertiser</th>\n",
       "      <th>adexchange</th>\n",
       "    </tr>\n",
       "  </thead>\n",
       "  <tbody>\n",
       "    <tr>\n",
       "      <th>0</th>\n",
       "      <td>64.087746</td>\n",
       "      <td>0.000701</td>\n",
       "      <td>1</td>\n",
       "      <td>14</td>\n",
       "      <td>80</td>\n",
       "      <td>85</td>\n",
       "      <td>28080</td>\n",
       "      <td>5</td>\n",
       "      <td>1458</td>\n",
       "      <td>2</td>\n",
       "    </tr>\n",
       "    <tr>\n",
       "      <th>1</th>\n",
       "      <td>64.350136</td>\n",
       "      <td>0.000117</td>\n",
       "      <td>2</td>\n",
       "      <td>20</td>\n",
       "      <td>94</td>\n",
       "      <td>95</td>\n",
       "      <td>62500</td>\n",
       "      <td>5</td>\n",
       "      <td>3476</td>\n",
       "      <td>2</td>\n",
       "    </tr>\n",
       "    <tr>\n",
       "      <th>2</th>\n",
       "      <td>59.765274</td>\n",
       "      <td>0.000531</td>\n",
       "      <td>5</td>\n",
       "      <td>9</td>\n",
       "      <td>216</td>\n",
       "      <td>217</td>\n",
       "      <td>94080</td>\n",
       "      <td>0</td>\n",
       "      <td>1458</td>\n",
       "      <td>1</td>\n",
       "    </tr>\n",
       "    <tr>\n",
       "      <th>3</th>\n",
       "      <td>185.056381</td>\n",
       "      <td>0.000959</td>\n",
       "      <td>2</td>\n",
       "      <td>20</td>\n",
       "      <td>216</td>\n",
       "      <td>221</td>\n",
       "      <td>65520</td>\n",
       "      <td>162</td>\n",
       "      <td>3427</td>\n",
       "      <td>2</td>\n",
       "    </tr>\n",
       "    <tr>\n",
       "      <th>4</th>\n",
       "      <td>81.921036</td>\n",
       "      <td>-0.000054</td>\n",
       "      <td>6</td>\n",
       "      <td>9</td>\n",
       "      <td>40</td>\n",
       "      <td>48</td>\n",
       "      <td>85500</td>\n",
       "      <td>0</td>\n",
       "      <td>3476</td>\n",
       "      <td>1</td>\n",
       "    </tr>\n",
       "  </tbody>\n",
       "</table>\n",
       "</div>"
      ],
      "text/plain": [
       "    pPayprice      pCTR  weekday  hour  region  city   area  slotprice  \\\n",
       "0   64.087746  0.000701        1    14      80    85  28080          5   \n",
       "1   64.350136  0.000117        2    20      94    95  62500          5   \n",
       "2   59.765274  0.000531        5     9     216   217  94080          0   \n",
       "3  185.056381  0.000959        2    20     216   221  65520        162   \n",
       "4   81.921036 -0.000054        6     9      40    48  85500          0   \n",
       "\n",
       "   advertiser  adexchange  \n",
       "0        1458           2  \n",
       "1        3476           2  \n",
       "2        1458           1  \n",
       "3        3427           2  \n",
       "4        3476           1  "
      ]
     },
     "execution_count": 66,
     "metadata": {},
     "output_type": "execute_result"
    }
   ],
   "source": [
    "X.head()"
   ]
  },
  {
   "cell_type": "code",
   "execution_count": 67,
   "metadata": {
    "collapsed": false
   },
   "outputs": [
    {
     "name": "stderr",
     "output_type": "stream",
     "text": [
      "/Users/nishimuraaki/anaconda/lib/python3.5/site-packages/ipykernel/__main__.py:2: SettingWithCopyWarning: \n",
      "A value is trying to be set on a copy of a slice from a DataFrame.\n",
      "Try using .loc[row_indexer,col_indexer] = value instead\n",
      "\n",
      "See the caveats in the documentation: http://pandas.pydata.org/pandas-docs/stable/indexing.html#indexing-view-versus-copy\n",
      "  from ipykernel import kernelapp as app\n",
      "/Users/nishimuraaki/anaconda/lib/python3.5/site-packages/ipykernel/__main__.py:3: SettingWithCopyWarning: \n",
      "A value is trying to be set on a copy of a slice from a DataFrame.\n",
      "Try using .loc[row_indexer,col_indexer] = value instead\n",
      "\n",
      "See the caveats in the documentation: http://pandas.pydata.org/pandas-docs/stable/indexing.html#indexing-view-versus-copy\n",
      "  app.launch_new_instance()\n"
     ]
    }
   ],
   "source": [
    "# convert int datatype to strings in order to create dummies\n",
    "X['advertiser']=X['advertiser'].astype(str)\n",
    "X['adexchange']=X['adexchange'].astype(str)"
   ]
  },
  {
   "cell_type": "code",
   "execution_count": 68,
   "metadata": {
    "collapsed": true
   },
   "outputs": [],
   "source": [
    "X_dummies = pd.get_dummies(X)"
   ]
  },
  {
   "cell_type": "code",
   "execution_count": 69,
   "metadata": {
    "collapsed": true
   },
   "outputs": [],
   "source": [
    "X_dummies = X_dummies.astype(\"int\")"
   ]
  },
  {
   "cell_type": "code",
   "execution_count": 70,
   "metadata": {
    "collapsed": false
   },
   "outputs": [
    {
     "data": {
      "text/plain": [
       "XGBRegressor(base_score=0.5, colsample_bylevel=1, colsample_bytree=1, gamma=0,\n",
       "       learning_rate=0.5, max_delta_step=0, max_depth=3,\n",
       "       min_child_weight=1, missing=None, n_estimators=100, nthread=-1,\n",
       "       objective='reg:linear', reg_alpha=0, reg_lambda=1,\n",
       "       scale_pos_weight=1, seed=0, silent=True, subsample=1)"
      ]
     },
     "execution_count": 70,
     "metadata": {},
     "output_type": "execute_result"
    }
   ],
   "source": [
    "# Train the model to estimate bidprice\n",
    "clf_bidprice = xgb.XGBRegressor(n_estimators=100, max_depth = 3, learning_rate=0.5)\n",
    "clf_bidprice.fit(X_dummies, y)"
   ]
  },
  {
   "cell_type": "code",
   "execution_count": 71,
   "metadata": {
    "collapsed": false
   },
   "outputs": [
    {
     "data": {
      "text/plain": [
       "array([ 300.00994873,  249.03451538,  299.9876709 , ...,  249.0466156 ,\n",
       "        240.98391724,  299.99597168], dtype=float32)"
      ]
     },
     "execution_count": 71,
     "metadata": {},
     "output_type": "execute_result"
    }
   ],
   "source": [
    "# Bidprice\n",
    "y_train_bid_pred = clf_bidprice.predict(X_dummies)\n",
    "y_train_bid_pred"
   ]
  },
  {
   "cell_type": "code",
   "execution_count": 72,
   "metadata": {
    "collapsed": false
   },
   "outputs": [
    {
     "name": "stdout",
     "output_type": "stream",
     "text": [
      "RMSE: 0.09503523239111931\n"
     ]
    }
   ],
   "source": [
    "# Mean square errors ==> the measurement of errors\n",
    "import math\n",
    "from sklearn.metrics import mean_squared_error\n",
    "MSE = mean_squared_error(y_train_bid_pred ,y)\n",
    "RMSE = math.sqrt(MSE)\n",
    "print(\"RMSE: \" + str(RMSE))"
   ]
  },
  {
   "cell_type": "markdown",
   "metadata": {},
   "source": [
    "### (2) Check a model using Validation dataset - predict bidprice"
   ]
  },
  {
   "cell_type": "code",
   "execution_count": 73,
   "metadata": {
    "collapsed": false
   },
   "outputs": [],
   "source": [
    "# predict bitprice by using the following features\n",
    "# \"predict payprice\", \"click\", \"weekday\", \"hour\", \"region\", \"city\", \"area\", \"slotprice\", \"advertiser\", \"adexchange\"\n",
    "valid_df['pPayprice'] = y_valid_pay_pred"
   ]
  },
  {
   "cell_type": "code",
   "execution_count": 74,
   "metadata": {
    "collapsed": false
   },
   "outputs": [
    {
     "data": {
      "text/html": [
       "<div>\n",
       "<table border=\"1\" class=\"dataframe\">\n",
       "  <thead>\n",
       "    <tr style=\"text-align: right;\">\n",
       "      <th></th>\n",
       "      <th>click</th>\n",
       "      <th>weekday</th>\n",
       "      <th>hour</th>\n",
       "      <th>bidid</th>\n",
       "      <th>logtype</th>\n",
       "      <th>userid</th>\n",
       "      <th>useragent</th>\n",
       "      <th>IP</th>\n",
       "      <th>region</th>\n",
       "      <th>city</th>\n",
       "      <th>...</th>\n",
       "      <th>slotprice</th>\n",
       "      <th>creative</th>\n",
       "      <th>bidprice</th>\n",
       "      <th>payprice</th>\n",
       "      <th>keypage</th>\n",
       "      <th>advertiser</th>\n",
       "      <th>usertag</th>\n",
       "      <th>area</th>\n",
       "      <th>pCTR</th>\n",
       "      <th>pPayprice</th>\n",
       "    </tr>\n",
       "  </thead>\n",
       "  <tbody>\n",
       "    <tr>\n",
       "      <th>0</th>\n",
       "      <td>0</td>\n",
       "      <td>5</td>\n",
       "      <td>14</td>\n",
       "      <td>91c6a6b9e90c0f54d3230815a5a3e22e</td>\n",
       "      <td>1</td>\n",
       "      <td>u_Vhk7C5STO8TZ3s8</td>\n",
       "      <td>windows_ie</td>\n",
       "      <td>14.122.240.*</td>\n",
       "      <td>216</td>\n",
       "      <td>232</td>\n",
       "      <td>...</td>\n",
       "      <td>0</td>\n",
       "      <td>449a22cd91d9042eda3d3a1b89a22ea8</td>\n",
       "      <td>227</td>\n",
       "      <td>102</td>\n",
       "      <td>0f951a030abdaedd733ee8d114ce2944</td>\n",
       "      <td>3427</td>\n",
       "      <td>10006,10063,10059,10111</td>\n",
       "      <td>75000</td>\n",
       "      <td>0.001031</td>\n",
       "      <td>121.867287</td>\n",
       "    </tr>\n",
       "    <tr>\n",
       "      <th>1</th>\n",
       "      <td>0</td>\n",
       "      <td>3</td>\n",
       "      <td>14</td>\n",
       "      <td>24b3621ad3b063b6c09c541781d534b3</td>\n",
       "      <td>1</td>\n",
       "      <td>u_DANDbCAksMy</td>\n",
       "      <td>android_safari</td>\n",
       "      <td>116.22.55.*</td>\n",
       "      <td>216</td>\n",
       "      <td>217</td>\n",
       "      <td>...</td>\n",
       "      <td>118</td>\n",
       "      <td>11908</td>\n",
       "      <td>277</td>\n",
       "      <td>118</td>\n",
       "      <td>null</td>\n",
       "      <td>2997</td>\n",
       "      <td>null</td>\n",
       "      <td>16000</td>\n",
       "      <td>0.007828</td>\n",
       "      <td>133.044922</td>\n",
       "    </tr>\n",
       "    <tr>\n",
       "      <th>2</th>\n",
       "      <td>0</td>\n",
       "      <td>1</td>\n",
       "      <td>13</td>\n",
       "      <td>6e7bce0a9ad42f479827d37bf9618a9d</td>\n",
       "      <td>1</td>\n",
       "      <td>u_VhkxPnKHPo1H3Vb</td>\n",
       "      <td>windows_ie</td>\n",
       "      <td>60.215.242.*</td>\n",
       "      <td>146</td>\n",
       "      <td>149</td>\n",
       "      <td>...</td>\n",
       "      <td>70</td>\n",
       "      <td>d01411218cc79bc49d2a4078c4093b76</td>\n",
       "      <td>241</td>\n",
       "      <td>77</td>\n",
       "      <td>b2e35064f3549d447edbbdfb1f707c8c</td>\n",
       "      <td>3427</td>\n",
       "      <td>null</td>\n",
       "      <td>90000</td>\n",
       "      <td>0.001302</td>\n",
       "      <td>82.282639</td>\n",
       "    </tr>\n",
       "    <tr>\n",
       "      <th>3</th>\n",
       "      <td>0</td>\n",
       "      <td>5</td>\n",
       "      <td>18</td>\n",
       "      <td>6873feca381b8293bf418ba8408a014c</td>\n",
       "      <td>1</td>\n",
       "      <td>u_Vh5zL3B83ln9Xbl</td>\n",
       "      <td>windows_chrome</td>\n",
       "      <td>27.193.87.*</td>\n",
       "      <td>146</td>\n",
       "      <td>148</td>\n",
       "      <td>...</td>\n",
       "      <td>70</td>\n",
       "      <td>c46090c887c257b61ab1fa11baee91d8</td>\n",
       "      <td>241</td>\n",
       "      <td>77</td>\n",
       "      <td>0f951a030abdaedd733ee8d114ce2944</td>\n",
       "      <td>3427</td>\n",
       "      <td>null</td>\n",
       "      <td>90000</td>\n",
       "      <td>0.001211</td>\n",
       "      <td>81.311287</td>\n",
       "    </tr>\n",
       "    <tr>\n",
       "      <th>4</th>\n",
       "      <td>0</td>\n",
       "      <td>5</td>\n",
       "      <td>14</td>\n",
       "      <td>7e6430333c552cf0b32bb21dc792d2df</td>\n",
       "      <td>1</td>\n",
       "      <td>u_VhKPOr5wOt9HQsj</td>\n",
       "      <td>windows_ie</td>\n",
       "      <td>183.228.214.*</td>\n",
       "      <td>275</td>\n",
       "      <td>275</td>\n",
       "      <td>...</td>\n",
       "      <td>5</td>\n",
       "      <td>ff5123fb9333ca095034c62fdaaf51aa</td>\n",
       "      <td>300</td>\n",
       "      <td>178</td>\n",
       "      <td>361e128affece850342293213691a043</td>\n",
       "      <td>3386</td>\n",
       "      <td>null</td>\n",
       "      <td>94080</td>\n",
       "      <td>0.000701</td>\n",
       "      <td>68.958977</td>\n",
       "    </tr>\n",
       "  </tbody>\n",
       "</table>\n",
       "<p>5 rows × 29 columns</p>\n",
       "</div>"
      ],
      "text/plain": [
       "   click  weekday  hour                             bidid  logtype  \\\n",
       "0      0        5    14  91c6a6b9e90c0f54d3230815a5a3e22e        1   \n",
       "1      0        3    14  24b3621ad3b063b6c09c541781d534b3        1   \n",
       "2      0        1    13  6e7bce0a9ad42f479827d37bf9618a9d        1   \n",
       "3      0        5    18  6873feca381b8293bf418ba8408a014c        1   \n",
       "4      0        5    14  7e6430333c552cf0b32bb21dc792d2df        1   \n",
       "\n",
       "              userid       useragent             IP  region  city     ...      \\\n",
       "0  u_Vhk7C5STO8TZ3s8      windows_ie   14.122.240.*     216   232     ...       \n",
       "1      u_DANDbCAksMy  android_safari    116.22.55.*     216   217     ...       \n",
       "2  u_VhkxPnKHPo1H3Vb      windows_ie   60.215.242.*     146   149     ...       \n",
       "3  u_Vh5zL3B83ln9Xbl  windows_chrome    27.193.87.*     146   148     ...       \n",
       "4  u_VhKPOr5wOt9HQsj      windows_ie  183.228.214.*     275   275     ...       \n",
       "\n",
       "   slotprice                          creative bidprice payprice  \\\n",
       "0          0  449a22cd91d9042eda3d3a1b89a22ea8      227      102   \n",
       "1        118                             11908      277      118   \n",
       "2         70  d01411218cc79bc49d2a4078c4093b76      241       77   \n",
       "3         70  c46090c887c257b61ab1fa11baee91d8      241       77   \n",
       "4          5  ff5123fb9333ca095034c62fdaaf51aa      300      178   \n",
       "\n",
       "                            keypage  advertiser                  usertag  \\\n",
       "0  0f951a030abdaedd733ee8d114ce2944        3427  10006,10063,10059,10111   \n",
       "1                              null        2997                     null   \n",
       "2  b2e35064f3549d447edbbdfb1f707c8c        3427                     null   \n",
       "3  0f951a030abdaedd733ee8d114ce2944        3427                     null   \n",
       "4  361e128affece850342293213691a043        3386                     null   \n",
       "\n",
       "    area      pCTR   pPayprice  \n",
       "0  75000  0.001031  121.867287  \n",
       "1  16000  0.007828  133.044922  \n",
       "2  90000  0.001302   82.282639  \n",
       "3  90000  0.001211   81.311287  \n",
       "4  94080  0.000701   68.958977  \n",
       "\n",
       "[5 rows x 29 columns]"
      ]
     },
     "execution_count": 74,
     "metadata": {},
     "output_type": "execute_result"
    }
   ],
   "source": [
    "valid_df.head()"
   ]
  },
  {
   "cell_type": "code",
   "execution_count": 75,
   "metadata": {
    "collapsed": true
   },
   "outputs": [],
   "source": [
    "#Define features\n",
    "features = [\"pPayprice\", \"pCTR\", \"weekday\", \"hour\", \"region\", \"city\", \"area\", \"slotprice\", \"advertiser\", \"adexchange\"]\n",
    "# Prepare X and y (We use X for predict pCTR, and y for check the error)\n",
    "X = valid_df[features]\n",
    "y = valid_df['bidprice']"
   ]
  },
  {
   "cell_type": "code",
   "execution_count": 76,
   "metadata": {
    "collapsed": false
   },
   "outputs": [
    {
     "data": {
      "text/html": [
       "<div>\n",
       "<table border=\"1\" class=\"dataframe\">\n",
       "  <thead>\n",
       "    <tr style=\"text-align: right;\">\n",
       "      <th></th>\n",
       "      <th>pPayprice</th>\n",
       "      <th>pCTR</th>\n",
       "      <th>weekday</th>\n",
       "      <th>hour</th>\n",
       "      <th>region</th>\n",
       "      <th>city</th>\n",
       "      <th>area</th>\n",
       "      <th>slotprice</th>\n",
       "      <th>advertiser</th>\n",
       "      <th>adexchange</th>\n",
       "    </tr>\n",
       "  </thead>\n",
       "  <tbody>\n",
       "    <tr>\n",
       "      <th>0</th>\n",
       "      <td>121.867287</td>\n",
       "      <td>0.001031</td>\n",
       "      <td>5</td>\n",
       "      <td>14</td>\n",
       "      <td>216</td>\n",
       "      <td>232</td>\n",
       "      <td>75000</td>\n",
       "      <td>0</td>\n",
       "      <td>3427</td>\n",
       "      <td>1</td>\n",
       "    </tr>\n",
       "    <tr>\n",
       "      <th>1</th>\n",
       "      <td>133.044922</td>\n",
       "      <td>0.007828</td>\n",
       "      <td>3</td>\n",
       "      <td>14</td>\n",
       "      <td>216</td>\n",
       "      <td>217</td>\n",
       "      <td>16000</td>\n",
       "      <td>118</td>\n",
       "      <td>2997</td>\n",
       "      <td>0</td>\n",
       "    </tr>\n",
       "    <tr>\n",
       "      <th>2</th>\n",
       "      <td>82.282639</td>\n",
       "      <td>0.001302</td>\n",
       "      <td>1</td>\n",
       "      <td>13</td>\n",
       "      <td>146</td>\n",
       "      <td>149</td>\n",
       "      <td>90000</td>\n",
       "      <td>70</td>\n",
       "      <td>3427</td>\n",
       "      <td>3</td>\n",
       "    </tr>\n",
       "    <tr>\n",
       "      <th>3</th>\n",
       "      <td>81.311287</td>\n",
       "      <td>0.001211</td>\n",
       "      <td>5</td>\n",
       "      <td>18</td>\n",
       "      <td>146</td>\n",
       "      <td>148</td>\n",
       "      <td>90000</td>\n",
       "      <td>70</td>\n",
       "      <td>3427</td>\n",
       "      <td>3</td>\n",
       "    </tr>\n",
       "    <tr>\n",
       "      <th>4</th>\n",
       "      <td>68.958977</td>\n",
       "      <td>0.000701</td>\n",
       "      <td>5</td>\n",
       "      <td>14</td>\n",
       "      <td>275</td>\n",
       "      <td>275</td>\n",
       "      <td>94080</td>\n",
       "      <td>5</td>\n",
       "      <td>3386</td>\n",
       "      <td>2</td>\n",
       "    </tr>\n",
       "  </tbody>\n",
       "</table>\n",
       "</div>"
      ],
      "text/plain": [
       "    pPayprice      pCTR  weekday  hour  region  city   area  slotprice  \\\n",
       "0  121.867287  0.001031        5    14     216   232  75000          0   \n",
       "1  133.044922  0.007828        3    14     216   217  16000        118   \n",
       "2   82.282639  0.001302        1    13     146   149  90000         70   \n",
       "3   81.311287  0.001211        5    18     146   148  90000         70   \n",
       "4   68.958977  0.000701        5    14     275   275  94080          5   \n",
       "\n",
       "   advertiser  adexchange  \n",
       "0        3427           1  \n",
       "1        2997           0  \n",
       "2        3427           3  \n",
       "3        3427           3  \n",
       "4        3386           2  "
      ]
     },
     "execution_count": 76,
     "metadata": {},
     "output_type": "execute_result"
    }
   ],
   "source": [
    "X.head()"
   ]
  },
  {
   "cell_type": "code",
   "execution_count": 77,
   "metadata": {
    "collapsed": false
   },
   "outputs": [
    {
     "name": "stderr",
     "output_type": "stream",
     "text": [
      "/Users/nishimuraaki/anaconda/lib/python3.5/site-packages/ipykernel/__main__.py:2: SettingWithCopyWarning: \n",
      "A value is trying to be set on a copy of a slice from a DataFrame.\n",
      "Try using .loc[row_indexer,col_indexer] = value instead\n",
      "\n",
      "See the caveats in the documentation: http://pandas.pydata.org/pandas-docs/stable/indexing.html#indexing-view-versus-copy\n",
      "  from ipykernel import kernelapp as app\n",
      "/Users/nishimuraaki/anaconda/lib/python3.5/site-packages/ipykernel/__main__.py:3: SettingWithCopyWarning: \n",
      "A value is trying to be set on a copy of a slice from a DataFrame.\n",
      "Try using .loc[row_indexer,col_indexer] = value instead\n",
      "\n",
      "See the caveats in the documentation: http://pandas.pydata.org/pandas-docs/stable/indexing.html#indexing-view-versus-copy\n",
      "  app.launch_new_instance()\n"
     ]
    }
   ],
   "source": [
    "# convert int datatype to strings in order to create dummies\n",
    "X['advertiser']=X['advertiser'].astype(str)\n",
    "X['adexchange']=X['adexchange'].astype(str)"
   ]
  },
  {
   "cell_type": "code",
   "execution_count": 78,
   "metadata": {
    "collapsed": true
   },
   "outputs": [],
   "source": [
    "X_dummies = pd.get_dummies(X)"
   ]
  },
  {
   "cell_type": "code",
   "execution_count": 79,
   "metadata": {
    "collapsed": true
   },
   "outputs": [],
   "source": [
    "X_dummies = X_dummies.astype(\"int\")"
   ]
  },
  {
   "cell_type": "code",
   "execution_count": 80,
   "metadata": {
    "collapsed": false
   },
   "outputs": [
    {
     "data": {
      "text/plain": [
       "array([ 226.94418335,  276.91467285,  240.99215698, ...,  237.98127747,\n",
       "        238.11968994,  299.98745728], dtype=float32)"
      ]
     },
     "execution_count": 80,
     "metadata": {},
     "output_type": "execute_result"
    }
   ],
   "source": [
    "# Bidprice\n",
    "y_valid_bid_pred = clf_bidprice.predict(X_dummies)\n",
    "y_valid_bid_pred"
   ]
  },
  {
   "cell_type": "code",
   "execution_count": 81,
   "metadata": {
    "collapsed": false
   },
   "outputs": [
    {
     "name": "stdout",
     "output_type": "stream",
     "text": [
      "RMSE: 0.09508061099565136\n"
     ]
    }
   ],
   "source": [
    "# Mean square errors ==> the measurement of errors\n",
    "import math\n",
    "from sklearn.metrics import mean_squared_error\n",
    "MSE = mean_squared_error(y_valid_bid_pred ,y)\n",
    "RMSE = math.sqrt(MSE)\n",
    "print(\"RMSE: \" + str(RMSE))"
   ]
  },
  {
   "cell_type": "markdown",
   "metadata": {},
   "source": [
    "### (3)  Apply a model to Test dataset - predict bidprice"
   ]
  },
  {
   "cell_type": "code",
   "execution_count": 82,
   "metadata": {
    "collapsed": false
   },
   "outputs": [],
   "source": [
    "# predict bitprice by using the following features\n",
    "# \"predicted payprice\", \"click\", \"weekday\", \"hour\", \"region\", \"city\", \"area\", \"slotprice\", \"advertiser\", \"adexchange\"\n",
    "test_df['pPayprice'] = y_test_pay_pred"
   ]
  },
  {
   "cell_type": "code",
   "execution_count": 83,
   "metadata": {
    "collapsed": true
   },
   "outputs": [],
   "source": [
    "#Define features\n",
    "features = [\"pPayprice\", \"pCTR\", \"weekday\", \"hour\", \"region\", \"city\", \"area\", \"slotprice\", \"advertiser\", \"adexchange\"]\n",
    "# Prepare X \n",
    "X = test_df[features]"
   ]
  },
  {
   "cell_type": "code",
   "execution_count": 84,
   "metadata": {
    "collapsed": false
   },
   "outputs": [
    {
     "data": {
      "text/html": [
       "<div>\n",
       "<table border=\"1\" class=\"dataframe\">\n",
       "  <thead>\n",
       "    <tr style=\"text-align: right;\">\n",
       "      <th></th>\n",
       "      <th>pPayprice</th>\n",
       "      <th>pCTR</th>\n",
       "      <th>weekday</th>\n",
       "      <th>hour</th>\n",
       "      <th>region</th>\n",
       "      <th>city</th>\n",
       "      <th>area</th>\n",
       "      <th>slotprice</th>\n",
       "      <th>advertiser</th>\n",
       "      <th>adexchange</th>\n",
       "    </tr>\n",
       "  </thead>\n",
       "  <tbody>\n",
       "    <tr>\n",
       "      <th>0</th>\n",
       "      <td>126.353111</td>\n",
       "      <td>0.001065</td>\n",
       "      <td>0</td>\n",
       "      <td>17</td>\n",
       "      <td>80</td>\n",
       "      <td>85</td>\n",
       "      <td>75000</td>\n",
       "      <td>0</td>\n",
       "      <td>3427</td>\n",
       "      <td>1</td>\n",
       "    </tr>\n",
       "    <tr>\n",
       "      <th>1</th>\n",
       "      <td>82.780998</td>\n",
       "      <td>0.000127</td>\n",
       "      <td>5</td>\n",
       "      <td>22</td>\n",
       "      <td>1</td>\n",
       "      <td>1</td>\n",
       "      <td>90000</td>\n",
       "      <td>80</td>\n",
       "      <td>1458</td>\n",
       "      <td>3</td>\n",
       "    </tr>\n",
       "    <tr>\n",
       "      <th>2</th>\n",
       "      <td>44.545242</td>\n",
       "      <td>0.000286</td>\n",
       "      <td>2</td>\n",
       "      <td>13</td>\n",
       "      <td>3</td>\n",
       "      <td>8</td>\n",
       "      <td>90000</td>\n",
       "      <td>20</td>\n",
       "      <td>3427</td>\n",
       "      <td>3</td>\n",
       "    </tr>\n",
       "    <tr>\n",
       "      <th>3</th>\n",
       "      <td>75.070518</td>\n",
       "      <td>0.000350</td>\n",
       "      <td>4</td>\n",
       "      <td>17</td>\n",
       "      <td>40</td>\n",
       "      <td>46</td>\n",
       "      <td>94080</td>\n",
       "      <td>0</td>\n",
       "      <td>3386</td>\n",
       "      <td>1</td>\n",
       "    </tr>\n",
       "    <tr>\n",
       "      <th>4</th>\n",
       "      <td>39.484688</td>\n",
       "      <td>0.000189</td>\n",
       "      <td>6</td>\n",
       "      <td>20</td>\n",
       "      <td>146</td>\n",
       "      <td>151</td>\n",
       "      <td>90000</td>\n",
       "      <td>31</td>\n",
       "      <td>3476</td>\n",
       "      <td>3</td>\n",
       "    </tr>\n",
       "  </tbody>\n",
       "</table>\n",
       "</div>"
      ],
      "text/plain": [
       "    pPayprice      pCTR  weekday  hour  region  city   area  slotprice  \\\n",
       "0  126.353111  0.001065        0    17      80    85  75000          0   \n",
       "1   82.780998  0.000127        5    22       1     1  90000         80   \n",
       "2   44.545242  0.000286        2    13       3     8  90000         20   \n",
       "3   75.070518  0.000350        4    17      40    46  94080          0   \n",
       "4   39.484688  0.000189        6    20     146   151  90000         31   \n",
       "\n",
       "   advertiser  adexchange  \n",
       "0        3427           1  \n",
       "1        1458           3  \n",
       "2        3427           3  \n",
       "3        3386           1  \n",
       "4        3476           3  "
      ]
     },
     "execution_count": 84,
     "metadata": {},
     "output_type": "execute_result"
    }
   ],
   "source": [
    "X.head()"
   ]
  },
  {
   "cell_type": "code",
   "execution_count": 85,
   "metadata": {
    "collapsed": false
   },
   "outputs": [
    {
     "name": "stderr",
     "output_type": "stream",
     "text": [
      "/Users/nishimuraaki/anaconda/lib/python3.5/site-packages/ipykernel/__main__.py:2: SettingWithCopyWarning: \n",
      "A value is trying to be set on a copy of a slice from a DataFrame.\n",
      "Try using .loc[row_indexer,col_indexer] = value instead\n",
      "\n",
      "See the caveats in the documentation: http://pandas.pydata.org/pandas-docs/stable/indexing.html#indexing-view-versus-copy\n",
      "  from ipykernel import kernelapp as app\n",
      "/Users/nishimuraaki/anaconda/lib/python3.5/site-packages/ipykernel/__main__.py:3: SettingWithCopyWarning: \n",
      "A value is trying to be set on a copy of a slice from a DataFrame.\n",
      "Try using .loc[row_indexer,col_indexer] = value instead\n",
      "\n",
      "See the caveats in the documentation: http://pandas.pydata.org/pandas-docs/stable/indexing.html#indexing-view-versus-copy\n",
      "  app.launch_new_instance()\n"
     ]
    }
   ],
   "source": [
    "# convert int datatype to strings in order to create dummies\n",
    "X['advertiser']=X['advertiser'].astype(str)\n",
    "X['adexchange']=X['adexchange'].astype(str)"
   ]
  },
  {
   "cell_type": "code",
   "execution_count": 86,
   "metadata": {
    "collapsed": false
   },
   "outputs": [],
   "source": [
    "X_dummies = pd.get_dummies(X)"
   ]
  },
  {
   "cell_type": "code",
   "execution_count": 87,
   "metadata": {
    "collapsed": true
   },
   "outputs": [],
   "source": [
    "X_dummies = X_dummies.astype(\"int\")"
   ]
  },
  {
   "cell_type": "code",
   "execution_count": 88,
   "metadata": {
    "collapsed": false
   },
   "outputs": [
    {
     "data": {
      "text/plain": [
       "array([ 226.97390747,  300.00396729,  240.98391724, ...,  227.00663757,\n",
       "        293.99832153,  293.92584229], dtype=float32)"
      ]
     },
     "execution_count": 88,
     "metadata": {},
     "output_type": "execute_result"
    }
   ],
   "source": [
    "# Bidprice\n",
    "y_test_bid_pred = clf_bidprice.predict(X_dummies)\n",
    "y_test_bid_pred"
   ]
  },
  {
   "cell_type": "markdown",
   "metadata": {},
   "source": [
    "# Evaluation"
   ]
  },
  {
   "cell_type": "markdown",
   "metadata": {},
   "source": [
    "### (1) validation dataset"
   ]
  },
  {
   "cell_type": "code",
   "execution_count": 89,
   "metadata": {
    "collapsed": false
   },
   "outputs": [
    {
     "data": {
      "text/plain": [
       "array([ 0.00103101,  0.00782758,  0.00130215, ...,  0.00015113,\n",
       "        0.00032473,  0.00096089], dtype=float32)"
      ]
     },
     "execution_count": 89,
     "metadata": {},
     "output_type": "execute_result"
    }
   ],
   "source": [
    "# predicted CTR\n",
    "pCTR_valid = y_val_pred\n",
    "pCTR_valid"
   ]
  },
  {
   "cell_type": "code",
   "execution_count": 90,
   "metadata": {
    "collapsed": false
   },
   "outputs": [
    {
     "data": {
      "text/plain": [
       "0.00075543436506681719"
      ]
     },
     "execution_count": 90,
     "metadata": {},
     "output_type": "execute_result"
    }
   ],
   "source": [
    "# predicted average CTR\n",
    "avg_pCTR = sum(pCTR_valid)/len(pCTR_valid)\n",
    "avg_pCTR"
   ]
  },
  {
   "cell_type": "code",
   "execution_count": 91,
   "metadata": {
    "collapsed": false
   },
   "outputs": [
    {
     "data": {
      "text/plain": [
       "0.0007539641500055046"
      ]
     },
     "execution_count": 91,
     "metadata": {},
     "output_type": "execute_result"
    }
   ],
   "source": [
    "# Actual average CTR in validation dataset\n",
    "only_ones = valid_df[valid_df.click == 1]\n",
    "actual_avgCTR = len(only_ones)/len(valid_df)\n",
    "actual_avgCTR"
   ]
  },
  {
   "cell_type": "markdown",
   "metadata": {},
   "source": [
    "==> avg_pCTR and actual avgCTR are close to each other."
   ]
  },
  {
   "cell_type": "code",
   "execution_count": 92,
   "metadata": {
    "collapsed": false
   },
   "outputs": [
    {
     "data": {
      "text/html": [
       "<div>\n",
       "<table border=\"1\" class=\"dataframe\">\n",
       "  <thead>\n",
       "    <tr style=\"text-align: right;\">\n",
       "      <th></th>\n",
       "      <th>click</th>\n",
       "      <th>weekday</th>\n",
       "      <th>hour</th>\n",
       "      <th>bidid</th>\n",
       "      <th>logtype</th>\n",
       "      <th>userid</th>\n",
       "      <th>useragent</th>\n",
       "      <th>IP</th>\n",
       "      <th>region</th>\n",
       "      <th>city</th>\n",
       "      <th>...</th>\n",
       "      <th>creative</th>\n",
       "      <th>bidprice</th>\n",
       "      <th>payprice</th>\n",
       "      <th>keypage</th>\n",
       "      <th>advertiser</th>\n",
       "      <th>usertag</th>\n",
       "      <th>area</th>\n",
       "      <th>pCTR</th>\n",
       "      <th>pPayprice</th>\n",
       "      <th>pBidprice</th>\n",
       "    </tr>\n",
       "  </thead>\n",
       "  <tbody>\n",
       "    <tr>\n",
       "      <th>0</th>\n",
       "      <td>0</td>\n",
       "      <td>5</td>\n",
       "      <td>14</td>\n",
       "      <td>91c6a6b9e90c0f54d3230815a5a3e22e</td>\n",
       "      <td>1</td>\n",
       "      <td>u_Vhk7C5STO8TZ3s8</td>\n",
       "      <td>windows_ie</td>\n",
       "      <td>14.122.240.*</td>\n",
       "      <td>216</td>\n",
       "      <td>232</td>\n",
       "      <td>...</td>\n",
       "      <td>449a22cd91d9042eda3d3a1b89a22ea8</td>\n",
       "      <td>227</td>\n",
       "      <td>102</td>\n",
       "      <td>0f951a030abdaedd733ee8d114ce2944</td>\n",
       "      <td>3427</td>\n",
       "      <td>10006,10063,10059,10111</td>\n",
       "      <td>75000</td>\n",
       "      <td>0.001031</td>\n",
       "      <td>121.867287</td>\n",
       "      <td>226.944183</td>\n",
       "    </tr>\n",
       "    <tr>\n",
       "      <th>1</th>\n",
       "      <td>0</td>\n",
       "      <td>3</td>\n",
       "      <td>14</td>\n",
       "      <td>24b3621ad3b063b6c09c541781d534b3</td>\n",
       "      <td>1</td>\n",
       "      <td>u_DANDbCAksMy</td>\n",
       "      <td>android_safari</td>\n",
       "      <td>116.22.55.*</td>\n",
       "      <td>216</td>\n",
       "      <td>217</td>\n",
       "      <td>...</td>\n",
       "      <td>11908</td>\n",
       "      <td>277</td>\n",
       "      <td>118</td>\n",
       "      <td>null</td>\n",
       "      <td>2997</td>\n",
       "      <td>null</td>\n",
       "      <td>16000</td>\n",
       "      <td>0.007828</td>\n",
       "      <td>133.044922</td>\n",
       "      <td>276.914673</td>\n",
       "    </tr>\n",
       "    <tr>\n",
       "      <th>2</th>\n",
       "      <td>0</td>\n",
       "      <td>1</td>\n",
       "      <td>13</td>\n",
       "      <td>6e7bce0a9ad42f479827d37bf9618a9d</td>\n",
       "      <td>1</td>\n",
       "      <td>u_VhkxPnKHPo1H3Vb</td>\n",
       "      <td>windows_ie</td>\n",
       "      <td>60.215.242.*</td>\n",
       "      <td>146</td>\n",
       "      <td>149</td>\n",
       "      <td>...</td>\n",
       "      <td>d01411218cc79bc49d2a4078c4093b76</td>\n",
       "      <td>241</td>\n",
       "      <td>77</td>\n",
       "      <td>b2e35064f3549d447edbbdfb1f707c8c</td>\n",
       "      <td>3427</td>\n",
       "      <td>null</td>\n",
       "      <td>90000</td>\n",
       "      <td>0.001302</td>\n",
       "      <td>82.282639</td>\n",
       "      <td>240.992157</td>\n",
       "    </tr>\n",
       "    <tr>\n",
       "      <th>3</th>\n",
       "      <td>0</td>\n",
       "      <td>5</td>\n",
       "      <td>18</td>\n",
       "      <td>6873feca381b8293bf418ba8408a014c</td>\n",
       "      <td>1</td>\n",
       "      <td>u_Vh5zL3B83ln9Xbl</td>\n",
       "      <td>windows_chrome</td>\n",
       "      <td>27.193.87.*</td>\n",
       "      <td>146</td>\n",
       "      <td>148</td>\n",
       "      <td>...</td>\n",
       "      <td>c46090c887c257b61ab1fa11baee91d8</td>\n",
       "      <td>241</td>\n",
       "      <td>77</td>\n",
       "      <td>0f951a030abdaedd733ee8d114ce2944</td>\n",
       "      <td>3427</td>\n",
       "      <td>null</td>\n",
       "      <td>90000</td>\n",
       "      <td>0.001211</td>\n",
       "      <td>81.311287</td>\n",
       "      <td>240.984558</td>\n",
       "    </tr>\n",
       "    <tr>\n",
       "      <th>4</th>\n",
       "      <td>0</td>\n",
       "      <td>5</td>\n",
       "      <td>14</td>\n",
       "      <td>7e6430333c552cf0b32bb21dc792d2df</td>\n",
       "      <td>1</td>\n",
       "      <td>u_VhKPOr5wOt9HQsj</td>\n",
       "      <td>windows_ie</td>\n",
       "      <td>183.228.214.*</td>\n",
       "      <td>275</td>\n",
       "      <td>275</td>\n",
       "      <td>...</td>\n",
       "      <td>ff5123fb9333ca095034c62fdaaf51aa</td>\n",
       "      <td>300</td>\n",
       "      <td>178</td>\n",
       "      <td>361e128affece850342293213691a043</td>\n",
       "      <td>3386</td>\n",
       "      <td>null</td>\n",
       "      <td>94080</td>\n",
       "      <td>0.000701</td>\n",
       "      <td>68.958977</td>\n",
       "      <td>300.015472</td>\n",
       "    </tr>\n",
       "  </tbody>\n",
       "</table>\n",
       "<p>5 rows × 30 columns</p>\n",
       "</div>"
      ],
      "text/plain": [
       "   click  weekday  hour                             bidid  logtype  \\\n",
       "0      0        5    14  91c6a6b9e90c0f54d3230815a5a3e22e        1   \n",
       "1      0        3    14  24b3621ad3b063b6c09c541781d534b3        1   \n",
       "2      0        1    13  6e7bce0a9ad42f479827d37bf9618a9d        1   \n",
       "3      0        5    18  6873feca381b8293bf418ba8408a014c        1   \n",
       "4      0        5    14  7e6430333c552cf0b32bb21dc792d2df        1   \n",
       "\n",
       "              userid       useragent             IP  region  city     ...      \\\n",
       "0  u_Vhk7C5STO8TZ3s8      windows_ie   14.122.240.*     216   232     ...       \n",
       "1      u_DANDbCAksMy  android_safari    116.22.55.*     216   217     ...       \n",
       "2  u_VhkxPnKHPo1H3Vb      windows_ie   60.215.242.*     146   149     ...       \n",
       "3  u_Vh5zL3B83ln9Xbl  windows_chrome    27.193.87.*     146   148     ...       \n",
       "4  u_VhKPOr5wOt9HQsj      windows_ie  183.228.214.*     275   275     ...       \n",
       "\n",
       "                           creative bidprice payprice  \\\n",
       "0  449a22cd91d9042eda3d3a1b89a22ea8      227      102   \n",
       "1                             11908      277      118   \n",
       "2  d01411218cc79bc49d2a4078c4093b76      241       77   \n",
       "3  c46090c887c257b61ab1fa11baee91d8      241       77   \n",
       "4  ff5123fb9333ca095034c62fdaaf51aa      300      178   \n",
       "\n",
       "                            keypage advertiser                  usertag  \\\n",
       "0  0f951a030abdaedd733ee8d114ce2944       3427  10006,10063,10059,10111   \n",
       "1                              null       2997                     null   \n",
       "2  b2e35064f3549d447edbbdfb1f707c8c       3427                     null   \n",
       "3  0f951a030abdaedd733ee8d114ce2944       3427                     null   \n",
       "4  361e128affece850342293213691a043       3386                     null   \n",
       "\n",
       "    area      pCTR   pPayprice   pBidprice  \n",
       "0  75000  0.001031  121.867287  226.944183  \n",
       "1  16000  0.007828  133.044922  276.914673  \n",
       "2  90000  0.001302   82.282639  240.992157  \n",
       "3  90000  0.001211   81.311287  240.984558  \n",
       "4  94080  0.000701   68.958977  300.015472  \n",
       "\n",
       "[5 rows x 30 columns]"
      ]
     },
     "execution_count": 92,
     "metadata": {},
     "output_type": "execute_result"
    }
   ],
   "source": [
    "valid_df['pBidprice'] = y_valid_bid_pred\n",
    "valid_df.head()"
   ]
  },
  {
   "cell_type": "markdown",
   "metadata": {},
   "source": [
    "### - Within the budget"
   ]
  },
  {
   "cell_type": "code",
   "execution_count": 93,
   "metadata": {
    "collapsed": false
   },
   "outputs": [
    {
     "name": "stdout",
     "output_type": "stream",
     "text": [
      "With budget 6250 we won  80  auctions and on  0  was clicked\n",
      "average pCTR:  0.0008391508017666638\n"
     ]
    }
   ],
   "source": [
    "# predicted Clicks - Validation dataset\n",
    "price_payed = 0\n",
    "clicked_won = 0 \n",
    "won = 0\n",
    "for i in range(len(valid_df)): \n",
    "    if (valid_df[\"pBidprice\"][i] > valid_df[\"pPayprice\"][i]):\n",
    "        price_payed = price_payed +  valid_df[\"pPayprice\"][i]\n",
    "        \n",
    "        if (price_payed < 6250):\n",
    "            won = won + 1\n",
    "            avg_pCTR_valid = valid_df['pCTR'][:i].mean()\n",
    "            if (valid_df['pCTR'][i] > 0.05):\n",
    "                clicked_won = clicked_won + 1\n",
    "        else:\n",
    "            break\n",
    "            \n",
    "print(\"With budget 6250 we won \", won, \" auctions and on \", clicked_won, \" was clicked\" )\n",
    "print(\"average pCTR: \", avg_pCTR_valid)"
   ]
  },
  {
   "cell_type": "code",
   "execution_count": 94,
   "metadata": {
    "collapsed": false
   },
   "outputs": [
    {
     "name": "stdout",
     "output_type": "stream",
     "text": [
      "Predict spend: 6241.06651878\n"
     ]
    }
   ],
   "source": [
    "# Spend (predict)\n",
    "# predicted Clicks - Validation dataset\n",
    "price_payed = 0\n",
    "clicked_won = 0 \n",
    "won = 0\n",
    "for i in range(80): \n",
    "    if (valid_df[\"pBidprice\"][i] > valid_df[\"pPayprice\"][i]):\n",
    "        price_payed = price_payed +  valid_df[\"pPayprice\"][i]\n",
    "        \n",
    "        if (price_payed < 6250):\n",
    "            won = won + 1\n",
    "            avg_pCTR_valid = valid_df['pCTR'][:i].mean()\n",
    "            if (valid_df['pCTR'][i] > 0.05):\n",
    "                clicked_won = clicked_won + 1\n",
    "        else:\n",
    "            break\n",
    "\n",
    "print(\"Predict spend:\", price_payed)\n",
    "# print(\"With budget 6250 we won \", won, \" auctions and on \", clicked_won, \" was clicked\" )\n",
    "# print(\"average pCTR: \", avg_pCTR_valid)"
   ]
  },
  {
   "cell_type": "code",
   "execution_count": 95,
   "metadata": {
    "collapsed": false
   },
   "outputs": [
    {
     "name": "stdout",
     "output_type": "stream",
     "text": [
      "With budget 6250 we won  75  auctions and on  0  was clicked\n"
     ]
    }
   ],
   "source": [
    "# Actual\n",
    "price_payed = 0\n",
    "clicked_won = 0 \n",
    "won = 0\n",
    "for i in range(len(valid_df)): \n",
    "    if (valid_df[\"bidprice\"][i] > valid_df[\"payprice\"][i]):\n",
    "        price_payed = price_payed +  valid_df[\"payprice\"][i]\n",
    "        \n",
    "        if (price_payed < 6250):\n",
    "            won = won + 1\n",
    "            #avg_pCTR_valid = valid_df[\"click\"][:i]/len(valid_df[\"click\"][:i])\n",
    "            if (valid_df['click'][i] == 1):\n",
    "                clicked_won = clicked_won + 1\n",
    "        else:\n",
    "            break\n",
    "            \n",
    "print(\"With budget 6250 we won \", won, \" auctions and on \", clicked_won, \" was clicked\" )\n",
    "#print(\"average pCTR: \", avg_pCTR_valid)"
   ]
  },
  {
   "cell_type": "code",
   "execution_count": 96,
   "metadata": {
    "collapsed": false
   },
   "outputs": [
    {
     "name": "stdout",
     "output_type": "stream",
     "text": [
      "Actual spend: 6237\n",
      "average pCTR:  0.0008292158599942923\n"
     ]
    }
   ],
   "source": [
    "# Actual Spend\n",
    "# Actual\n",
    "price_payed = 0\n",
    "clicked_won = 0 \n",
    "won = 0\n",
    "for i in range(76): \n",
    "    if (valid_df[\"bidprice\"][i] > valid_df[\"payprice\"][i]):\n",
    "        price_payed = price_payed +  valid_df[\"payprice\"][i]\n",
    "        \n",
    "        if (price_payed < 6250):\n",
    "            won = won + 1\n",
    "            avg_pCTR_valid = valid_df['pCTR'][:i].mean()\n",
    "            if (valid_df['click'][i] == 1):\n",
    "                clicked_won = clicked_won + 1\n",
    "        else:\n",
    "            break\n",
    "print(\"Actual spend:\", price_payed)        \n",
    "# print(\"With budget 6250 we won \", won, \" auctions and on \", clicked_won, \" was clicked\" )\n",
    "print(\"average pCTR: \", avg_pCTR_valid)"
   ]
  },
  {
   "cell_type": "markdown",
   "metadata": {
    "collapsed": true
   },
   "source": [
    "### (2) Test dataset"
   ]
  },
  {
   "cell_type": "code",
   "execution_count": 97,
   "metadata": {
    "collapsed": false
   },
   "outputs": [
    {
     "data": {
      "text/plain": [
       "array([ 0.00106522,  0.00012732,  0.00028607, ...,  0.00099769,\n",
       "        0.00038162,  0.0003221 ], dtype=float32)"
      ]
     },
     "execution_count": 97,
     "metadata": {},
     "output_type": "execute_result"
    }
   ],
   "source": [
    "# from step1(3)\n",
    "pCTR_test = y_test_pred\n",
    "pCTR_test"
   ]
  },
  {
   "cell_type": "code",
   "execution_count": 98,
   "metadata": {
    "collapsed": false
   },
   "outputs": [
    {
     "data": {
      "text/plain": [
       "0.00075485314287559232"
      ]
     },
     "execution_count": 98,
     "metadata": {},
     "output_type": "execute_result"
    }
   ],
   "source": [
    "# CTR\n",
    "avg_pCTR = sum(pCTR_test)/len(pCTR_test)\n",
    "avg_pCTR"
   ]
  },
  {
   "cell_type": "code",
   "execution_count": 99,
   "metadata": {
    "collapsed": false
   },
   "outputs": [],
   "source": [
    "test_df['pBidprice'] = y_test_bid_pred"
   ]
  },
  {
   "cell_type": "code",
   "execution_count": 100,
   "metadata": {
    "collapsed": false
   },
   "outputs": [
    {
     "name": "stdout",
     "output_type": "stream",
     "text": [
      "With budget 6250 we won  77  auctions and on  0  was clicked\n",
      "average pCTR:  0.0009124777279794216\n"
     ]
    }
   ],
   "source": [
    "# Clicks -Testdataset\n",
    "price_payed = 0\n",
    "clicked_won = 0 \n",
    "won = 0\n",
    "for i in range(len(test_df)): \n",
    "    if (test_df[\"pBidprice\"][i] > test_df[\"pPayprice\"][i]):\n",
    "        price_payed = price_payed +  test_df[\"pPayprice\"][i]\n",
    "        \n",
    "        if (price_payed < 6250):\n",
    "            won = won + 1\n",
    "            avg_pCTR_test = test_df['pCTR'][:i].mean()\n",
    "            if (test_df['pCTR'][i] > 0.05):\n",
    "                clicked_won = clicked_won + 1\n",
    "        else:\n",
    "            break\n",
    "            \n",
    "print(\"With budget 6250 we won \", won, \" auctions and on \", clicked_won, \" was clicked\" )\n",
    "print(\"average pCTR: \", avg_pCTR_test)"
   ]
  },
  {
   "cell_type": "code",
   "execution_count": 101,
   "metadata": {
    "collapsed": false
   },
   "outputs": [
    {
     "name": "stdout",
     "output_type": "stream",
     "text": [
      "With budget 6250 we won  77  auctions and on  0  was clicked\n"
     ]
    }
   ],
   "source": [
    "# Clicks -Testdataset\n",
    "price_payed = 0\n",
    "clicked_won = 0 \n",
    "won = 0\n",
    "for i in range(77): \n",
    "    if (test_df[\"pBidprice\"][i] > test_df[\"pPayprice\"][i]):\n",
    "        price_payed = price_payed +  test_df[\"pPayprice\"][i]\n",
    "        \n",
    "        if (price_payed < 6250):\n",
    "            won = won + 1\n",
    "            if (test_df['pCTR'][i] > 0.05):\n",
    "                clicked_won = clicked_won + 1\n",
    "        else:\n",
    "            break\n",
    "            \n",
    "print(\"With budget 6250 we won \", won, \" auctions and on \", clicked_won, \" was clicked\" )"
   ]
  },
  {
   "cell_type": "code",
   "execution_count": 102,
   "metadata": {
    "collapsed": false
   },
   "outputs": [
    {
     "data": {
      "text/plain": [
       "6199.9463500976562"
      ]
     },
     "execution_count": 102,
     "metadata": {},
     "output_type": "execute_result"
    }
   ],
   "source": [
    "price_payed"
   ]
  },
  {
   "cell_type": "code",
   "execution_count": 103,
   "metadata": {
    "collapsed": false
   },
   "outputs": [
    {
     "data": {
      "text/plain": [
       "299749"
      ]
     },
     "execution_count": 103,
     "metadata": {},
     "output_type": "execute_result"
    }
   ],
   "source": [
    "len((test_df[\"pPayprice\"] < test_df[\"pBidprice\"]))"
   ]
  },
  {
   "cell_type": "code",
   "execution_count": 104,
   "metadata": {
    "collapsed": false
   },
   "outputs": [
    {
     "data": {
      "text/plain": [
       "299749"
      ]
     },
     "execution_count": 104,
     "metadata": {},
     "output_type": "execute_result"
    }
   ],
   "source": [
    "len(test_df)"
   ]
  },
  {
   "cell_type": "code",
   "execution_count": 105,
   "metadata": {
    "collapsed": false
   },
   "outputs": [
    {
     "data": {
      "text/plain": [
       "5"
      ]
     },
     "execution_count": 105,
     "metadata": {},
     "output_type": "execute_result"
    }
   ],
   "source": [
    "# Clicks (Number of clicked bids)\n",
    "only_win_click = test_df[((test_df[\"pPayprice\"] < test_df[\"pBidprice\"]) & (test_df[\"pCTR\"] > 0.05))]\n",
    "len(only_win_click)"
   ]
  },
  {
   "cell_type": "code",
   "execution_count": 106,
   "metadata": {
    "collapsed": false
   },
   "outputs": [
    {
     "name": "stdout",
     "output_type": "stream",
     "text": [
      "CTR_win: 1.6683739693619804e-05\n"
     ]
    }
   ],
   "source": [
    "## CTR for only_win\n",
    "only_win = test_df[(test_df[\"pPayprice\"] < test_df[\"pBidprice\"])]\n",
    "CTR_win = len(only_win_click)/len(only_win)\n",
    "print('CTR_win:', CTR_win)"
   ]
  },
  {
   "cell_type": "code",
   "execution_count": 107,
   "metadata": {
    "collapsed": false
   },
   "outputs": [
    {
     "data": {
      "text/plain": [
       "24027514.0"
      ]
     },
     "execution_count": 107,
     "metadata": {},
     "output_type": "execute_result"
    }
   ],
   "source": [
    "# Compare payprice and bidprice, and if bidprice is higher than payprice, sum the payprice.\n",
    "# Total spend\n",
    "test_df.loc[(test_df[\"pPayprice\"] < test_df[\"pBidprice\"]), 'pPayprice'].sum()"
   ]
  },
  {
   "cell_type": "code",
   "execution_count": 108,
   "metadata": {
    "collapsed": false
   },
   "outputs": [
    {
     "name": "stdout",
     "output_type": "stream",
     "text": [
      "avg CPM: 80.1587961409\n"
     ]
    }
   ],
   "source": [
    "# avg CPM ... (cost /# of impressions)\n",
    "print('avg CPM:', sum(only_win['pPayprice'])/len(test_df))"
   ]
  },
  {
   "cell_type": "code",
   "execution_count": 109,
   "metadata": {
    "collapsed": false
   },
   "outputs": [
    {
     "name": "stdout",
     "output_type": "stream",
     "text": [
      "avg CPC: 4805503.79736\n"
     ]
    }
   ],
   "source": [
    "# avg CPC ... (cost/# click)\n",
    "print('avg CPC:', sum(only_win['pPayprice']/len(only_win_click)))"
   ]
  }
 ],
 "metadata": {
  "anaconda-cloud": {},
  "kernelspec": {
   "display_name": "Python [conda root]",
   "language": "python",
   "name": "conda-root-py"
  },
  "language_info": {
   "codemirror_mode": {
    "name": "ipython",
    "version": 3
   },
   "file_extension": ".py",
   "mimetype": "text/x-python",
   "name": "python",
   "nbconvert_exporter": "python",
   "pygments_lexer": "ipython3",
   "version": "3.5.2"
  }
 },
 "nbformat": 4,
 "nbformat_minor": 1
}
